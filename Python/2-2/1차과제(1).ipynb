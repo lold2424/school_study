{
  "cells": [
    {
      "cell_type": "markdown",
      "id": "2d03d247-e2d3-4afe-ab5e-83dc989ed62d",
      "metadata": {
        "id": "2d03d247-e2d3-4afe-ab5e-83dc989ed62d"
      },
      "source": [
        "# (실습) 기본자료형"
      ]
    },
    {
      "cell_type": "code",
      "execution_count": null,
      "id": "7865fd90",
      "metadata": {
        "id": "7865fd90"
      },
      "outputs": [],
      "source": [
        "from random import randint"
      ]
    },
    {
      "cell_type": "markdown",
      "id": "fd12dc3c",
      "metadata": {
        "id": "fd12dc3c"
      },
      "source": [
        "**문제 1**"
      ]
    },
    {
      "cell_type": "markdown",
      "id": "1539888f",
      "metadata": {
        "id": "1539888f"
      },
      "source": [
        "::1부터 999,999만 사이의 임의의 정수가 주어졌을 때 \n",
        "해당 수를 지정된 방식으로 출력하는 코드를 작성하라.\n",
        "\n",
        "예를 들어 123을 아래와 같이 출력해야 한다.\n",
        "\n",
        "```python\n",
        "입력하신 숫자는 000123입니다.\n",
        "```\n",
        "\n",
        "힌트: `randint()` 함수와 문자열 포매팅 활용. "
      ]
    },
    {
      "cell_type": "code",
      "execution_count": null,
      "id": "7a594361",
      "metadata": {
        "id": "7a594361",
        "colab": {
          "base_uri": "https://localhost:8080/"
        },
        "outputId": "2f28a510-8e88-4bd6-da1f-8c85f615e70a"
      },
      "outputs": [
        {
          "output_type": "stream",
          "name": "stdout",
          "text": [
            "[779202]\n"
          ]
        }
      ],
      "source": [
        "input = randint(1, 999999)\n",
        "\n",
        "print(\"[{:0>6}]\".format(input))"
      ]
    },
    {
      "cell_type": "markdown",
      "id": "e6920a3e",
      "metadata": {
        "id": "e6920a3e"
      },
      "source": [
        "**문제 2**"
      ]
    },
    {
      "cell_type": "markdown",
      "id": "6f1738d6",
      "metadata": {
        "id": "6f1738d6"
      },
      "source": [
        "오늘의 요일이 주어질 때, 100일 후의 요일을 출력하는 코드를 작성하여라.\n",
        "단, 일, 월, 화, 수, 목, 금, 토 각각은 0, 1, 2, 3, 4, 5, 6 으로 대신한다.\n",
        "단, 오늘의 요일은 0부터 6 사이의 수로 무작위적으로 선택된다."
      ]
    },
    {
      "cell_type": "code",
      "execution_count": null,
      "id": "6d0bc43b",
      "metadata": {
        "id": "6d0bc43b",
        "colab": {
          "base_uri": "https://localhost:8080/"
        },
        "outputId": "71410e63-910b-47c2-a761-101d412ad60c"
      },
      "outputs": [
        {
          "output_type": "stream",
          "name": "stdout",
          "text": [
            "0\n"
          ]
        }
      ],
      "source": [
        "today = randint(0, 6)\n",
        "\n",
        "for i in range(0, 7):\n",
        "  today += 1\n",
        "  if today > 6:\n",
        "    today -= 7\n",
        "print(today)\n",
        "\n",
        "# today가 위에서 있어야지 오류가 안나서 위로 올렸습니다."
      ]
    },
    {
      "cell_type": "markdown",
      "id": "f8b61e28",
      "metadata": {
        "id": "f8b61e28"
      },
      "source": [
        "**문제 3**"
      ]
    },
    {
      "cell_type": "markdown",
      "id": "edab045d",
      "metadata": {
        "id": "edab045d"
      },
      "source": [
        "주민등록번호 881120-1068234 등이 주워지면\n",
        "연월일(YYMMDD) 부분과 나머지 부분으로 구분하여 출력하는 코드를 작성하라.\n",
        "단, 주민등록번호는 `randint()` 함수를 이용하여 무작위로 생성한다. \n",
        "뒤 7자리는 1에서 4 사이의 숫자로 시작함에 주의하라. \n",
        "출력은 다음 형식으로 이루워져야 한다.\n",
        "\n",
        "```python\n",
        "생년월일: 881120\n",
        "  나머지: 1068234\n",
        "```\n",
        "\n",
        "힌트: 112500 등 실존하지 않는 생년월일을 피하기 위한 여러 가지 방식이 있을 수 있다. 제한을 가하거나, 아니면 특정 기준에 맞는 값이 나올 때까지 반복하면 된다. 아니면 6자리 수가 아닌 두 자리 수를 세 번 생성하여 결합할 수도 있다. "
      ]
    },
    {
      "cell_type": "code",
      "execution_count": null,
      "id": "a0a18ca2",
      "metadata": {
        "id": "a0a18ca2",
        "colab": {
          "base_uri": "https://localhost:8080/"
        },
        "outputId": "d262acee-c94c-4d51-bfa3-1f882bfc8dce"
      },
      "outputs": [
        {
          "output_type": "stream",
          "name": "stdout",
          "text": [
            "생년월일: 590502\n",
            "  나머지: 1718616\n"
          ]
        }
      ],
      "source": [
        "year1 = randint(0, 9)             # 연도 10의 자리수\n",
        "year2 = randint(0, 9)             # 연도 1의 자리수\n",
        "month1 = randint(0, 1)            # 개월 10의 자리수\n",
        "if month1 == 1:                   # 달의 10의 자리수가 1이라면\n",
        "  month2 = randint(0, 2)          # 10, 11, 12월의 경우밖에 없으므로 제한하여 생성\n",
        "else:                             # 달의 10의 자리수가 0이라면\n",
        "  month2 = randint(1, 9)          # 1, 2, 3, 4, 5, 6, 7, 8, 9밖에 없으므로 제한하여 생성\n",
        "month = str(month1) + str(month2) # 달의 1의 자리수와 10의 자리수를 합침\n",
        "monthint = month1 + month2        # int형으로 변환한 값 저장\n",
        "if monthint == 2:                 # \n",
        "  day1 = randint(0, 2)\n",
        "  if day1 == 0:\n",
        "    day2 = randint(1, 9)\n",
        "  else:\n",
        "    day2 = randint(0, 8)\n",
        "elif monthint == 4 or monthint == 6 or monthint == 9 or monthint == 11:\n",
        "  day1 = randint(0, 3)\n",
        "  if day1 == 0:\n",
        "    day2 = randint(1, 9)\n",
        "  elif day1 == 3:\n",
        "    day2 = 0\n",
        "  else:\n",
        "    day2 = randint(0, 9)\n",
        "else:\n",
        "  day1 = randint(0, 3)\n",
        "  if day1 == 0:\n",
        "    day2 = randint(1, 9)\n",
        "  elif day1 == 3:\n",
        "    day2 = randint(0, 1)\n",
        "  else:\n",
        "    day2 = randint(0, 9)\n",
        "day = str(day1) + str(day2)\n",
        "human1 = str(year1) + str(year2) + str(month) + str(day1) + str(day2)\n",
        "print(\"생년월일: {:0>6}\".format(str(human1)))\n",
        "\n",
        "sex = randint(1, 4)\n",
        "lastnum = randint(0, 999999)\n",
        "human2 = str(sex) + str(lastnum)\n",
        "print(\"  나머지: {:0>7}\".format(str(human2)))\n",
        "human = str(human1) + \"-\" + str(human2)"
      ]
    },
    {
      "cell_type": "markdown",
      "id": "df172b35",
      "metadata": {
        "id": "df172b35"
      },
      "source": [
        "**문제 4**"
      ]
    },
    {
      "cell_type": "markdown",
      "id": "bb93953a",
      "metadata": {
        "id": "bb93953a"
      },
      "source": [
        "주민등록번호 뒷자리의 맨 첫 번째 숫자는 성별을 나타낸다. \n",
        "주민등록번호에서 성별을 나타내는 숫자를 \n",
        "아래 형식으로 출력하는 코드를 작성하라.\n",
        "\n",
        "힌트: 문자열 인덱싱을 활용한다."
      ]
    },
    {
      "cell_type": "markdown",
      "id": "daa7d0db",
      "metadata": {
        "id": "daa7d0db"
      },
      "source": [
        "출력:\n",
        "\n",
        "```python\n",
        "성별: 1 (남성)\n",
        "```"
      ]
    },
    {
      "cell_type": "markdown",
      "id": "024c938b",
      "metadata": {
        "id": "024c938b"
      },
      "source": [
        "출력:\n",
        "\n",
        "```python\n",
        "성별: 2 (여성)\n",
        "```"
      ]
    },
    {
      "cell_type": "code",
      "execution_count": null,
      "id": "38449d7a",
      "metadata": {
        "id": "38449d7a",
        "colab": {
          "base_uri": "https://localhost:8080/"
        },
        "outputId": "53f13986-69eb-4267-8f37-3cbe3b8fd705"
      },
      "outputs": [
        {
          "output_type": "stream",
          "name": "stdout",
          "text": [
            "성별: 4 (여성)\n"
          ]
        }
      ],
      "source": [
        "if human[7] == \"1\" or human[7]== \"3\": # 위에서 구한 주민등록 번호의 7번째 자리가 문자열 1인지 3인지 확인\n",
        "  print(\"성별: {} (남성)\".format(str(human[7])))  # 성별이 남성이라고 문자열 포맷팅으로 출력\n",
        "else: # 남성이 아닌경우 여성임\n",
        "  print(\"성별: {} (여성)\".format(str(human[7])))  # 성별이 여성이라고 문자열 포맷팅으로 출력"
      ]
    },
    {
      "cell_type": "markdown",
      "id": "2ed2bcc5",
      "metadata": {
        "id": "2ed2bcc5"
      },
      "source": [
        "**문제 5**"
      ]
    },
    {
      "cell_type": "markdown",
      "id": "5b0712cf",
      "metadata": {
        "id": "5b0712cf"
      },
      "source": [
        "다음과 같이 `a`, `b` 두 변수를 선언한 후 `a` 의 두 번째 요솟값을 변경하면 `b` 의 값은 \n",
        "어떻게 되는지 확인하고 그 이유를 설명하라."
      ]
    },
    {
      "cell_type": "code",
      "execution_count": null,
      "id": "6b7fba36",
      "metadata": {
        "id": "6b7fba36",
        "colab": {
          "base_uri": "https://localhost:8080/"
        },
        "outputId": "29d41a0b-52d4-4f4f-fe0a-ffdbb2d5935a"
      },
      "outputs": [
        {
          "output_type": "stream",
          "name": "stdout",
          "text": [
            "[1, 4, 3]\n"
          ]
        }
      ],
      "source": [
        "a = b = [1, 2, 3]\n",
        "a[1] = 4\n",
        "print(b)"
      ]
    },
    {
      "cell_type": "markdown",
      "id": "e651f918",
      "metadata": {
        "id": "e651f918"
      },
      "source": [
        "위의 **a = b = [1, 2, 3]**은 a와 b를 복사한것과 같다.\n",
        "\n",
        "때문에, 둘은 데이터의 원형이 [1, 2, 3]을 같이 공유하고 있다고 생각하면 된다.\n",
        "\n",
        "데이터의 원본에 수정을 가하면 a와 b의 데이터 값이 변형되는 이유가 바로 여기서 나온다."
      ]
    },
    {
      "cell_type": "markdown",
      "id": "036a132a",
      "metadata": {
        "id": "036a132a"
      },
      "source": [
        "**문제 6**"
      ]
    },
    {
      "cell_type": "markdown",
      "id": "9003b7a9",
      "metadata": {
        "id": "9003b7a9"
      },
      "source": [
        "과일 이름으로 구성된 문자열 하나가 주어졌다."
      ]
    },
    {
      "cell_type": "code",
      "execution_count": null,
      "id": "fc8642e5",
      "metadata": {
        "id": "fc8642e5"
      },
      "outputs": [],
      "source": [
        "fruit = \"banana apple orange pineapple mango strawberry cherry\""
      ]
    },
    {
      "cell_type": "markdown",
      "id": "4fa6ee61",
      "metadata": {
        "id": "4fa6ee61"
      },
      "source": [
        "(1) `fruit` 변수로부터 her 문자열을 추출하는 코드를 작성하여라."
      ]
    },
    {
      "cell_type": "code",
      "execution_count": null,
      "id": "8afad734",
      "metadata": {
        "id": "8afad734",
        "colab": {
          "base_uri": "https://localhost:8080/",
          "height": 35
        },
        "outputId": "1cd2aa29-5d97-4286-b592-6c424ccfb271"
      },
      "outputs": [
        {
          "output_type": "execute_result",
          "data": {
            "text/plain": [
              "'her'"
            ],
            "application/vnd.google.colaboratory.intrinsic+json": {
              "type": "string"
            }
          },
          "metadata": {},
          "execution_count": 61
        }
      ],
      "source": [
        "# 코드를 작성하세요.\n",
        "# 필요하면 코드셀 또는 텍스트셀을 추가할 수 있습니다.\n",
        "\n",
        "\n",
        "fruits = list(fruit.split())    # fruit 문자열에 포함된 과일 이름들을 공백으로 나눠서 리스트 형태로 저장\n",
        "\n",
        "fruits[-1][1:4]            # 마지막 요소인 cherry에서 2번째부터 4번째 문자열까지 추출"
      ]
    },
    {
      "cell_type": "markdown",
      "id": "0865ae3e",
      "metadata": {
        "id": "0865ae3e"
      },
      "source": [
        "(2) `fruit` 변수로부터 oae 문자열을 추출하는 코드를 작성하여라."
      ]
    },
    {
      "cell_type": "code",
      "execution_count": null,
      "id": "d4be7124",
      "metadata": {
        "id": "d4be7124",
        "colab": {
          "base_uri": "https://localhost:8080/",
          "height": 35
        },
        "outputId": "754cd57e-ceaf-4150-9f88-f6142960ca45"
      },
      "outputs": [
        {
          "output_type": "execute_result",
          "data": {
            "text/plain": [
              "'oae'"
            ],
            "application/vnd.google.colaboratory.intrinsic+json": {
              "type": "string"
            }
          },
          "metadata": {},
          "execution_count": 67
        }
      ],
      "source": [
        "fruit[-19:-26:-3]      # fruit 문자열을 거꾸로 3칸씩 이동하여 출력하면 다음과 같은 문자열을 얻음"
      ]
    },
    {
      "cell_type": "markdown",
      "id": "5caed8e2",
      "metadata": {
        "id": "5caed8e2"
      },
      "source": [
        "(3) `fruit` 변수로부터 yrrehc 문자열을 추출하는 코드를 작성하여라."
      ]
    },
    {
      "cell_type": "code",
      "execution_count": null,
      "id": "f6fb4d57",
      "metadata": {
        "id": "f6fb4d57",
        "colab": {
          "base_uri": "https://localhost:8080/",
          "height": 35
        },
        "outputId": "d1a57a8b-e651-4d69-d18b-6ca0ddb02fd1"
      },
      "outputs": [
        {
          "output_type": "execute_result",
          "data": {
            "text/plain": [
              "'yrrehc'"
            ],
            "application/vnd.google.colaboratory.intrinsic+json": {
              "type": "string"
            }
          },
          "metadata": {},
          "execution_count": 63
        }
      ],
      "source": [
        "fruits[-1][::-1]               # fruits 리스트의 마지막 요소인 cherry를 인덱싱을 사용해 거꾸로 추출"
      ]
    },
    {
      "cell_type": "markdown",
      "id": "e613b028",
      "metadata": {
        "id": "e613b028"
      },
      "source": [
        "**문제 7**"
      ]
    },
    {
      "cell_type": "markdown",
      "id": "3de55c80",
      "metadata": {
        "id": "3de55c80"
      },
      "source": [
        "다음 문자열이 주어졌다.\n",
        "\n",
        "```python\n",
        "'n o r t h w e s t e r n'\n",
        "```\n",
        "\n",
        "위 문자열을 이용하여 아래 문자열을 생성하는 코드를 작성하라.\n",
        "\n",
        "```python\n",
        "'Northwestern'\n",
        "```"
      ]
    },
    {
      "cell_type": "code",
      "execution_count": null,
      "id": "be2a782b",
      "metadata": {
        "id": "be2a782b",
        "colab": {
          "base_uri": "https://localhost:8080/"
        },
        "outputId": "d1b9045b-5b5b-4153-ac11-cbb6d81df221"
      },
      "outputs": [
        {
          "output_type": "stream",
          "name": "stdout",
          "text": [
            "Northwestern\n"
          ]
        }
      ],
      "source": [
        "arr = 'n o r t h w e s t e r n' # 위에서 주어진 문자열을 arr에 저장\n",
        "\n",
        "print(arr[0].upper() + arr[2::2]) # 첫 글자인 n을 대문자로 upper로 변환 후 인덱싱을 사용하여 글자 빈 간격을 제거하여 출력"
      ]
    },
    {
      "cell_type": "markdown",
      "id": "520b5dab",
      "metadata": {
        "id": "520b5dab"
      },
      "source": [
        "**문제 8**"
      ]
    },
    {
      "cell_type": "markdown",
      "id": "62b4ffe3",
      "metadata": {
        "id": "62b4ffe3"
      },
      "source": [
        "아래 노래 가사를 활용하는 문제이다."
      ]
    },
    {
      "cell_type": "code",
      "execution_count": null,
      "id": "de3b3096",
      "metadata": {
        "id": "de3b3096"
      },
      "outputs": [],
      "source": [
        "song = \"When you are smiling, the whole world smiles with you\""
      ]
    },
    {
      "cell_type": "markdown",
      "id": "b8cc3285",
      "metadata": {
        "id": "b8cc3285"
      },
      "source": [
        "(1) `for` 문을 사용하여 `song`에서 `a`가 등장하는 횟수를 구하는 코드를 작성하라.  "
      ]
    },
    {
      "cell_type": "code",
      "execution_count": null,
      "id": "0450781b",
      "metadata": {
        "id": "0450781b",
        "colab": {
          "base_uri": "https://localhost:8080/"
        },
        "outputId": "f40a376d-b3e0-45da-97d3-f85b5c64f475"
      },
      "outputs": [
        {
          "output_type": "stream",
          "name": "stdout",
          "text": [
            "1\n"
          ]
        }
      ],
      "source": [
        "count = 0 # a가 등장하는 횟수를 저장할 변수\n",
        "\n",
        "for i in song:  # 반복문으로 song 문자열 문자 하나하나에 대해 반복한다.\n",
        "  if(i == 'a'): # i가 문자열 a와 같은지 확인\n",
        "    count += 1  # 횟수에 1을 더함\n",
        "\n",
        "print(count)  # 횟수 출력"
      ]
    },
    {
      "cell_type": "markdown",
      "id": "73bd79a3",
      "metadata": {
        "id": "73bd79a3"
      },
      "source": [
        "(2) 반복문을 사용하여  `song`에서 대소문자 구별없이 `w`가 등장하는 횟수를 구하는 코드를 작성하라."
      ]
    },
    {
      "cell_type": "code",
      "execution_count": null,
      "id": "e559adb3",
      "metadata": {
        "id": "e559adb3",
        "colab": {
          "base_uri": "https://localhost:8080/"
        },
        "outputId": "090c89cd-9e0f-4e2e-9364-f008e0155101"
      },
      "outputs": [
        {
          "output_type": "stream",
          "name": "stdout",
          "text": [
            "4\n"
          ]
        }
      ],
      "source": [
        "count = 0 # 횟수를 저장한 변수\n",
        "\n",
        "for i in song:  # 반복문으로 song 문자열 문자 하나하나에 대해 반복한다.\n",
        "  if(i == 'w' or i =='W'):  # i가 w의 대소문자를 감지\n",
        "    count += 1  # 횟수에 1을 더함\n",
        "\n",
        "print(count)  # 횟수 출력"
      ]
    },
    {
      "cell_type": "markdown",
      "id": "264f343d",
      "metadata": {
        "id": "264f343d"
      },
      "source": [
        "**문제 9**"
      ]
    },
    {
      "cell_type": "markdown",
      "id": "2c45e398",
      "metadata": {
        "id": "2c45e398"
      },
      "source": [
        "`num`이 가리키는 정수가 숫자 3을 포함하는 경우에는\n",
        "`num` 의 세 배를 출력하고, \n",
        "아닌 경우에는 `num` 에서 2를 뺀 값을 출력하는 코드를 작성하라.\n",
        "단, `num` 이 가리키는 수는 임의로 생성된 세 자리 수이어야 한다."
      ]
    },
    {
      "cell_type": "code",
      "execution_count": null,
      "id": "d5d87f68",
      "metadata": {
        "id": "d5d87f68",
        "colab": {
          "base_uri": "https://localhost:8080/"
        },
        "outputId": "cbbc116e-d678-4d0b-b4ea-24755e9f402e"
      },
      "outputs": [
        {
          "output_type": "stream",
          "name": "stdout",
          "text": [
            "248\n"
          ]
        }
      ],
      "source": [
        "num = randint(100, 999)\n",
        "\n",
        "num = str(num)  # if문에서 숫자를 찾기 편하도록 str형으로 변환\n",
        "\n",
        "if num[0] == \"3\" or num[1] == \"3\" or num[2] == \"3\": # num의 인덱스를 사용해 각 자릿수에 3이 있는지 확인\n",
        "  num = int(num)  # 세 배를 곱하기 위해 int형으로 변환\n",
        "  print(num * 3)  # 세 배를 출력\n",
        "else:\n",
        "  num = int(num)  # 2를 빼기 위해 int형으로 변환\n",
        "  print(num - 2)  # 출력\n",
        "\n",
        "# num = 123\n",
        "# 출력: 369"
      ]
    },
    {
      "cell_type": "markdown",
      "id": "93c7f510",
      "metadata": {
        "id": "93c7f510"
      },
      "source": [
        "**문제 10**"
      ]
    },
    {
      "cell_type": "markdown",
      "id": "8e6d6612",
      "metadata": {
        "id": "8e6d6612"
      },
      "source": [
        "정수 나눗셈의 몫을 계산하는 코드를 `while` 반복문을 이용하여 구현한다.\n",
        "단, 분자와 분모는 임의로 생성하며, 분자는 두 자리 정수, 분모는 한 자리 정수로 제한한다.\n",
        "또한 몫 연산자 `//` 는 허용되지 않으며 덧셈과 뺄셈만 사용한다. "
      ]
    },
    {
      "cell_type": "code",
      "execution_count": null,
      "id": "5753542f",
      "metadata": {
        "id": "5753542f",
        "colab": {
          "base_uri": "https://localhost:8080/"
        },
        "outputId": "72c34f3f-e861-4a8c-a9db-162a46d263d1"
      },
      "outputs": [
        {
          "output_type": "stream",
          "name": "stdout",
          "text": [
            "몫은 4이다.\n"
          ]
        }
      ],
      "source": [
        "number = randint(10, 99)  # 분자\n",
        "divisor = randint(1, 9)   # 분모\n",
        "answer = 0  # 몫\n",
        "\n",
        "while number - divisor > 0: # 분자에 분모를 뺄 때 0 이상이면 반복문이 돌아감\n",
        "  number -= divisor # 분자에 분모를 뺌\n",
        "  answer += 1 # 몫을 1을 더함\n",
        "print(\"몫은 %d이다.\" % answer)  # 몫 출력"
      ]
    },
    {
      "cell_type": "markdown",
      "id": "a9bb5495",
      "metadata": {
        "id": "a9bb5495"
      },
      "source": [
        "**문제 11**"
      ]
    },
    {
      "cell_type": "markdown",
      "id": "2a18be3b",
      "metadata": {
        "id": "2a18be3b"
      },
      "source": [
        "어느 한 택배사의 무게에 따른 가격표가 다음과 같다.\n",
        "\n",
        "| 5kg 미만 | 5kg 이상~10kg 미만 | 10kg 이상 |\n",
        "|:-------:|:--------------------:|:---------:|\n",
        "|5.000원 | 8,000원| 10,000원|\n",
        "\n",
        "우편물의 무게가 임의의 자연수로 주어졌을 때, 택배 가격을 알려주는 프로그램을 만들어라.\n",
        "단, 우편물의 무게는 최대 두 자리 수로 제한한다."
      ]
    },
    {
      "cell_type": "code",
      "execution_count": null,
      "id": "988922a6",
      "metadata": {
        "id": "988922a6",
        "colab": {
          "base_uri": "https://localhost:8080/"
        },
        "outputId": "fec1e7fd-d06a-48b7-da31-f54789416947"
      },
      "outputs": [
        {
          "output_type": "stream",
          "name": "stdout",
          "text": [
            "10,000원\n"
          ]
        }
      ],
      "source": [
        "weight = randint(1, 99)\n",
        "\n",
        "if(weight < 5): # 무게가 5 미만인지 확인\n",
        "  print('5,000원')  # 5,000원 출력\n",
        "\n",
        "if(5 <= weight < 10): # 무게가 5 이상 10 미만인지 확인\n",
        "  print('8,000원')  # 8,000원 출력\n",
        "\n",
        "if(weight >= 10): # 무게가 10 이상인지 확인\n",
        "  print('10,000원') # 10,000원 출력\n",
        "\n",
        "# 소수 무게는 문제에 없어서 배제하고 풀었습니다."
      ]
    },
    {
      "cell_type": "markdown",
      "id": "6e53793d",
      "metadata": {
        "id": "6e53793d"
      },
      "source": [
        "**문제 12**"
      ]
    },
    {
      "cell_type": "markdown",
      "id": "a8aa77ea",
      "metadata": {
        "id": "a8aa77ea"
      },
      "source": [
        "0부터 100까지의 숫자 중에서 3의 배수와 7의 배수를 모두 찾아 출력한 다음, \n",
        "찾은 수들을 모두 더하여 아래와 같이 출력하는 코드를 작성하여라.\n",
        "\n",
        "```python\n",
        "0~100의 숫자 중 3의 배수와 7의 배수들의 합은 OOO이다.\n",
        "```"
      ]
    },
    {
      "cell_type": "code",
      "execution_count": null,
      "id": "55b1f86c",
      "metadata": {
        "id": "55b1f86c",
        "colab": {
          "base_uri": "https://localhost:8080/"
        },
        "outputId": "3bc5d416-9205-4db7-9f0a-2fa040f52c66"
      },
      "outputs": [
        {
          "output_type": "stream",
          "name": "stdout",
          "text": [
            "0  3  6  7  9  12  14  15  18  21  24  27  28  30  33  35  36  39  42  45  48  49  51  54  56  57  60  63  66  69  70  72  75  77  78  81  84  87  90  91  93  96  98  99  \n",
            "0~100의 숫자 중 3의 배수와 7의 배수들의 합은 2208이다.\n"
          ]
        }
      ],
      "source": [
        "Sum = 0 # 합계를 저장할 변수 선언\n",
        "\n",
        "for i in range(100):  # i가 100까지 돌아갈 반복문\n",
        "  if(i % 3 == 0): # i가 3의 배수인지 확인\n",
        "    Sum += i  # i를 sum에 더함\n",
        "    print(i, end = '  ')  # 3의 배수인 i를 출력\n",
        "  elif(i % 7 == 0): # i가 7의 배수인지 확인\n",
        "    Sum += i  # i를 sum에 더함\n",
        "    print(i, end = '  ')  # i가 7의 배수인지 확인\n",
        "print(f'\\n0~100의 숫자 중 3의 배수와 7의 배수들의 합은 {Sum}이다.') # sum을 출력"
      ]
    },
    {
      "cell_type": "code",
      "source": [
        "print(4 % 3)"
      ],
      "metadata": {
        "colab": {
          "base_uri": "https://localhost:8080/"
        },
        "id": "J0cNfm-bZdgi",
        "outputId": "e03dfbf4-50f0-417c-8392-6891795ad0df"
      },
      "id": "J0cNfm-bZdgi",
      "execution_count": null,
      "outputs": [
        {
          "output_type": "stream",
          "name": "stdout",
          "text": [
            "1\n"
          ]
        }
      ]
    },
    {
      "cell_type": "markdown",
      "id": "03e30c2a",
      "metadata": {
        "id": "03e30c2a"
      },
      "source": [
        "**문제 13**"
      ]
    },
    {
      "cell_type": "markdown",
      "id": "096af73f",
      "metadata": {
        "id": "096af73f"
      },
      "source": [
        "임의의 자연수 n이 주어졌을 때, 1부터 n까지의 자연수 중에서 3의 배수이거나 \n",
        "3을 포함하는 숫자들의 합을 구하여라.\n",
        "단, n 은 두 자리의 수로 제한한다."
      ]
    },
    {
      "cell_type": "code",
      "execution_count": null,
      "id": "d5b08dc5",
      "metadata": {
        "id": "d5b08dc5",
        "colab": {
          "base_uri": "https://localhost:8080/"
        },
        "outputId": "a314cc64-0717-436a-bad5-6f8fb9413e08"
      },
      "outputs": [
        {
          "output_type": "stream",
          "name": "stdout",
          "text": [
            "97\n"
          ]
        }
      ],
      "source": [
        "n = randint(10, 99)\n",
        "sum = 0\n",
        "\n",
        "for i in range(1, n + 1, 1):\n",
        "  repeate = 0 # repeate를 통하여 3의 배수인 경우 3을 포함하는 숫자인지 확인X\n",
        "  if(i % 3 == 0): # 3의 배수인지 확인\n",
        "    sum += i  # sum에 i값을 더함\n",
        "    repeate = 1 # repeate를 1로 만들어서 아래 if문을 패스함\n",
        "\n",
        "  if(repeate == 0): # 위의 if문에서 3의 배수가 아닌경우가 해당함\n",
        "    if(i % 10 == 3):  # 1의 자리가 숫자 3이 있는지 확인\n",
        "      sum += i  # 있다면 sum에 i를 더함\n",
        "    elif(int(i / 10) == 3): # 10의 자리에 숫자 3이 있는지 확인\n",
        "      sum += i  # 있다면 sum에 i를 더함\n",
        "\n",
        "print(sum)"
      ]
    },
    {
      "cell_type": "markdown",
      "id": "fd2fc091",
      "metadata": {
        "id": "fd2fc091"
      },
      "source": [
        "**문제 14**"
      ]
    },
    {
      "cell_type": "markdown",
      "id": "67fa0cc6",
      "metadata": {
        "id": "67fa0cc6"
      },
      "source": [
        "자연수 n이 주어졌을 때, n의 약수를 모두 출력하는 코드를 작성하여라. \n",
        "단, n 은 두 자리의 수로 제한한다."
      ]
    },
    {
      "cell_type": "code",
      "execution_count": null,
      "id": "b8c82db8",
      "metadata": {
        "id": "b8c82db8",
        "colab": {
          "base_uri": "https://localhost:8080/"
        },
        "outputId": "7b9e6d6c-7873-424b-9e3d-639a3496f4f3"
      },
      "outputs": [
        {
          "output_type": "stream",
          "name": "stdout",
          "text": [
            "1 2 3 5 6 9 10 15 18 30 45 90\n"
          ]
        }
      ],
      "source": [
        "n = randint(10, 99)\n",
        "\n",
        "for i in range(1, n + 1, 1):\n",
        "    if(i > n / 2):  \n",
        "# 한 숫자의 약수의 경우에는 2로 나눴을때 나오는 숫자가 자기 자신을 제외하고 가장 큰 약수이다.\n",
        "# 때문에, 시간복잡도를 줄이고자 중앙값에 도달했을때 for문을 탈출한다.\n",
        "      break\n",
        "    if(n % i == 0):\n",
        "        print(i, end=' ')\n",
        "print(n)"
      ]
    },
    {
      "cell_type": "markdown",
      "id": "beba89dc",
      "metadata": {
        "id": "beba89dc"
      },
      "source": [
        "**문제 15**"
      ]
    },
    {
      "cell_type": "markdown",
      "id": "f9febfa4",
      "metadata": {
        "id": "f9febfa4"
      },
      "source": [
        "일찍 태어난 사람이 늦게 태어난 사람보다 정확히 두 배의 나이를 갖는 경우가 발생한다. \n",
        "예를 들어, 2003년 7월 12일에 태어난 사람과 2006년 9월 30일에 태어난 사람은\n",
        "2009년 12월 19일에 서로의 나이가 딱 두 배가 된다.\n",
        "\n",
        "이를 확인하는 코드를 `Timestamp` 자료형을 이용하여 작성하라."
      ]
    },
    {
      "cell_type": "code",
      "execution_count": null,
      "id": "04a0dc66",
      "metadata": {
        "id": "04a0dc66"
      },
      "outputs": [],
      "source": [
        "import pandas as pd \n",
        "\n",
        "d1 = pd.Timestamp('2003-07-12')\n",
        "d2 = pd.Timestamp('2006-09-30')"
      ]
    },
    {
      "cell_type": "code",
      "execution_count": null,
      "id": "291e563f",
      "metadata": {
        "id": "291e563f",
        "colab": {
          "base_uri": "https://localhost:8080/"
        },
        "outputId": "bedfb75b-6a52-4709-9950-1cfeb2fb9f7e"
      },
      "outputs": [
        {
          "output_type": "stream",
          "name": "stdout",
          "text": [
            "2009-12-19 00:00:00\n"
          ]
        }
      ],
      "source": [
        "print(d2 + (d2 - d1))"
      ]
    },
    {
      "cell_type": "markdown",
      "id": "5d91f83d",
      "metadata": {
        "id": "5d91f83d"
      },
      "source": [
        "**문제 16**"
      ]
    },
    {
      "cell_type": "markdown",
      "id": "db3d1a42",
      "metadata": {
        "id": "db3d1a42"
      },
      "source": [
        "아래 명령문을 실행할 때 오류가 발생한다. 이유가 무엇인가?\n",
        "\n",
        "```python\n",
        "if 3/0 or True:\n",
        "    print(\"나는 출력되지 않아요.\")\n",
        "```\n",
        "\n",
        "이유를 설명하세요."
      ]
    },
    {
      "cell_type": "markdown",
      "source": [
        "파이썬에서는 or 연산과 and 연산을 할 때, 시간 절약을 위해 왼쪽의 식으로 전체가 결정되면 오른쪽 비교식은 판단하지 않는 것이다. 따라서 위의 코드에서 왼쪽 연산인 3/0은 0으로 나누는 것은 오류가 발생하기에 if문 내부가 실행되지 못하고 오류 발생했다는 문구가 출력된다."
      ],
      "metadata": {
        "id": "oz222Q-0dNjI"
      },
      "id": "oz222Q-0dNjI"
    },
    {
      "cell_type": "markdown",
      "id": "d4b81c5f",
      "metadata": {
        "id": "d4b81c5f"
      },
      "source": [
        "**문제 17**"
      ]
    },
    {
      "cell_type": "markdown",
      "id": "c5d52f6b",
      "metadata": {
        "id": "c5d52f6b"
      },
      "source": [
        "아래 명령문을 실행할 때 오류가 발생하지 않는다. 이유가 무엇인가?\n",
        "\n",
        "```python\n",
        "if True or 3/0:\n",
        "    print(\"오류가 발생하지 않아요.\")\n",
        "```\n",
        "\n",
        "이유를 설명하세요."
      ]
    },
    {
      "cell_type": "markdown",
      "source": [
        "16번과 같은 이유로 or은 둘 중 하나만 참이어도 전체가 참인 연산이다. 이 때 위의 코드는 왼쪽식부터 연산하는데 True이기 때문에 전체 결과도 참으로 결정된다. 따라서 3/0은 판단하지 않고, 전체를 참으로 판단한다. 따라서 if문 내부가 정상적으로 실행된다."
      ],
      "metadata": {
        "id": "1v26qN2sdUQI"
      },
      "id": "1v26qN2sdUQI"
    },
    {
      "cell_type": "code",
      "source": [],
      "metadata": {
        "id": "6iCYMOoJcbh1"
      },
      "id": "6iCYMOoJcbh1",
      "execution_count": null,
      "outputs": []
    }
  ],
  "metadata": {
    "kernelspec": {
      "display_name": "Python 3 (ipykernel)",
      "language": "python",
      "name": "python3"
    },
    "language_info": {
      "codemirror_mode": {
        "name": "ipython",
        "version": 3
      },
      "file_extension": ".py",
      "mimetype": "text/x-python",
      "name": "python",
      "nbconvert_exporter": "python",
      "pygments_lexer": "ipython3",
      "version": "3.9.7"
    },
    "toc-autonumbering": true,
    "toc-showcode": false,
    "toc-showmarkdowntxt": false,
    "colab": {
      "provenance": [],
      "collapsed_sections": []
    }
  },
  "nbformat": 4,
  "nbformat_minor": 5
}