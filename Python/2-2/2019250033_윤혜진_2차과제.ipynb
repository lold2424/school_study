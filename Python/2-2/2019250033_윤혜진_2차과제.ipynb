{
  "nbformat": 4,
  "nbformat_minor": 0,
  "metadata": {
    "colab": {
      "provenance": [],
      "collapsed_sections": []
    },
    "kernelspec": {
      "name": "python3",
      "display_name": "Python 3"
    },
    "language_info": {
      "name": "python"
    }
  },
  "cells": [
    {
      "cell_type": "markdown",
      "source": [
        "**문제 1**"
      ],
      "metadata": {
        "id": "V2kh-UJ2yFUr"
      }
    },
    {
      "cell_type": "markdown",
      "source": [
        "아래 문자열들의 리스트에 포함된 문자로 구성된 리스트를 작성하라. 단, 중복을 허용하지 않아야 한다.\n",
        "\n",
        "```python\n",
        "word_list = [\"cat\", \"dog\", \"rabbit\"]\n",
        "```\n",
        "\n",
        "힌트: 출력값이 다음과 같아야 한다.\n",
        "\n",
        "```python\n",
        "['c', 'a', 't', 'd', 'o', 'g', 'r', 'b', 'i']\n",
        "```"
      ],
      "metadata": {
        "id": "94MoSN0Tx-5w"
      }
    },
    {
      "cell_type": "code",
      "source": [
        "word_list = [\"cat\", \"dot\", \"rabbit\"]\n",
        "word_answer = []\n",
        "\n",
        "word_list = ' '.join(s for s in word_list)  # str형으로 변환해준다.\n",
        "word_list = word_list.replace(\" \",\"\")       # replace를 사용해서 단어 사이의 띄어쓰기를 제거한다.\n",
        "for i in word_list:                         # word_list를 i에 넣어서 포문을 돌린다.\n",
        "    if i not in word_answer:                # 조건 제시법을 이용하여 중복값인지 확인한다.\n",
        "        word_answer.append(i)               # 중복값이 아니라면 위에 미리 만들어둔 빈 변수에 append를 이용해 집어넣는다.\n",
        "\n",
        "print(word_answer)"
      ],
      "metadata": {
        "colab": {
          "base_uri": "https://localhost:8080/"
        },
        "id": "rry_23Ydx_7I",
        "outputId": "ae3489f8-6871-4c87-9ce4-7d9c7b0d729d"
      },
      "execution_count": null,
      "outputs": [
        {
          "output_type": "stream",
          "name": "stdout",
          "text": [
            "['c', 'a', 't', 'd', 'o', 'r', 'b', 'i']\n"
          ]
        }
      ]
    },
    {
      "cell_type": "markdown",
      "source": [
        "**문제 2**"
      ],
      "metadata": {
        "id": "jZq3SX7syyT-"
      }
    },
    {
      "cell_type": "markdown",
      "source": [
        "아래 문자열들의 리스트에 포함된 문자로 구성된 리스트를 조건제시법으로 작성하라. 또한 중복을 허용하지 않는 리스트로 조건제시법으로 작성하라.\n",
        "```\n",
        "word_list = [\"cat\", \"dog\", \"rabbit\"]\n",
        "```\n",
        "힌트: 출력값이 다음과 같아야 한다.\n",
        "```\n",
        "중복 허용 출력값 1: ['c', 'a', 't', 'd', 'o', 'g', 'r', 'a', 'b', 'b', 'i', 't']\n",
        "중복 없는 출력값 2: ['c', 'a', 't', 'd', 'o', 'g', 'r', 'b', 'i']\n",
        "```\n"
      ],
      "metadata": {
        "id": "l3pIik6Ryrm_"
      }
    },
    {
      "cell_type": "code",
      "source": [
        "word_list = [\"cat\", \"dot\", \"rabbit\"]\n",
        "word_answer1 = []   # 중복 허용 출력값 저장 변수\n",
        "word_answer2 = []   # 중복 없는 출력값 저장 변수\n",
        "\n",
        "word_list = ' '.join(s for s in word_list)  # str형으로 변환해준다.\n",
        "word_list = word_list.replace(\" \",\"\")       # replace를 사용해서 단어 사이의 띄어쓰기를 제거한다.\n",
        "[word_answer1.append(i) for i in word_list]\n",
        "[word_answer2.append(i) for i in word_list if i not in word_answer2]\n",
        "\n",
        "print(\"중복 허용 출력값 1: %s\" % word_answer1)\n",
        "print(\"중복 없는 출력값 2: %s\" % word_answer2) "
      ],
      "metadata": {
        "colab": {
          "base_uri": "https://localhost:8080/"
        },
        "id": "P2ODxfYt8UEk",
        "outputId": "b5841936-70a0-4cc0-96f0-50d55db6eaab"
      },
      "execution_count": null,
      "outputs": [
        {
          "output_type": "stream",
          "name": "stdout",
          "text": [
            "중복 허용 출력값 1: ['c', 'a', 't', 'd', 'o', 't', 'r', 'a', 'b', 'b', 'i', 't']\n",
            "중복 없는 출력값 2: ['c', 'a', 't', 'd', 'o', 'r', 'b', 'i']\n"
          ]
        }
      ]
    },
    {
      "cell_type": "markdown",
      "source": [
        "**문제 3**"
      ],
      "metadata": {
        "id": "0pd40CUFzA1A"
      }
    },
    {
      "cell_type": "markdown",
      "source": [
        "무한 원숭이 정리에서 작성한 infinite_monkey() 함수가 아래 기능을 만족하도록 수정하라.\n",
        "\n",
        "> 생성된 문자열 중에서 정확한 위치에서 사용된 문자는 그대로 두고 그렇지 않은 문자만 업데이트한다."
      ],
      "metadata": {
        "id": "mHS8qj4Uy93Z"
      }
    },
    {
      "cell_type": "code",
      "source": [
        "import random\n",
        "\n",
        "def generateOne(strlen):\n",
        "    alphabet = \"abcdefghijklmnopqrstuvwxyz \"\n",
        "    res = \"\"\n",
        "    for i in range(strlen):\n",
        "        res = res + alphabet[random.randrange(27)]\n",
        "        \n",
        "    return res"
      ],
      "metadata": {
        "id": "M1NwVTZszAN5"
      },
      "execution_count": null,
      "outputs": []
    },
    {
      "cell_type": "code",
      "source": [
        "def score(goal, teststring):\n",
        "    numScore = 0\n",
        "    for i in range(len(goal)):\n",
        "        if goal[i] == teststring[i]:\n",
        "            numScore = numScore + 1\n",
        "    \n",
        "    return numScore / len(goal)"
      ],
      "metadata": {
        "id": "KY5wv7uuC1bS"
      },
      "execution_count": null,
      "outputs": []
    },
    {
      "cell_type": "code",
      "source": [
        "def changeString(goal, string):\n",
        "    alphabet = \"abcdefghijklmnopqrstuvwxyz \"  # rand를 사용하기 위해 미리 만들어둔다.\n",
        "    realstring = \"\"                           # 바뀐 값들을 저장할 변수\n",
        "    for i in range(len(goal)):                # i를 목표한 문장 길이만큼 돌려준다.\n",
        "        if goal[i] != string[i]:              # 만약 목표 문장의 단어와 랜덤 단어가 다르다면\n",
        "            realstring += alphabet[random.randrange(27)]  # realstring에 랜덤한 단어를 저장하고\n",
        "        else:                                 # 목표 문장 단어와 랜덤 단어가 같다면\n",
        "            realstring += goal[i]             # realstring에 원래 단어를 집어넣는다.\n",
        "    return realstring                         # realstring을 반환한다."
      ],
      "metadata": {
        "id": "_VHGDq2TRe3y"
      },
      "execution_count": null,
      "outputs": []
    },
    {
      "cell_type": "code",
      "source": [
        "def infinite_monkey():\n",
        "    goalstring = \"methinks it is like a weasel\"\n",
        "    newstring = generateOne(28)\n",
        "    best = 0\n",
        "    newscore = score(goalstring, newstring)\n",
        "    while newscore < 1:\n",
        "        if newscore >= best:\n",
        "            print(newscore, newstring)\n",
        "            best = newscore\n",
        "        newstring = changeString(goalstring, newstring) # 기존 generateOne대신에 changeString으로 바꿔준다.\n",
        "        newscore = score(goalstring, newstring)"
      ],
      "metadata": {
        "id": "HDQdws86C2Rx"
      },
      "execution_count": null,
      "outputs": []
    },
    {
      "cell_type": "code",
      "source": [
        "infinite_monkey()"
      ],
      "metadata": {
        "colab": {
          "base_uri": "https://localhost:8080/"
        },
        "id": "7D_1cHXEC3VZ",
        "outputId": "c5d15758-6fbf-4644-a8dd-676b10a2a915"
      },
      "execution_count": null,
      "outputs": [
        {
          "output_type": "stream",
          "name": "stdout",
          "text": [
            "0.0 useokwvexlcfyfpb rurwp illtd\n",
            "0.10714285714285714 wuehlzpiwdndde pryf edpltrtb\n",
            "0.10714285714285714 twehcznibdxovg atbf mblgwtze\n",
            "0.10714285714285714 gjehpfzkkouiov bkmo ssragxdd\n",
            "0.17857142857142858 okghzac mdsgaf dqvf anwunaoz\n",
            "0.21428571428571427 vykhkg kqsrhnd cual azwezokz\n",
            "0.21428571428571427 ctzhbphwi nofn zjds auweiwce\n",
            "0.21428571428571427 dbrhkbecyzagl  nkei akweeygi\n",
            "0.21428571428571427 oqshl ezrsavtd dglj aqwecowi\n",
            "0.25 jyqhaguvytzeff hici alweuoqs\n",
            "0.25 kxvhopixl pvr  vifs aywemzqd\n",
            "0.2857142857142857 kswhfilgsqs no giab aywetxkn\n",
            "0.2857142857142857 cw hoetto c ja mioq alwehqud\n",
            "0.32142857142857145 aiphvjdkraw ji vigy a werqwo\n",
            "0.32142857142857145 bnxhkkiihbw tu nimf a weybcj\n",
            "0.35714285714285715 hophuegsdrb nn eigq a welwbk\n",
            "0.35714285714285715 xtvhmgssgal  t  ijy a web gv\n",
            "0.39285714285714285 zvphcivsjiu xh qihc a weomca\n",
            "0.42857142857142855 xlfhphnswin ad jicl a weybpl\n",
            "0.4642857142857143 rgjhxztshiw oq wicw a wetsxl\n",
            "0.5357142857142857 ynnhndrsvig ew likh a weesbl\n",
            "0.5714285714285714 urvhydastii iy lika a weqsul\n",
            "0.5714285714285714 hgphshpspiq in liks a weesgl\n",
            "0.6071428571428571 cfehvndsyim ip likk a wersbl\n",
            "0.6071428571428571 gizhln sjij if likn a wezsvl\n",
            "0.6071428571428571 jqxhjnhscis iy likz a weysxl\n",
            "0.6071428571428571 cmzhdnnsxix io likv a wewstl\n",
            "0.6428571428571429  euhmnjseis in likg a wessrl\n",
            "0.6428571428571429 cevhrnysiib il liko a wetsql\n",
            "0.6785714285714286 wehhlnzsmit in likl a wefscl\n",
            "0.6785714285714286 vejhznjsoit iw liku a wefscl\n",
            "0.6785714285714286 tezhhnustit il likf a websvl\n",
            "0.6785714285714286 uexhwnysfit ik lika a wexsnl\n",
            "0.7142857142857143 eeehjn svit iz like a wefstl\n",
            "0.7142857142857143 ieqhmntsbit id like a wensrl\n",
            "0.7142857142857143 ielhqntsfit in like a wetsll\n",
            "0.7142857142857143 aeghenaskit ia like a wetsfl\n",
            "0.7142857142857143 reghengsdit iv like a welskl\n",
            "0.7142857142857143 wejhlnfsnit io like a wedsal\n",
            "0.75 bezhqnws it it like a weosml\n",
            "0.75 reahxnns it i  like a we sql\n",
            "0.7857142857142857 iehhynos it iw like a wezsel\n",
            "0.7857142857142857 hekhdnrs it if like a websel\n",
            "0.7857142857142857 welhvngs it iu like a weysel\n",
            "0.7857142857142857 ceehrnrs it ix like a weosel\n",
            "0.8214285714285714 meqhgnrs it ib like a wexsel\n",
            "0.8214285714285714 melhnnqs it iz like a weqsel\n",
            "0.8214285714285714 mexhonas it iz like a wepsel\n",
            "0.8214285714285714 medh nus it ir like a wexsel\n",
            "0.8214285714285714 meuhnnhs it i  like a wetsel\n",
            "0.8214285714285714 me hfnds it iv like a websel\n",
            "0.8214285714285714 mebhrnjs it id like a weisel\n",
            "0.8571428571428571 mebhznms it is like a wemsel\n",
            "0.8571428571428571 meghbnus it is like a weksel\n",
            "0.8571428571428571 mebhents it is like a wexsel\n",
            "0.8571428571428571 mehhanns it is like a wessel\n",
            "0.8571428571428571 meqhtnls it is like a wessel\n",
            "0.8571428571428571 meohhnbs it is like a wersel\n",
            "0.8571428571428571 meahcnvs it is like a wewsel\n",
            "0.8571428571428571 mevhxnds it is like a wemsel\n",
            "0.8571428571428571 meghcnts it is like a wefsel\n",
            "0.8571428571428571 medh n s it is like a wessel\n",
            "0.8571428571428571 mekhanfs it is like a wecsel\n",
            "0.8571428571428571 mephznqs it is like a wefsel\n",
            "0.8571428571428571 merhfnds it is like a wezsel\n",
            "0.8571428571428571 mezhxnos it is like a wehsel\n",
            "0.8928571428571429 meyhznts it is like a weasel\n",
            "0.8928571428571429 mebhcnps it is like a weasel\n",
            "0.8928571428571429 merhpnbs it is like a weasel\n",
            "0.8928571428571429 mefhmncs it is like a weasel\n",
            "0.8928571428571429 meyhknqs it is like a weasel\n",
            "0.8928571428571429 meehdnns it is like a weasel\n",
            "0.8928571428571429 memhhnjs it is like a weasel\n",
            "0.8928571428571429 mehhenfs it is like a weasel\n",
            "0.8928571428571429 meuhbnqs it is like a weasel\n",
            "0.8928571428571429 meahcn s it is like a weasel\n",
            "0.9285714285714286 methanas it is like a weasel\n",
            "0.9285714285714286 methnnls it is like a weasel\n",
            "0.9285714285714286 methfnws it is like a weasel\n",
            "0.9285714285714286 methnngs it is like a weasel\n",
            "0.9285714285714286 methlnrs it is like a weasel\n",
            "0.9285714285714286 methdnbs it is like a weasel\n",
            "0.9285714285714286 methrnbs it is like a weasel\n",
            "0.9285714285714286 methknjs it is like a weasel\n",
            "0.9285714285714286 methvnes it is like a weasel\n",
            "0.9642857142857143 methhnks it is like a weasel\n",
            "0.9642857142857143 methqnks it is like a weasel\n",
            "0.9642857142857143 methmnks it is like a weasel\n",
            "0.9642857142857143 methrnks it is like a weasel\n",
            "0.9642857142857143 methpnks it is like a weasel\n",
            "0.9642857142857143 methsnks it is like a weasel\n",
            "0.9642857142857143 methrnks it is like a weasel\n",
            "0.9642857142857143 methrnks it is like a weasel\n",
            "0.9642857142857143 methznks it is like a weasel\n",
            "0.9642857142857143 methznks it is like a weasel\n",
            "0.9642857142857143 methynks it is like a weasel\n",
            "0.9642857142857143 methqnks it is like a weasel\n",
            "0.9642857142857143 methznks it is like a weasel\n",
            "0.9642857142857143 methwnks it is like a weasel\n",
            "0.9642857142857143 methqnks it is like a weasel\n",
            "0.9642857142857143 methtnks it is like a weasel\n",
            "0.9642857142857143 methznks it is like a weasel\n",
            "0.9642857142857143 methtnks it is like a weasel\n",
            "0.9642857142857143 methvnks it is like a weasel\n",
            "0.9642857142857143 methrnks it is like a weasel\n",
            "0.9642857142857143 methenks it is like a weasel\n",
            "0.9642857142857143 methrnks it is like a weasel\n",
            "0.9642857142857143 methjnks it is like a weasel\n",
            "0.9642857142857143 methhnks it is like a weasel\n",
            "0.9642857142857143 meth nks it is like a weasel\n",
            "0.9642857142857143 methfnks it is like a weasel\n",
            "0.9642857142857143 methynks it is like a weasel\n",
            "0.9642857142857143 methanks it is like a weasel\n",
            "0.9642857142857143 methmnks it is like a weasel\n",
            "0.9642857142857143 methxnks it is like a weasel\n",
            "0.9642857142857143 methdnks it is like a weasel\n",
            "0.9642857142857143 methnnks it is like a weasel\n",
            "0.9642857142857143 methbnks it is like a weasel\n",
            "0.9642857142857143 methsnks it is like a weasel\n",
            "0.9642857142857143 methanks it is like a weasel\n"
          ]
        }
      ]
    },
    {
      "cell_type": "code",
      "source": [
        "  "
      ],
      "metadata": {
        "id": "M4vQJFM1C4qp"
      },
      "execution_count": null,
      "outputs": []
    }
  ]
}