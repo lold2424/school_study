{
  "cells": [
    {
      "cell_type": "markdown",
      "id": "bd286fa2",
      "metadata": {
        "id": "bd286fa2"
      },
      "source": [
        "# (실습) 모음 자료형 1부: 문자열, 리스트, 튜플"
      ]
    },
    {
      "cell_type": "markdown",
      "id": "88745e8b",
      "metadata": {
        "id": "88745e8b"
      },
      "source": [
        "## 문자열"
      ]
    },
    {
      "cell_type": "markdown",
      "id": "d32f57f0",
      "metadata": {
        "id": "d32f57f0"
      },
      "source": [
        "**문제 1**"
      ]
    },
    {
      "cell_type": "markdown",
      "id": "3cba19ed",
      "metadata": {
        "id": "3cba19ed"
      },
      "source": [
        "문자열 `a:b:c:d` 을 이용하여 문자열 `a#b#c#d` 생성하는 코드를 작성하라.\n",
        "단, 문자열의 메서드만 사용한다."
      ]
    },
    {
      "cell_type": "code",
      "execution_count": null,
      "id": "b7d1715b",
      "metadata": {
        "id": "b7d1715b"
      },
      "outputs": [],
      "source": [
        "# pass 와  None을 적절한 명령문과 표현식으로 대체하라.\n",
        "# 단, 문자열 \"a#b#c#d\" 가 직접 언급되지 않아야 한다.\n",
        "\n",
        "input_str = \"a:b:c:d\"\n",
        "\n",
        "output_str = input_str.replace(\":\",\"#\")"
      ]
    },
    {
      "cell_type": "code",
      "execution_count": null,
      "id": "f333e359",
      "metadata": {
        "id": "f333e359"
      },
      "outputs": [],
      "source": [
        "# 아래 코드의 주석 기호를 삭제하고 실행할 때 오류가 발생하지 않아야 한다.\n",
        "\n",
        "assert output_str == \"a#b#c#d\""
      ]
    },
    {
      "cell_type": "markdown",
      "id": "afe9bac7",
      "metadata": {
        "id": "afe9bac7"
      },
      "source": [
        "**문제 2**"
      ]
    },
    {
      "cell_type": "markdown",
      "id": "bef57d51",
      "metadata": {
        "id": "bef57d51"
      },
      "source": [
        "메뉴와 가격이 공백으로 구분된 두 개의 문자열로 주어졌다."
      ]
    },
    {
      "cell_type": "code",
      "execution_count": null,
      "id": "d9f9519d",
      "metadata": {
        "id": "d9f9519d"
      },
      "outputs": [],
      "source": [
        "menu = \"ham bread chicken egg\"\n",
        "prices = \"1200 5000 17000 500\""
      ]
    },
    {
      "cell_type": "markdown",
      "id": "13373741",
      "metadata": {
        "id": "13373741"
      },
      "source": [
        "가장 저렴한 메뉴와 가장 비싼 메뉴를 추천하는 문자열을 \n",
        "다음과 같이 출력하는 프로그램을 구현하라.\n",
        "\n",
        "```python\n",
        "가장 저렴한 메뉴: egg  \n",
        "가장 비  싼 메뉴: chicken  \n",
        "```"
      ]
    },
    {
      "cell_type": "code",
      "execution_count": null,
      "id": "a9fde44d",
      "metadata": {
        "id": "a9fde44d",
        "colab": {
          "base_uri": "https://localhost:8080/"
        },
        "outputId": "48d921c5-0c21-4b9f-8a5d-8fbe550696b7"
      },
      "outputs": [
        {
          "output_type": "stream",
          "name": "stdout",
          "text": [
            "가장 저렴한 메뉴: egg\n",
            "가장 비  싼 메뉴: chicken\n"
          ]
        }
      ],
      "source": [
        "print(\"가장 저렴한 메뉴: %s\" % menu[-3:])\n",
        "print(\"가장 비  싼 메뉴: %s\" % menu[-11:-4])"
      ]
    },
    {
      "cell_type": "markdown",
      "id": "354be079",
      "metadata": {
        "id": "354be079"
      },
      "source": [
        "**문제 3**"
      ]
    },
    {
      "cell_type": "markdown",
      "id": "8dd82085",
      "metadata": {
        "id": "8dd82085"
      },
      "source": [
        "n! 은 1부터 n 까지의 자연수의 곱을 나타내며, \n",
        "n 의 계승 또는 팩토리얼<font size=\"2\">factorial</fotn>이라 부른다. \n",
        "\n",
        "자연수 n 이 주어졌을 때, n! 의 끝에 있는 0 의 개수를 반환하는 `terminalZeroCount()` 함수를 \n",
        "작성하라. \n",
        "단, n 은 1보다 크고 100보다 작은 자연수라고 가정하며, 문자열 메서드를 활용해야 한다."
      ]
    },
    {
      "cell_type": "code",
      "execution_count": null,
      "id": "ac2fe290",
      "metadata": {
        "id": "ac2fe290"
      },
      "outputs": [],
      "source": [
        "# pass 와  None을 적절한 명령문과 표현식으로 대체하라.\n",
        "\n",
        "def terminalZeroCount(n):\n",
        "  sum_fact = 1\n",
        "  count = 0\n",
        "  for i in range(1, n + 1):\n",
        "   sum_fact *= i\n",
        "  while sum_fact % 10 == 0:\n",
        "    count += 1\n",
        "    sum_fact = int(sum_fact / 10)\n",
        "  return count"
      ]
    },
    {
      "cell_type": "code",
      "execution_count": null,
      "id": "c3f0fbc5",
      "metadata": {
        "id": "c3f0fbc5"
      },
      "outputs": [],
      "source": [
        "# 아래 코드의 주석 기호를 삭제하고 실행할 때 오류가 발생하지 않아야 한다.\n",
        "\n",
        "assert terminalZeroCount(5) == 1\n",
        "assert terminalZeroCount(10) == 2\n",
        "assert terminalZeroCount(20) == 4"
      ]
    },
    {
      "cell_type": "markdown",
      "id": "d2152213",
      "metadata": {
        "id": "d2152213"
      },
      "source": [
        "**문제 4**"
      ]
    },
    {
      "cell_type": "markdown",
      "id": "515fa524",
      "metadata": {
        "id": "515fa524"
      },
      "source": [
        "거꾸로 노래 부르기 좋아하는 청개구리는 아래와 같이 노래를 부른다.  \n",
        "\n",
        "> 끼토산 야끼토 로디어 냐느가 총깡총깡 서면뛰 를디어 냐느가\n",
        "\n",
        "문자열이 주어졌을 때, 공백을 단위로 각 단어를 거꾸로 뒤집은 문자열을 반환하는 \n",
        "`revers_words()` 함수를 작성하라.\n",
        "단, 입력 문자열은 줄바꿈 없이 주어진다고 가정한다."
      ]
    },
    {
      "cell_type": "code",
      "execution_count": null,
      "id": "9cb7052e",
      "metadata": {
        "id": "9cb7052e"
      },
      "outputs": [],
      "source": [
        "# pass 와  None을 적절한 명령문과 표현식으로 대체하라.\n",
        "\n",
        "def reverse_words(s):\n",
        "    s = s.split()\n",
        "    result = \"\"\n",
        "    for lylic in s:\n",
        "      reverse = \"\"\n",
        "      for i in range(len(lylic)):\n",
        "        reverse += (lylic[len(lylic)-1-i])\n",
        "      result += (reverse + \" \")\n",
        "\n",
        "    return result.rstrip()"
      ]
    },
    {
      "cell_type": "code",
      "execution_count": null,
      "id": "64101fa1",
      "metadata": {
        "id": "64101fa1"
      },
      "outputs": [],
      "source": [
        "# 아래 코드의 주석 기호를 삭제하고 실행할 때 오류가 발생하지 않아야 한다.\n",
        "\n",
        "lyrics = '산토끼 토끼야 어디로 가느냐'\n",
        "rev_lyrics = '끼토산 야끼토 로디어 냐느가'\n",
        "\n",
        "assert reverse_words(lyrics) == rev_lyrics"
      ]
    },
    {
      "cell_type": "code",
      "source": [
        "# 아래 코드의 주석 기호를 삭제하고 실행할 때 오류가 발생하지 않아야 한다.\n",
        "\n",
        "lyrics2 = '깡총깡총 뛰면서 어디를 가느냐'\n",
        "rev_lyrics2 = '총깡총깡 서면뛰 를디어 냐느가'\n",
        "\n",
        "assert reverse_words(lyrics2) == rev_lyrics2"
      ],
      "metadata": {
        "id": "xMN5iKx_4hJA"
      },
      "id": "xMN5iKx_4hJA",
      "execution_count": null,
      "outputs": []
    },
    {
      "cell_type": "markdown",
      "id": "eb60dd52",
      "metadata": {
        "id": "eb60dd52"
      },
      "source": [
        "**문제 5**"
      ]
    },
    {
      "cell_type": "markdown",
      "id": "5c79cde1",
      "metadata": {
        "id": "5c79cde1"
      },
      "source": [
        "사용자의 이름과 전화번호를 입력 받으면 다음과 같이 반환하는 \n",
        "`phone_book()` 함수를 구현하라.\n",
        "단, 사용자의 이름은 두 글자에서 네 글자 사이며, \n",
        "핸드폰 번호는 9개에서 11개의 숫자가 다양한 방식으로 주어진다."
      ]
    },
    {
      "cell_type": "code",
      "execution_count": null,
      "id": "8c8c762d",
      "metadata": {
        "id": "8c8c762d"
      },
      "outputs": [],
      "source": [
        "def phone_book(name, phone):\n",
        "    star_name = \"\"\n",
        "\n",
        "    for i in range(len(name)):\n",
        "      if i == 1 :\n",
        "        star_name += \"*\"\n",
        "      else:\n",
        "        star_name += name[i]\n",
        "      \n",
        "    last_number = phone[-1:-5:-1]\n",
        "    last_number = list(last_number)\n",
        "    last_number.reverse()\n",
        "    last_number = \"\".join(last_number)\n",
        "    \n",
        "    return (star_name, int(last_number))"
      ]
    },
    {
      "cell_type": "code",
      "execution_count": null,
      "id": "a83d2bc7",
      "metadata": {
        "id": "a83d2bc7"
      },
      "outputs": [],
      "source": [
        "assert phone_book('김강현', '010-1234-5678') == ('김*현', 5678)\n",
        "assert phone_book('강현', '01012345678') == ('강*', 5678)\n",
        "assert phone_book('김강현이', '031-123-5678') == ('김*현이', 5678)\n",
        "assert phone_book('강현이', '02-123-5678') == ('강*이', 5678)\n",
        "assert phone_book('김강현', '010.1234.5678') == ('김*현', 5678)"
      ]
    },
    {
      "cell_type": "markdown",
      "id": "6aa9fb5f",
      "metadata": {
        "id": "6aa9fb5f"
      },
      "source": [
        "**문제 6**"
      ]
    },
    {
      "cell_type": "markdown",
      "id": "b9d29417",
      "metadata": {
        "id": "b9d29417"
      },
      "source": [
        "변수와 함수의 이름을 지정할 때 **카멜**<font size = \"2\">camel</font> 표기법 또는 \n",
        "**팟홀**<font size=\"2\">pothole</font> 표기법(**스네이크**<font size=\"2\">snake</font> 표기법으로도 불림)을 \n",
        "사용한다.\n",
        "\n",
        "* 카멜 표기법 : 소문자로 시작하고, 이어지는 단어의 시작은 대문자로 작성하는 표기법.\n",
        "    - 예제: `userName`, `printMessage`, `countA` 등. \n",
        "\n",
        "* 팟홀 표기법 또는 스네이크 표기법 : 모두 소문자를 사용하고, 단어 사이에 밑줄기호(`_`)를 사용하는 표기법. \n",
        "    - 예제: `user_name`, `print_message`, `count_a` 등.   \n",
        "\n",
        "\n",
        "카멜 표기법을 팟홀 표기법으로 변환하는 `camel2pothole()` 함수를 구현하라.\n",
        "\n",
        "힌트: `str.isupper()`메서드는 문자열이 대문자인지를 확인해준다.  "
      ]
    },
    {
      "cell_type": "code",
      "execution_count": null,
      "id": "ffc2f7ff",
      "metadata": {
        "id": "ffc2f7ff"
      },
      "outputs": [],
      "source": [
        "def camel2pothole(s):\n",
        "    pothole = \"\"\n",
        "\n",
        "    for i in s:\n",
        "      if i.isupper():\n",
        "        pothole += (\"_\" + i.lower())\n",
        "      else:\n",
        "        pothole += i\n",
        "\n",
        "\n",
        "    return pothole"
      ]
    },
    {
      "cell_type": "code",
      "execution_count": null,
      "id": "950b763d",
      "metadata": {
        "id": "950b763d"
      },
      "outputs": [],
      "source": [
        "# 아래 코드의 주석 기호를 삭제하고 실행할 때 오류가 발생하지 않아야 한다.\n",
        "\n",
        "assert camel2pothole(\"userName\") == \"user_name\"\n",
        "assert camel2pothole(\"printMessage\") == \"print_message\"\n",
        "assert camel2pothole(\"countA\") == \"count_a\""
      ]
    },
    {
      "cell_type": "markdown",
      "id": "851481ba",
      "metadata": {
        "id": "851481ba"
      },
      "source": [
        "**문제 7**"
      ]
    },
    {
      "cell_type": "markdown",
      "id": "261638db",
      "metadata": {
        "id": "261638db"
      },
      "source": [
        "아래 조건을 만족하는 `zip_strings()` 함수를 구현하라.\n",
        "\n",
        "* 세 개의 문자열을 각각 입력 받는 `str1`, `str2`, `str3` 매개 변수를 사용한다.\n",
        "* `str3`가 가리키는 값이 `str1` 과 `str2` 이 가리키는 문자열에 포함된 문자들을\n",
        "    번갈아가며 결합한 결과이면 `True`를, 아니면 `False` 를 반환한다.\n",
        "* 두 문자열의 길이가 다르면, 가능한 데까지만 문자를 번갈아가며 결합하고 나머지는 그대로 적어준다.    \n",
        "\n",
        "힌트: `zip()` 함수 활용 가능."
      ]
    },
    {
      "cell_type": "code",
      "execution_count": null,
      "id": "047f15e3",
      "metadata": {
        "id": "047f15e3"
      },
      "outputs": [],
      "source": [
        "def zip_strings(str1, str2, str3):\n",
        "    \n",
        "    if len(str1) <= len(str2):\n",
        "      long_str = str2\n",
        "      short_str = str1\n",
        "    else:\n",
        "      long_str = str1\n",
        "      short_str = str2\n",
        "\n",
        "    len_dif = len(long_str) - len(short_str)\n",
        "\n",
        "    swich_str1 = \"\"\n",
        "    swich_str2 = \"\"\n",
        "\n",
        "    for (first, second) in zip(str1, str2):\n",
        "      swich_str1 += (first + second)\n",
        "      swich_str2 += (second + first)\n",
        "\n",
        "    if len_dif != 0:\n",
        "        swich_str1 += long_str[-(len_dif):] \n",
        "        swich_str2 += long_str[-(len_dif):]  \n",
        "    \n",
        "    \n",
        "    return (str3 == swich_str1) or (str3 == swich_str2)"
      ]
    },
    {
      "cell_type": "code",
      "execution_count": null,
      "id": "11477807",
      "metadata": {
        "id": "11477807"
      },
      "outputs": [],
      "source": [
        "# 아래 코드의 주석 기호를 삭제하고 실행할 때 오류가 발생하지 않아야 한다.\n",
        "\n",
        "assert zip_strings('dog', 'cat', 'dcoagt') == True\n",
        "assert zip_strings('cat', 'dog', 'dcoagt') == True\n",
        "assert zip_strings('dog', 'cat', 'cdoagt') == False\n",
        "assert zip_strings('computing', 'math','cmoamtphuting') == True\n",
        "assert zip_strings('math', 'computing','cmoamtphuting') == True\n",
        "assert zip_strings('math', 'computing', 'mcoamtphuting') == False"
      ]
    },
    {
      "cell_type": "markdown",
      "id": "c5dcc540",
      "metadata": {
        "id": "c5dcc540"
      },
      "source": [
        "## 리스트"
      ]
    },
    {
      "cell_type": "markdown",
      "id": "e8233271",
      "metadata": {
        "id": "e8233271"
      },
      "source": [
        "**문제 8**"
      ]
    },
    {
      "cell_type": "markdown",
      "id": "7b1ec1be",
      "metadata": {
        "id": "7b1ec1be"
      },
      "source": [
        "`num_list` 변수가 아래처럼 선언되었다."
      ]
    },
    {
      "cell_type": "code",
      "execution_count": null,
      "id": "e3cdd991",
      "metadata": {
        "id": "e3cdd991"
      },
      "outputs": [],
      "source": [
        "num_list = [[1, 2, 3, [4, 5]], [6, 7, 8], 9]"
      ]
    },
    {
      "cell_type": "markdown",
      "id": "08c4ddd2",
      "metadata": {
        "id": "08c4ddd2"
      },
      "source": [
        "(1) `9`를 츨력하는 코드를 작성하여라.   "
      ]
    },
    {
      "cell_type": "code",
      "execution_count": null,
      "id": "219b9ae3",
      "metadata": {
        "id": "219b9ae3",
        "colab": {
          "base_uri": "https://localhost:8080/"
        },
        "outputId": "e1afb478-5505-4b05-ff0e-a763dd23ee36"
      },
      "outputs": [
        {
          "output_type": "stream",
          "name": "stdout",
          "text": [
            "9\n"
          ]
        }
      ],
      "source": [
        "print(num_list[2])"
      ]
    },
    {
      "cell_type": "markdown",
      "id": "6ad2f609",
      "metadata": {
        "id": "6ad2f609"
      },
      "source": [
        "(2) `7`를 출력하는 코드를 작성하여라.   "
      ]
    },
    {
      "cell_type": "code",
      "execution_count": null,
      "id": "40efea4e",
      "metadata": {
        "id": "40efea4e",
        "colab": {
          "base_uri": "https://localhost:8080/"
        },
        "outputId": "b434f713-046f-43a9-8433-a3f671dfca98"
      },
      "outputs": [
        {
          "output_type": "stream",
          "name": "stdout",
          "text": [
            "7\n"
          ]
        }
      ],
      "source": [
        "# pass 적절한 명령문 또는 표현식으로 대체하라.\n",
        "\n",
        "print(num_list[1][1])"
      ]
    },
    {
      "cell_type": "markdown",
      "id": "df7d4671",
      "metadata": {
        "id": "df7d4671"
      },
      "source": [
        "(3) `[3, [4, 5]]`를 출력하는 코드를 작성하여라.  "
      ]
    },
    {
      "cell_type": "code",
      "execution_count": null,
      "id": "90388f2c",
      "metadata": {
        "id": "90388f2c",
        "colab": {
          "base_uri": "https://localhost:8080/"
        },
        "outputId": "81aa1ee1-cd0a-4d98-8a0b-fcd3d2e91199"
      },
      "outputs": [
        {
          "output_type": "stream",
          "name": "stdout",
          "text": [
            "[3, [4, 5]]\n"
          ]
        }
      ],
      "source": [
        "# pass 적절한 명령문 또는 표현식으로 대체하라.\n",
        "\n",
        "print(num_list[0][2:4])"
      ]
    },
    {
      "cell_type": "markdown",
      "id": "e1d3f8c8",
      "metadata": {
        "id": "e1d3f8c8"
      },
      "source": [
        "**문제 9**"
      ]
    },
    {
      "cell_type": "markdown",
      "id": "36126643",
      "metadata": {
        "id": "36126643"
      },
      "source": [
        "어느 평가위원회는 평가 점수 중 최고점과 최저점을 제외한 점수들의 평균을 최종 평가 점수로 부여하려고 한다. \n",
        "선수 A의 점수가 다음 리스트로 주어졌다."
      ]
    },
    {
      "cell_type": "code",
      "execution_count": null,
      "id": "9d75ee5b",
      "metadata": {
        "id": "9d75ee5b"
      },
      "outputs": [],
      "source": [
        "A = [85, 96, 78, 88, 81, 92, 73]"
      ]
    },
    {
      "cell_type": "markdown",
      "id": "640baea1",
      "metadata": {
        "id": "640baea1"
      },
      "source": [
        "선수 A의 최종 평가 점수를 출력하는 코드를 작성하여라.\n",
        "\n",
        "힌트: `sum()` 함수 또는 `numpy.mean()` 함수 활용"
      ]
    },
    {
      "cell_type": "code",
      "execution_count": null,
      "id": "26b04a54",
      "metadata": {
        "id": "26b04a54"
      },
      "outputs": [],
      "source": [
        "# pass 와  None을 적절한 명령문과 표현식으로 대체하라.\n",
        "\n",
        "A = [85, 96, 78, 88, 81, 92, 73]\n",
        "\n",
        "max_A = max(A)\n",
        "min_A = min(A)\n",
        "\n",
        "A.remove(max_A)\n",
        "A.remove(min_A)\n",
        "\n",
        "sum_A = sum(A)\n",
        "\n",
        "average_A = sum_A / len(A)"
      ]
    },
    {
      "cell_type": "code",
      "execution_count": null,
      "id": "1ff9cf76",
      "metadata": {
        "id": "1ff9cf76"
      },
      "outputs": [],
      "source": [
        "# 아래 코드의 주석 기호를 삭제하고 실행할 때 오류가 발생하지 않아야 한다.\n",
        "\n",
        "assert average_A == 84.8"
      ]
    },
    {
      "cell_type": "markdown",
      "id": "6f2a748d",
      "metadata": {
        "id": "6f2a748d"
      },
      "source": [
        "**문제 10**"
      ]
    },
    {
      "cell_type": "markdown",
      "id": "7bd89970",
      "metadata": {
        "id": "7bd89970"
      },
      "source": [
        "리스트을 항목을 내림차순으로 정렬한 값을 반환하는 `rev_list()` 함수를 구현하라."
      ]
    },
    {
      "cell_type": "code",
      "execution_count": null,
      "id": "4175bdf6",
      "metadata": {
        "id": "4175bdf6"
      },
      "outputs": [],
      "source": [
        "# pass 와  None을 적절한 명령문과 표현식으로 대체하라.\n",
        "\n",
        "def rev_list(aList):\n",
        "\n",
        "    aList.sort(reverse = True)\n",
        "\n",
        "    return aList"
      ]
    },
    {
      "cell_type": "code",
      "execution_count": null,
      "id": "d09f18c3",
      "metadata": {
        "id": "d09f18c3"
      },
      "outputs": [],
      "source": [
        "# 아래 코드의 주석 기호를 삭제하고 실행할 때 오류가 발생하지 않아야 한다.\n",
        "\n",
        "assert rev_list([2, 4, 1, 2]) == [4, 2, 2, 1]\n",
        "assert rev_list(['c', 'f', 'a']) == ['f', 'c', 'a']\n",
        "assert rev_list(['_ff', 'ABC', 'abd']) == ['abd', '_ff', 'ABC']"
      ]
    },
    {
      "cell_type": "markdown",
      "id": "47bf8991",
      "metadata": {
        "id": "47bf8991"
      },
      "source": [
        "**문제 11**"
      ]
    },
    {
      "cell_type": "markdown",
      "id": "83a2b626",
      "metadata": {
        "id": "83a2b626"
      },
      "source": [
        "리스트 `['Life', 'is', 'too', 'short']` 를 이용하여\n",
        "문자열 `\"Life is too short\"` 을 생성하는 코드를 작성하라.\n",
        "단, 리스트의 `pop()` 메서드를 사용해야 한다."
      ]
    },
    {
      "cell_type": "code",
      "execution_count": null,
      "id": "104e6207",
      "metadata": {
        "id": "104e6207",
        "colab": {
          "base_uri": "https://localhost:8080/"
        },
        "outputId": "bdc5a50c-9cb7-4a69-ea28-1d3612d092e0"
      },
      "outputs": [
        {
          "output_type": "stream",
          "name": "stdout",
          "text": [
            "Life is too short\n"
          ]
        }
      ],
      "source": [
        "# pass 와  None을 적절한 명령문과 표현식으로 대체하라.\n",
        "# 단, 문자열 \"Life is too short\" 이 직접 언급되지 않아야 한다.\n",
        "\n",
        "input_list = ['Life', 'is', 'too', 'short']\n",
        "\n",
        "code = \"\"\n",
        "\n",
        "while True:\n",
        "  code += input_list.pop(0)\n",
        "  if len(input_list) == 0:\n",
        "    break\n",
        "  code += \" \"\n",
        "\n",
        "print(code)\n",
        "\n",
        "output_str = code"
      ]
    },
    {
      "cell_type": "code",
      "execution_count": null,
      "id": "7e6a4b7b",
      "metadata": {
        "id": "7e6a4b7b"
      },
      "outputs": [],
      "source": [
        "# 아래 코드의 주석 기호를 삭제하고 실행할 때 오류가 발생하지 않아야 한다.\n",
        "\n",
        "assert output_str == \"Life is too short\""
      ]
    },
    {
      "cell_type": "markdown",
      "id": "c638540c",
      "metadata": {
        "id": "c638540c"
      },
      "source": [
        "**문제 12**"
      ]
    },
    {
      "cell_type": "markdown",
      "id": "fa3c8b22",
      "metadata": {
        "id": "fa3c8b22"
      },
      "source": [
        "정수 `a`와 자연수 `n`을 입력받아, `n`개의 항목을 갖는 리스트를 출력하는 \n",
        "`int_clone()` 함수를 작성하여라.\n",
        "단, 리스트의 항목은 `a`부터 시작하고, 그 다음 항목은 이전 항목보다 `a`만큼 크다.        "
      ]
    },
    {
      "cell_type": "code",
      "execution_count": null,
      "id": "fbc85c96",
      "metadata": {
        "id": "fbc85c96"
      },
      "outputs": [],
      "source": [
        "# pass 와  None을 적절한 명령문과 표현식으로 대체하라.\n",
        "\n",
        "def int_clone(a, n):\n",
        "    result = []\n",
        "\n",
        "    if a >= 0 :\n",
        "      for i in range(n):\n",
        "        result.append(a + (a*i))\n",
        "\n",
        "    else:\n",
        "      for i in range(n):\n",
        "        result.append(a - (a*i))\n",
        "      \n",
        "    return result"
      ]
    },
    {
      "cell_type": "code",
      "execution_count": null,
      "id": "d55a7143",
      "metadata": {
        "id": "d55a7143"
      },
      "outputs": [],
      "source": [
        "# 아래 코드의 주석 기호를 삭제하고 실행할 때 오류가 발생하지 않아야 한다.\n",
        "\n",
        "assert int_clone(3, 4) == [3, 6, 9, 12]\n",
        "assert int_clone(2, 3) == [2, 4, 6]"
      ]
    },
    {
      "cell_type": "markdown",
      "id": "96a3365c",
      "metadata": {
        "id": "96a3365c"
      },
      "source": [
        "**문제 13**"
      ]
    },
    {
      "cell_type": "markdown",
      "id": "f6f65528",
      "metadata": {
        "id": "f6f65528"
      },
      "source": [
        "주어진 정수를 오름차순으로 정렬하여, 리스트 형태로 반환하는 `int2sorted_list()` 함수를 작성하라.\n",
        "단, 양의 정수만 입력값으로 사용한다."
      ]
    },
    {
      "cell_type": "code",
      "execution_count": null,
      "id": "f71f7786",
      "metadata": {
        "id": "f71f7786"
      },
      "outputs": [],
      "source": [
        "# pass 와  None을 적절한 명령문과 표현식으로 대체하라.\n",
        "\n",
        "def int2sorted_list(an_int):\n",
        "    assert an_int > 0\n",
        "\n",
        "    result = []\n",
        "\n",
        "    for i in str(an_int):\n",
        "      result.append(i)\n",
        "      \n",
        "    result.sort()\n",
        "\n",
        "    return result"
      ]
    },
    {
      "cell_type": "code",
      "execution_count": null,
      "id": "5d645f23",
      "metadata": {
        "id": "5d645f23"
      },
      "outputs": [],
      "source": [
        "# 아래 코드의 주석 기호를 삭제하고 실행할 때 오류가 발생하지 않아야 한다.\n",
        "\n",
        "assert int2sorted_list(32145) == ['1', '2', '3', '4', '5']\n",
        "assert int2sorted_list(435) == ['3', '4', '5']"
      ]
    },
    {
      "cell_type": "markdown",
      "id": "9c748f5d",
      "metadata": {
        "id": "9c748f5d"
      },
      "source": [
        "**문제 14**"
      ]
    },
    {
      "cell_type": "markdown",
      "id": "af16f521",
      "metadata": {
        "id": "af16f521"
      },
      "source": [
        "교육 참가자 명단과 수료자 명단이 아래처럼 리스트로 주어다."
      ]
    },
    {
      "cell_type": "code",
      "execution_count": null,
      "id": "1d533922",
      "metadata": {
        "id": "1d533922"
      },
      "outputs": [],
      "source": [
        "participant = ['Apeach', 'Ryan', 'Muzi', 'Choonsik', 'Neo', 'Tube']\n",
        "completion = ['Ryan', 'Muzi', 'Neo', 'Choonsik']"
      ]
    },
    {
      "cell_type": "markdown",
      "id": "24680079",
      "metadata": {
        "id": "24680079"
      },
      "source": [
        "수료하지 못한 사람들의 명단을 리스트로 출력하는 코드를 작성하여라.\n",
        "단, 참여자 중 동명이인은 없고, 순서는 중요하지 않다. "
      ]
    },
    {
      "cell_type": "code",
      "execution_count": null,
      "id": "53354ffd",
      "metadata": {
        "id": "53354ffd"
      },
      "outputs": [],
      "source": [
        "# pass 와  None을 적절한 명령문과 표현식으로 대체하라.\n",
        "# 단, 답을 직접 언급하지 말아야 한다.\n",
        "\n",
        "unfinished = participant\n",
        "\n",
        "for finished in completion:\n",
        "  unfinished.remove(finished)"
      ]
    },
    {
      "cell_type": "code",
      "execution_count": null,
      "id": "41881253",
      "metadata": {
        "id": "41881253"
      },
      "outputs": [],
      "source": [
        "# 아래 코드의 주석 기호를 삭제하고 실행할 때 오류가 발생하지 않아야 한다.\n",
        "\n",
        "assert unfinished == ['Apeach', 'Tube']"
      ]
    },
    {
      "cell_type": "markdown",
      "id": "f77664cd",
      "metadata": {
        "id": "f77664cd"
      },
      "source": [
        "**문제 15**"
      ]
    },
    {
      "cell_type": "markdown",
      "id": "7953bb77",
      "metadata": {
        "id": "7953bb77"
      },
      "source": [
        "임의로 중첩된 리스트를 풀어헤쳐 중첩이 없는 리스트를 생성하는\n",
        "`flatten()` 함수를 `while` 반복문을 이용하여 구현하라.\n",
        "단, 재귀는 허용되지 않는다.\n",
        "\n",
        "참고: 이 문제는 조금 어려우며, [stackoverflow: 임의로 중첩된 리스트 납작하게 만들기](https://stackoverflow.com/questions/10823877/what-is-the-fastest-way-to-flatten-arbitrarily-nested-lists-in-python) 를 참고할 수 있다."
      ]
    },
    {
      "cell_type": "code",
      "source": [
        "def flatten(a):\n",
        "  for i, j in enumerate(a):\n",
        "    while i < len(a) and (type(a[i]) == list or type(a[i])==tuple):\n",
        "      a[i:i+1] = a[i]\n",
        "  return a\n",
        "\n",
        "print((flatten([1, 2, [3, 4, [5],[7, [10]]], [6]])))"
      ],
      "metadata": {
        "colab": {
          "base_uri": "https://localhost:8080/"
        },
        "id": "QdbU9miKOfBh",
        "outputId": "c6d03179-4282-4863-b549-d5673435381a"
      },
      "id": "QdbU9miKOfBh",
      "execution_count": null,
      "outputs": [
        {
          "output_type": "stream",
          "name": "stdout",
          "text": [
            "[1, 2, 3, 4, 5, 7, 10, 6]\n"
          ]
        }
      ]
    },
    {
      "cell_type": "code",
      "source": [
        "nests = [1, 2, [3, 4, [5],['hi']], [6, [[[7, 'hello']]]]]\n",
        "\n",
        "def flatten(container):\n",
        "    for i in container:\n",
        "        if isinstance(i, (list, tuple)):\n",
        "            for j in flatten(i):\n",
        "                yield j\n",
        "        else:\n",
        "            yield i\n",
        "\n",
        "print(type(nests[2][3]))\n",
        "print(list(flatten(nests)))"
      ],
      "metadata": {
        "colab": {
          "base_uri": "https://localhost:8080/"
        },
        "id": "Ay-pPecjOhdD",
        "outputId": "40ec4dbf-cf2c-404f-e76b-2e7f865b05a5"
      },
      "id": "Ay-pPecjOhdD",
      "execution_count": null,
      "outputs": [
        {
          "output_type": "stream",
          "name": "stdout",
          "text": [
            "<class 'list'>\n",
            "[1, 2, 3, 4, 5, 'hi', 6, 7, 'hello']\n"
          ]
        }
      ]
    },
    {
      "cell_type": "markdown",
      "id": "c7215317",
      "metadata": {
        "id": "c7215317"
      },
      "source": [
        "## 튜플"
      ]
    },
    {
      "cell_type": "markdown",
      "id": "d943e3c6",
      "metadata": {
        "id": "d943e3c6"
      },
      "source": [
        "**문제 16**"
      ]
    },
    {
      "cell_type": "markdown",
      "id": "24744bc6",
      "metadata": {
        "id": "24744bc6"
      },
      "source": [
        "튜플이 인자로 들어오면 튜플의 기존 항목들이 역순으로 추가된 튜플을 반환하는 \n",
        "`tuple_double_rev()` 함수를 구현하라."
      ]
    },
    {
      "cell_type": "code",
      "execution_count": null,
      "id": "d7512aaa",
      "metadata": {
        "id": "d7512aaa"
      },
      "outputs": [],
      "source": [
        "# pass 와  None을 적절한 명령문과 표현식으로 대체하라.\n",
        "\n",
        "def tuple_double_rev(t):\n",
        "\n",
        "    t2list = list(t)\n",
        "    t2list.reverse()\n",
        "\n",
        "    t2tuple = tuple(t2list)\n",
        "\n",
        "\n",
        "    return t + t2tuple"
      ]
    },
    {
      "cell_type": "code",
      "execution_count": null,
      "id": "0654ee6c",
      "metadata": {
        "id": "0654ee6c"
      },
      "outputs": [],
      "source": [
        "# 아래 코드의 주석 기호를 삭제하고 실행할 때 오류가 발생하지 않아야 한다.\n",
        "\n",
        "assert tuple_double_rev((1, 2, 3)) == (1, 2, 3, 3, 2, 1)\n",
        "assert tuple_double_rev(('a', 'b')) == ('a', 'b', 'b', 'a')"
      ]
    },
    {
      "cell_type": "code",
      "source": [],
      "metadata": {
        "id": "DIVBXF-rOzfQ"
      },
      "id": "DIVBXF-rOzfQ",
      "execution_count": null,
      "outputs": []
    }
  ],
  "metadata": {
    "kernelspec": {
      "display_name": "Python 3 (ipykernel)",
      "language": "python",
      "name": "python3"
    },
    "language_info": {
      "codemirror_mode": {
        "name": "ipython",
        "version": 3
      },
      "file_extension": ".py",
      "mimetype": "text/x-python",
      "name": "python",
      "nbconvert_exporter": "python",
      "pygments_lexer": "ipython3",
      "version": "3.9.7"
    },
    "colab": {
      "provenance": [],
      "collapsed_sections": []
    }
  },
  "nbformat": 4,
  "nbformat_minor": 5
}