{
  "nbformat": 4,
  "nbformat_minor": 0,
  "metadata": {
    "colab": {
      "name": "Numpy_array_middlePrograming",
      "provenance": [],
      "collapsed_sections": []
    },
    "kernelspec": {
      "name": "python3",
      "display_name": "Python 3"
    },
    "language_info": {
      "name": "python"
    }
  },
  "cells": [
    {
      "cell_type": "markdown",
      "source": [
        "# 6. 어레이 중심 프로그래밍\n",
        "연산과 함수 호출에 사용되는 넘파이 어레이는 기본적으로 항목 단위로 연산과 함수 호출이 이루어진다. 넘파이 어레이의 이런 특징을 잘 활용하도록 유도하는 프로그래밍을 어레이 중심 프로그래밍(array-oriented programming)이라 한다.\n",
        "\n",
        "**주요 내용**\n",
        "\n",
        "+ 유니버설 함수: 항목별 함수 적용\n",
        "+ 통계\n",
        "+ 정렬\n",
        "+ 선형대수\n",
        "+ 난수 생성\n",
        "\n",
        "**기본 설정**\n",
        "\n",
        "*numpy* 모듈과 시각화 도구 모듈인 *matplotlib.pyplot*에 대한 기본 설정을 지정한다."
      ],
      "metadata": {
        "id": "d-6DQ5WqhABX"
      }
    },
    {
      "cell_type": "code",
      "execution_count": 1,
      "metadata": {
        "id": "wxG59fhugxWj"
      },
      "outputs": [],
      "source": [
        "# 넘파이\n",
        "import numpy as np\n",
        "\n",
        "# 램덤 시드\n",
        "np.random.seed(12345)\n",
        "\n",
        "# 어레이 사용되는 부동소수점들의 정확도 지정\n",
        "np.set_printoptions(precision=4, suppress=True)\n",
        "\n",
        "# 파이플롯\n",
        "import matplotlib.pyplot as plt\n",
        "\n",
        "# 도표 크기 지정\n",
        "plt.rc('figure', figsize=(10, 6))"
      ]
    },
    {
      "cell_type": "markdown",
      "source": [
        "# 6.1. 유니버설 함수\n",
        "유니버설 함수는 어레이의 항목 각각에 대해 적용되는 함수이며, 반환값은 인자로 사용된 어레이와 동일한 모양의 어레이로 구현된다. 유니버설 함수를 줄여서 __ufunc__라 부른다. 60개 이상의 유니버설 함수가 존재하며, 그중 상당수가 수학 관련 함수이다. 모든 함수들의 리스트는 넘파이의 유니버설 함수 공식문서에서 확인할 수 있다. 여기서는 예제를 통해 유니버설 함수의 활용법을 살펴본다.\n",
        "\n",
        "먼저 (2, 5) 모양의 어레이를 하나 생성하자."
      ],
      "metadata": {
        "id": "AGl1K04mhRxU"
      }
    },
    {
      "cell_type": "code",
      "source": [
        "arr = np.arange(10).reshape((2,5))\n",
        "arr"
      ],
      "metadata": {
        "colab": {
          "base_uri": "https://localhost:8080/"
        },
        "id": "EXHf6WzuhObT",
        "outputId": "ae21d7cd-dbc9-4a78-cbf9-d9ce77c460f5"
      },
      "execution_count": 2,
      "outputs": [
        {
          "output_type": "execute_result",
          "data": {
            "text/plain": [
              "array([[0, 1, 2, 3, 4],\n",
              "       [5, 6, 7, 8, 9]])"
            ]
          },
          "metadata": {},
          "execution_count": 2
        }
      ]
    },
    {
      "cell_type": "markdown",
      "source": [
        "`np.sqrt()` 함수\n",
        "\n",
        "주어진 어레이 각 항목의 제곱근으로 이루어진 어레이가 반환된다."
      ],
      "metadata": {
        "id": "4avUQXZmhVRw"
      }
    },
    {
      "cell_type": "code",
      "source": [
        "np.sqrt(arr)"
      ],
      "metadata": {
        "colab": {
          "base_uri": "https://localhost:8080/"
        },
        "id": "dI9Jqm01hUBz",
        "outputId": "5b4adc1e-a9ce-4791-b6d1-39adeac5d941"
      },
      "execution_count": 3,
      "outputs": [
        {
          "output_type": "execute_result",
          "data": {
            "text/plain": [
              "array([[0.    , 1.    , 1.4142, 1.7321, 2.    ],\n",
              "       [2.2361, 2.4495, 2.6458, 2.8284, 3.    ]])"
            ]
          },
          "metadata": {},
          "execution_count": 3
        }
      ]
    },
    {
      "cell_type": "markdown",
      "source": [
        "`np.exp()` 함수\n",
        "\n",
        "주어진 어레이 각 항목을 지수로 사용하는 지수승의 값으로 이루어진 어레이가 반환된다. 단, 밑은 오일러 상수 e가 사용된다.\n",
        "\n"
      ],
      "metadata": {
        "id": "ifCBfqL9hYvz"
      }
    },
    {
      "cell_type": "code",
      "source": [
        "np.exp(arr)"
      ],
      "metadata": {
        "colab": {
          "base_uri": "https://localhost:8080/"
        },
        "id": "9ZqM_5ZChXOq",
        "outputId": "a8f47703-dd8b-4b66-e046-4563e38fa3cd"
      },
      "execution_count": 4,
      "outputs": [
        {
          "output_type": "execute_result",
          "data": {
            "text/plain": [
              "array([[   1.    ,    2.7183,    7.3891,   20.0855,   54.5982],\n",
              "       [ 148.4132,  403.4288, 1096.6332, 2980.958 , 8103.0839]])"
            ]
          },
          "metadata": {},
          "execution_count": 4
        }
      ]
    },
    {
      "cell_type": "markdown",
      "source": [
        "`np.maximum()` 함수\n",
        "\n",
        "여러 개의 어레이를 인자로 받는 함수에 대해서도 동일한 방식으로 작동한다. 예를 들어, maximum() 함수는 항목별 최댓값으로 이루어진 어레이를 반환한다."
      ],
      "metadata": {
        "id": "SlCNITYDhcrO"
      }
    },
    {
      "cell_type": "code",
      "source": [
        "x = np.random.randn(8).reshape((4, 2))\n",
        "y = np.random.randn(8).reshape((4, 2))"
      ],
      "metadata": {
        "id": "wJkC1DGGhaiC"
      },
      "execution_count": 12,
      "outputs": []
    },
    {
      "cell_type": "code",
      "source": [
        "x"
      ],
      "metadata": {
        "colab": {
          "base_uri": "https://localhost:8080/"
        },
        "id": "ystg74fPhjEe",
        "outputId": "0ac5a2d2-b806-4b33-c307-d4908cf5833f"
      },
      "execution_count": 13,
      "outputs": [
        {
          "output_type": "execute_result",
          "data": {
            "text/plain": [
              "array([[-2.3702, -1.8608],\n",
              "       [-0.8608,  0.5601],\n",
              "       [-1.2659,  0.1198],\n",
              "       [-1.0635,  0.3329]])"
            ]
          },
          "metadata": {},
          "execution_count": 13
        }
      ]
    },
    {
      "cell_type": "code",
      "source": [
        "y"
      ],
      "metadata": {
        "colab": {
          "base_uri": "https://localhost:8080/"
        },
        "id": "mBbXHsqJhcFC",
        "outputId": "423dbaad-4847-4620-e446-a513c335f076"
      },
      "execution_count": 14,
      "outputs": [
        {
          "output_type": "execute_result",
          "data": {
            "text/plain": [
              "array([[-2.3594, -0.1995],\n",
              "       [-1.542 , -0.9707],\n",
              "       [-1.307 ,  0.2863],\n",
              "       [ 0.378 , -0.7539]])"
            ]
          },
          "metadata": {},
          "execution_count": 14
        }
      ]
    },
    {
      "cell_type": "code",
      "source": [
        "np.maximum(x, y)"
      ],
      "metadata": {
        "colab": {
          "base_uri": "https://localhost:8080/"
        },
        "id": "ryucadFrhfk6",
        "outputId": "a0513b31-d406-44f4-90b5-1613f33dda1b"
      },
      "execution_count": 15,
      "outputs": [
        {
          "output_type": "execute_result",
          "data": {
            "text/plain": [
              "array([[-2.3594, -0.1995],\n",
              "       [-0.8608,  0.5601],\n",
              "       [-1.2659,  0.2863],\n",
              "       [ 0.378 ,  0.3329]])"
            ]
          },
          "metadata": {},
          "execution_count": 15
        }
      ]
    },
    {
      "cell_type": "markdown",
      "source": [
        "`np.divmod()` 함수\n",
        "\n",
        "여러 개의 어레이를 반환하는 유니버설 함수도 있다. 예를 들어, divmod() 함수는 어레이 나눗셈 실행 결과를 항목별 나눗셈의 몫으로 이루어진 어레이와 나머지로 이루어진 어레이의 튜플을 반환한다.\n",
        "\n",
        "먼저 (2,4) 모양의 어레이를 하나 만들자."
      ],
      "metadata": {
        "id": "ePJojWVQh51B"
      }
    },
    {
      "cell_type": "code",
      "source": [
        "arr = np.arange(10,32, 3).reshape((2,4))\n",
        "arr"
      ],
      "metadata": {
        "colab": {
          "base_uri": "https://localhost:8080/"
        },
        "id": "KIPWb051hgV7",
        "outputId": "3ac19c98-d911-474e-ff3c-2a1530de850b"
      },
      "execution_count": 16,
      "outputs": [
        {
          "output_type": "execute_result",
          "data": {
            "text/plain": [
              "array([[10, 13, 16, 19],\n",
              "       [22, 25, 28, 31]])"
            ]
          },
          "metadata": {},
          "execution_count": 16
        }
      ]
    },
    {
      "cell_type": "markdown",
      "source": [
        "위 어레이를 3으로 나누면 모든 항목 각각에 대한 몫과 나머지를 각각 따로 모아 두 개의 어레이로 이루어진 튜플을 반환한다."
      ],
      "metadata": {
        "id": "RB62AczTh8d8"
      }
    },
    {
      "cell_type": "code",
      "source": [
        "np.divmod(arr, 3)"
      ],
      "metadata": {
        "colab": {
          "base_uri": "https://localhost:8080/"
        },
        "id": "c8Jy1Vebh7iU",
        "outputId": "0475d82c-509c-4546-fe63-7057e27d2232"
      },
      "execution_count": 17,
      "outputs": [
        {
          "output_type": "execute_result",
          "data": {
            "text/plain": [
              "(array([[ 3,  4,  5,  6],\n",
              "        [ 7,  8,  9, 10]]), array([[1, 1, 1, 1],\n",
              "        [1, 1, 1, 1]]))"
            ]
          },
          "metadata": {},
          "execution_count": 17
        }
      ]
    },
    {
      "cell_type": "markdown",
      "source": [
        "두 어레이의 나눗셈도 가능하다."
      ],
      "metadata": {
        "id": "G-pFBB4sh-XM"
      }
    },
    {
      "cell_type": "code",
      "source": [
        "arr2 = np.arange(2, 10).reshape((2,4))\n",
        "arr2"
      ],
      "metadata": {
        "colab": {
          "base_uri": "https://localhost:8080/"
        },
        "id": "7mlubj1Wh9d7",
        "outputId": "012becda-8eae-4c80-aac1-25f1401a76c1"
      },
      "execution_count": 18,
      "outputs": [
        {
          "output_type": "execute_result",
          "data": {
            "text/plain": [
              "array([[2, 3, 4, 5],\n",
              "       [6, 7, 8, 9]])"
            ]
          },
          "metadata": {},
          "execution_count": 18
        }
      ]
    },
    {
      "cell_type": "code",
      "source": [
        "np.divmod(arr, arr2)"
      ],
      "metadata": {
        "colab": {
          "base_uri": "https://localhost:8080/"
        },
        "id": "cGhweAK5h_JD",
        "outputId": "9f6fd085-64f0-4eb8-f79a-927d72d8117b"
      },
      "execution_count": 19,
      "outputs": [
        {
          "output_type": "execute_result",
          "data": {
            "text/plain": [
              "(array([[5, 4, 4, 3],\n",
              "        [3, 3, 3, 3]]), array([[0, 1, 0, 4],\n",
              "        [4, 4, 4, 4]]))"
            ]
          },
          "metadata": {},
          "execution_count": 19
        }
      ]
    },
    {
      "cell_type": "markdown",
      "source": [
        "부동소수점의 나눗셈에 대해서도 몫과 나머지를 구한다."
      ],
      "metadata": {
        "id": "AApW1mXyiBFd"
      }
    },
    {
      "cell_type": "code",
      "source": [
        "arr3 = np.arange(10,30, 2.5).reshape((2,4))\n",
        "arr3"
      ],
      "metadata": {
        "colab": {
          "base_uri": "https://localhost:8080/"
        },
        "id": "zhxAnvAyiAJb",
        "outputId": "a4a23caa-b7ac-4692-e82c-1693388e1720"
      },
      "execution_count": 20,
      "outputs": [
        {
          "output_type": "execute_result",
          "data": {
            "text/plain": [
              "array([[10. , 12.5, 15. , 17.5],\n",
              "       [20. , 22.5, 25. , 27.5]])"
            ]
          },
          "metadata": {},
          "execution_count": 20
        }
      ]
    },
    {
      "cell_type": "code",
      "source": [
        "arr4 = np.arange(2, 4.3, 0.3).reshape((2,4))\n",
        "arr4"
      ],
      "metadata": {
        "colab": {
          "base_uri": "https://localhost:8080/"
        },
        "id": "xOjCW8oliCZS",
        "outputId": "96077e36-0c7b-479e-9f85-ba12f9061ed5"
      },
      "execution_count": 21,
      "outputs": [
        {
          "output_type": "execute_result",
          "data": {
            "text/plain": [
              "array([[2. , 2.3, 2.6, 2.9],\n",
              "       [3.2, 3.5, 3.8, 4.1]])"
            ]
          },
          "metadata": {},
          "execution_count": 21
        }
      ]
    },
    {
      "cell_type": "code",
      "source": [
        "np.divmod(arr3, arr4)"
      ],
      "metadata": {
        "colab": {
          "base_uri": "https://localhost:8080/"
        },
        "id": "9yBL-7WziERq",
        "outputId": "545672d2-ce3d-41d9-e372-23fb7515b169"
      },
      "execution_count": 22,
      "outputs": [
        {
          "output_type": "execute_result",
          "data": {
            "text/plain": [
              "(array([[5., 5., 5., 6.],\n",
              "        [6., 6., 6., 6.]]), array([[0. , 1. , 2. , 0.1],\n",
              "        [0.8, 1.5, 2.2, 2.9]]))"
            ]
          },
          "metadata": {},
          "execution_count": 22
        }
      ]
    },
    {
      "cell_type": "markdown",
      "source": [
        "### 예제: 2차원 격자 어레이\n",
        "\n",
        "어레이를 중심으로 프로그래밍을 하면 예를 들어 많은 for 반복문을 생략할 수 있으며, 결과적으로 보다 효율적으로 코드를 구현할 수 있다. 또한 구현된 프로그램은 리스트를 이용하는 프로그램보다 빠르고 메모리 효율적으로 실행된다. 여기서는 몇 가지 예제를 이용하여 어레이 중심 프로그래밍을 소개한다.\n",
        "\n",
        "아래 모양의 격자무뉘에 해당하는 2차원 어레이를 생성하고자 한다. 각 점의 좌표는 -1과 1사이의 값을 20개의 구간으로 균등하게 나눈 값들이다. 즉, 가로 세로 모두 21개의 점으로 구성된다.\n",
        "\n",
        "**주의사항**: for 반복문을 전혀 사용하지 않아야 한다."
      ],
      "metadata": {
        "id": "HQ0MYIl6iLjr"
      }
    },
    {
      "cell_type": "markdown",
      "source": [
        "<img src='https://drive.google.com/uc?export=download&id=1J1x_eVlQQb3w54r3NaqQ2xaFJBgCcwFz' width=\"225\" height =\"\" /><br>"
      ],
      "metadata": {
        "id": "x_x-C-rViRF-"
      }
    },
    {
      "cell_type": "markdown",
      "source": [
        "먼저 `arange()` 함수를 이용하여 -1와 1 사이의 구간을 20개의 구간으로 균등하게 나누는 어레이를 생성하려면 아래에서 처럼 -1에서 1.1 이전까지 0.1 스텝으로 증가하는 값들로 이루어진 어레이를 생성하면 된다."
      ],
      "metadata": {
        "id": "xXj3FC_ritLv"
      }
    },
    {
      "cell_type": "code",
      "source": [
        "points = np.arange(-1, 1.1, 0.1) # -1부터 1.1 전까지 0.1 스텝으로 증가하는 값들의 어레이 생성\n",
        "\n",
        "points"
      ],
      "metadata": {
        "colab": {
          "base_uri": "https://localhost:8080/"
        },
        "id": "KFrmjKBlinEB",
        "outputId": "73c03d2a-c498-4e2a-b15e-7d28234fe192"
      },
      "execution_count": 24,
      "outputs": [
        {
          "output_type": "execute_result",
          "data": {
            "text/plain": [
              "array([-1. , -0.9, -0.8, -0.7, -0.6, -0.5, -0.4, -0.3, -0.2, -0.1, -0. ,\n",
              "        0.1,  0.2,  0.3,  0.4,  0.5,  0.6,  0.7,  0.8,  0.9,  1. ])"
            ]
          },
          "metadata": {},
          "execution_count": 24
        }
      ]
    },
    {
      "cell_type": "markdown",
      "source": [
        "`np.meshgrid()` 함수\n",
        "\n",
        "meshgrid() 함수는 지정된 1차원 어레이 두 개를 이용하여 격자무늬의 좌표를 생성한다. 즉, 격자에 사용되는 점들의 x 좌표와 y 좌표를 따로따로 모아 두 개의 어레이를 반환한다."
      ],
      "metadata": {
        "id": "Br32HE6ri48D"
      }
    },
    {
      "cell_type": "code",
      "source": [
        "xs, ys = np.meshgrid(points, points)"
      ],
      "metadata": {
        "id": "VpwX64YIiz71"
      },
      "execution_count": 26,
      "outputs": []
    },
    {
      "cell_type": "code",
      "source": [
        "xs"
      ],
      "metadata": {
        "colab": {
          "base_uri": "https://localhost:8080/"
        },
        "id": "kaRtIU-yi75a",
        "outputId": "13badd68-6070-42da-da1f-100e044f7b78"
      },
      "execution_count": 27,
      "outputs": [
        {
          "output_type": "execute_result",
          "data": {
            "text/plain": [
              "array([[-1. , -0.9, -0.8, -0.7, -0.6, -0.5, -0.4, -0.3, -0.2, -0.1, -0. ,\n",
              "         0.1,  0.2,  0.3,  0.4,  0.5,  0.6,  0.7,  0.8,  0.9,  1. ],\n",
              "       [-1. , -0.9, -0.8, -0.7, -0.6, -0.5, -0.4, -0.3, -0.2, -0.1, -0. ,\n",
              "         0.1,  0.2,  0.3,  0.4,  0.5,  0.6,  0.7,  0.8,  0.9,  1. ],\n",
              "       [-1. , -0.9, -0.8, -0.7, -0.6, -0.5, -0.4, -0.3, -0.2, -0.1, -0. ,\n",
              "         0.1,  0.2,  0.3,  0.4,  0.5,  0.6,  0.7,  0.8,  0.9,  1. ],\n",
              "       [-1. , -0.9, -0.8, -0.7, -0.6, -0.5, -0.4, -0.3, -0.2, -0.1, -0. ,\n",
              "         0.1,  0.2,  0.3,  0.4,  0.5,  0.6,  0.7,  0.8,  0.9,  1. ],\n",
              "       [-1. , -0.9, -0.8, -0.7, -0.6, -0.5, -0.4, -0.3, -0.2, -0.1, -0. ,\n",
              "         0.1,  0.2,  0.3,  0.4,  0.5,  0.6,  0.7,  0.8,  0.9,  1. ],\n",
              "       [-1. , -0.9, -0.8, -0.7, -0.6, -0.5, -0.4, -0.3, -0.2, -0.1, -0. ,\n",
              "         0.1,  0.2,  0.3,  0.4,  0.5,  0.6,  0.7,  0.8,  0.9,  1. ],\n",
              "       [-1. , -0.9, -0.8, -0.7, -0.6, -0.5, -0.4, -0.3, -0.2, -0.1, -0. ,\n",
              "         0.1,  0.2,  0.3,  0.4,  0.5,  0.6,  0.7,  0.8,  0.9,  1. ],\n",
              "       [-1. , -0.9, -0.8, -0.7, -0.6, -0.5, -0.4, -0.3, -0.2, -0.1, -0. ,\n",
              "         0.1,  0.2,  0.3,  0.4,  0.5,  0.6,  0.7,  0.8,  0.9,  1. ],\n",
              "       [-1. , -0.9, -0.8, -0.7, -0.6, -0.5, -0.4, -0.3, -0.2, -0.1, -0. ,\n",
              "         0.1,  0.2,  0.3,  0.4,  0.5,  0.6,  0.7,  0.8,  0.9,  1. ],\n",
              "       [-1. , -0.9, -0.8, -0.7, -0.6, -0.5, -0.4, -0.3, -0.2, -0.1, -0. ,\n",
              "         0.1,  0.2,  0.3,  0.4,  0.5,  0.6,  0.7,  0.8,  0.9,  1. ],\n",
              "       [-1. , -0.9, -0.8, -0.7, -0.6, -0.5, -0.4, -0.3, -0.2, -0.1, -0. ,\n",
              "         0.1,  0.2,  0.3,  0.4,  0.5,  0.6,  0.7,  0.8,  0.9,  1. ],\n",
              "       [-1. , -0.9, -0.8, -0.7, -0.6, -0.5, -0.4, -0.3, -0.2, -0.1, -0. ,\n",
              "         0.1,  0.2,  0.3,  0.4,  0.5,  0.6,  0.7,  0.8,  0.9,  1. ],\n",
              "       [-1. , -0.9, -0.8, -0.7, -0.6, -0.5, -0.4, -0.3, -0.2, -0.1, -0. ,\n",
              "         0.1,  0.2,  0.3,  0.4,  0.5,  0.6,  0.7,  0.8,  0.9,  1. ],\n",
              "       [-1. , -0.9, -0.8, -0.7, -0.6, -0.5, -0.4, -0.3, -0.2, -0.1, -0. ,\n",
              "         0.1,  0.2,  0.3,  0.4,  0.5,  0.6,  0.7,  0.8,  0.9,  1. ],\n",
              "       [-1. , -0.9, -0.8, -0.7, -0.6, -0.5, -0.4, -0.3, -0.2, -0.1, -0. ,\n",
              "         0.1,  0.2,  0.3,  0.4,  0.5,  0.6,  0.7,  0.8,  0.9,  1. ],\n",
              "       [-1. , -0.9, -0.8, -0.7, -0.6, -0.5, -0.4, -0.3, -0.2, -0.1, -0. ,\n",
              "         0.1,  0.2,  0.3,  0.4,  0.5,  0.6,  0.7,  0.8,  0.9,  1. ],\n",
              "       [-1. , -0.9, -0.8, -0.7, -0.6, -0.5, -0.4, -0.3, -0.2, -0.1, -0. ,\n",
              "         0.1,  0.2,  0.3,  0.4,  0.5,  0.6,  0.7,  0.8,  0.9,  1. ],\n",
              "       [-1. , -0.9, -0.8, -0.7, -0.6, -0.5, -0.4, -0.3, -0.2, -0.1, -0. ,\n",
              "         0.1,  0.2,  0.3,  0.4,  0.5,  0.6,  0.7,  0.8,  0.9,  1. ],\n",
              "       [-1. , -0.9, -0.8, -0.7, -0.6, -0.5, -0.4, -0.3, -0.2, -0.1, -0. ,\n",
              "         0.1,  0.2,  0.3,  0.4,  0.5,  0.6,  0.7,  0.8,  0.9,  1. ],\n",
              "       [-1. , -0.9, -0.8, -0.7, -0.6, -0.5, -0.4, -0.3, -0.2, -0.1, -0. ,\n",
              "         0.1,  0.2,  0.3,  0.4,  0.5,  0.6,  0.7,  0.8,  0.9,  1. ],\n",
              "       [-1. , -0.9, -0.8, -0.7, -0.6, -0.5, -0.4, -0.3, -0.2, -0.1, -0. ,\n",
              "         0.1,  0.2,  0.3,  0.4,  0.5,  0.6,  0.7,  0.8,  0.9,  1. ]])"
            ]
          },
          "metadata": {},
          "execution_count": 27
        }
      ]
    },
    {
      "cell_type": "code",
      "source": [
        "ys"
      ],
      "metadata": {
        "colab": {
          "base_uri": "https://localhost:8080/"
        },
        "id": "U1qzbRcli-7a",
        "outputId": "8311da2b-bf59-4556-bb09-85111a6249df"
      },
      "execution_count": 28,
      "outputs": [
        {
          "output_type": "execute_result",
          "data": {
            "text/plain": [
              "array([[-1. , -1. , -1. , -1. , -1. , -1. , -1. , -1. , -1. , -1. , -1. ,\n",
              "        -1. , -1. , -1. , -1. , -1. , -1. , -1. , -1. , -1. , -1. ],\n",
              "       [-0.9, -0.9, -0.9, -0.9, -0.9, -0.9, -0.9, -0.9, -0.9, -0.9, -0.9,\n",
              "        -0.9, -0.9, -0.9, -0.9, -0.9, -0.9, -0.9, -0.9, -0.9, -0.9],\n",
              "       [-0.8, -0.8, -0.8, -0.8, -0.8, -0.8, -0.8, -0.8, -0.8, -0.8, -0.8,\n",
              "        -0.8, -0.8, -0.8, -0.8, -0.8, -0.8, -0.8, -0.8, -0.8, -0.8],\n",
              "       [-0.7, -0.7, -0.7, -0.7, -0.7, -0.7, -0.7, -0.7, -0.7, -0.7, -0.7,\n",
              "        -0.7, -0.7, -0.7, -0.7, -0.7, -0.7, -0.7, -0.7, -0.7, -0.7],\n",
              "       [-0.6, -0.6, -0.6, -0.6, -0.6, -0.6, -0.6, -0.6, -0.6, -0.6, -0.6,\n",
              "        -0.6, -0.6, -0.6, -0.6, -0.6, -0.6, -0.6, -0.6, -0.6, -0.6],\n",
              "       [-0.5, -0.5, -0.5, -0.5, -0.5, -0.5, -0.5, -0.5, -0.5, -0.5, -0.5,\n",
              "        -0.5, -0.5, -0.5, -0.5, -0.5, -0.5, -0.5, -0.5, -0.5, -0.5],\n",
              "       [-0.4, -0.4, -0.4, -0.4, -0.4, -0.4, -0.4, -0.4, -0.4, -0.4, -0.4,\n",
              "        -0.4, -0.4, -0.4, -0.4, -0.4, -0.4, -0.4, -0.4, -0.4, -0.4],\n",
              "       [-0.3, -0.3, -0.3, -0.3, -0.3, -0.3, -0.3, -0.3, -0.3, -0.3, -0.3,\n",
              "        -0.3, -0.3, -0.3, -0.3, -0.3, -0.3, -0.3, -0.3, -0.3, -0.3],\n",
              "       [-0.2, -0.2, -0.2, -0.2, -0.2, -0.2, -0.2, -0.2, -0.2, -0.2, -0.2,\n",
              "        -0.2, -0.2, -0.2, -0.2, -0.2, -0.2, -0.2, -0.2, -0.2, -0.2],\n",
              "       [-0.1, -0.1, -0.1, -0.1, -0.1, -0.1, -0.1, -0.1, -0.1, -0.1, -0.1,\n",
              "        -0.1, -0.1, -0.1, -0.1, -0.1, -0.1, -0.1, -0.1, -0.1, -0.1],\n",
              "       [-0. , -0. , -0. , -0. , -0. , -0. , -0. , -0. , -0. , -0. , -0. ,\n",
              "        -0. , -0. , -0. , -0. , -0. , -0. , -0. , -0. , -0. , -0. ],\n",
              "       [ 0.1,  0.1,  0.1,  0.1,  0.1,  0.1,  0.1,  0.1,  0.1,  0.1,  0.1,\n",
              "         0.1,  0.1,  0.1,  0.1,  0.1,  0.1,  0.1,  0.1,  0.1,  0.1],\n",
              "       [ 0.2,  0.2,  0.2,  0.2,  0.2,  0.2,  0.2,  0.2,  0.2,  0.2,  0.2,\n",
              "         0.2,  0.2,  0.2,  0.2,  0.2,  0.2,  0.2,  0.2,  0.2,  0.2],\n",
              "       [ 0.3,  0.3,  0.3,  0.3,  0.3,  0.3,  0.3,  0.3,  0.3,  0.3,  0.3,\n",
              "         0.3,  0.3,  0.3,  0.3,  0.3,  0.3,  0.3,  0.3,  0.3,  0.3],\n",
              "       [ 0.4,  0.4,  0.4,  0.4,  0.4,  0.4,  0.4,  0.4,  0.4,  0.4,  0.4,\n",
              "         0.4,  0.4,  0.4,  0.4,  0.4,  0.4,  0.4,  0.4,  0.4,  0.4],\n",
              "       [ 0.5,  0.5,  0.5,  0.5,  0.5,  0.5,  0.5,  0.5,  0.5,  0.5,  0.5,\n",
              "         0.5,  0.5,  0.5,  0.5,  0.5,  0.5,  0.5,  0.5,  0.5,  0.5],\n",
              "       [ 0.6,  0.6,  0.6,  0.6,  0.6,  0.6,  0.6,  0.6,  0.6,  0.6,  0.6,\n",
              "         0.6,  0.6,  0.6,  0.6,  0.6,  0.6,  0.6,  0.6,  0.6,  0.6],\n",
              "       [ 0.7,  0.7,  0.7,  0.7,  0.7,  0.7,  0.7,  0.7,  0.7,  0.7,  0.7,\n",
              "         0.7,  0.7,  0.7,  0.7,  0.7,  0.7,  0.7,  0.7,  0.7,  0.7],\n",
              "       [ 0.8,  0.8,  0.8,  0.8,  0.8,  0.8,  0.8,  0.8,  0.8,  0.8,  0.8,\n",
              "         0.8,  0.8,  0.8,  0.8,  0.8,  0.8,  0.8,  0.8,  0.8,  0.8],\n",
              "       [ 0.9,  0.9,  0.9,  0.9,  0.9,  0.9,  0.9,  0.9,  0.9,  0.9,  0.9,\n",
              "         0.9,  0.9,  0.9,  0.9,  0.9,  0.9,  0.9,  0.9,  0.9,  0.9],\n",
              "       [ 1. ,  1. ,  1. ,  1. ,  1. ,  1. ,  1. ,  1. ,  1. ,  1. ,  1. ,\n",
              "         1. ,  1. ,  1. ,  1. ,  1. ,  1. ,  1. ,  1. ,  1. ,  1. ]])"
            ]
          },
          "metadata": {},
          "execution_count": 28
        }
      ]
    },
    {
      "cell_type": "markdown",
      "source": [
        "xs와 ys를 이용하여 산점도를 그리면 원하는 격자무늬가 얻어진다."
      ],
      "metadata": {
        "id": "gDOKe7oKjE-d"
      }
    },
    {
      "cell_type": "code",
      "source": [
        "# 도표 크기 지정\n",
        "plt.rc('figure', figsize=(6, 6))\n",
        "\n",
        "# 산점도 그리기\n",
        "plt.scatter(xs, ys)\n",
        "plt.show()"
      ],
      "metadata": {
        "colab": {
          "base_uri": "https://localhost:8080/",
          "height": 374
        },
        "id": "_QPW495GjAJ6",
        "outputId": "b1ff3ac6-45ff-4081-b50a-76c586eacec9"
      },
      "execution_count": 29,
      "outputs": [
        {
          "output_type": "display_data",
          "data": {
            "text/plain": [
              "<Figure size 432x432 with 1 Axes>"
            ],
            "image/png": "[encoded data removed]"
          },
          "metadata": {
            "needs_background": "light"
          }
        }
      ]
    },
    {
      "cell_type": "markdown",
      "source": [
        "### 예제: 2차원 이미지 그리기\n",
        "\n",
        "xs와 ys 각각의 제곱을 합하여 제곱근을 구하면 21x21 크기의 대칭 어레이가 얻어진다."
      ],
      "metadata": {
        "id": "zGSFEHJPjJbn"
      }
    },
    {
      "cell_type": "code",
      "source": [
        "z = np.sqrt(xs ** 2 + ys ** 2)"
      ],
      "metadata": {
        "id": "pKZZ7rHGjGvF"
      },
      "execution_count": 30,
      "outputs": []
    },
    {
      "cell_type": "code",
      "source": [
        "z.shape"
      ],
      "metadata": {
        "colab": {
          "base_uri": "https://localhost:8080/"
        },
        "id": "-qqfHlYEjLvS",
        "outputId": "8f464689-428b-466a-da6a-4286f97774bd"
      },
      "execution_count": 31,
      "outputs": [
        {
          "output_type": "execute_result",
          "data": {
            "text/plain": [
              "(21, 21)"
            ]
          },
          "metadata": {},
          "execution_count": 31
        }
      ]
    },
    {
      "cell_type": "markdown",
      "source": [
        "z를 흑백사진으로 표현하면 다음과 같다. 21x21 크기의 해상도를 가진 흑백사진의 명암 대비를 쉽게 알아볼 수 있는 사진이 생성된다."
      ],
      "metadata": {
        "id": "yD3dfTbojNSz"
      }
    },
    {
      "cell_type": "code",
      "source": [
        "# 도표 크기 지정(기본값으로 되돌림)\n",
        "plt.rc('figure', figsize=(10, 6))\n",
        "\n",
        "# 흑백사진으로 보여주기\n",
        "plt.imshow(z, cmap=plt.cm.gray, extent=[-1, 1, 1, -1])\n",
        "\n",
        "# 색막대(색상 지도): 수와 색 사이의 관계를 보여주는 일종의 색지도\n",
        "plt.colorbar()\n",
        "\n",
        "plt.show()"
      ],
      "metadata": {
        "colab": {
          "base_uri": "https://localhost:8080/",
          "height": 378
        },
        "id": "yi5GIBbHjL58",
        "outputId": "54f15b30-0cff-402b-d328-677e9531d528"
      },
      "execution_count": 32,
      "outputs": [
        {
          "output_type": "display_data",
          "data": {
            "text/plain": [
              "<Figure size 720x432 with 2 Axes>"
            ],
            "image/png": "[encoded data removed]"
          },
          "metadata": {
            "needs_background": "light"
          }
        }
      ]
    },
    {
      "cell_type": "markdown",
      "source": [
        "참고: 위 두 예제를 넘파이 어레이가 아니라 리스트와 for 반복문을 이용하여 구현하려고 시도하면 훨씬 많은 일을 해야 함을 어렵지 않게 알 수 있을 것이다.\n",
        "\n",
        "**예제**\n",
        "\n",
        "-1부터 1사이의 구간은 0.02 크기로 총 100개의 구간으로 구성한 다음에 동일한 그래프를 그리면 훨씬 더 섬세한 사진을 얻는다."
      ],
      "metadata": {
        "id": "iNvQau9ljR9d"
      }
    },
    {
      "cell_type": "code",
      "source": [
        "points = np.arange(-1, 1.01, 0.02) # -1부터 1.1 전까지 0.02 스텝으로 증가하는 101 개의 값들로 이루어진 어레이 생성"
      ],
      "metadata": {
        "id": "z3vV02aEjOT6"
      },
      "execution_count": 33,
      "outputs": []
    },
    {
      "cell_type": "code",
      "source": [
        "points.shape"
      ],
      "metadata": {
        "colab": {
          "base_uri": "https://localhost:8080/"
        },
        "id": "uM0qax3UjVMS",
        "outputId": "d09d08fc-5d1a-4c53-cfe6-9453caa68cd2"
      },
      "execution_count": 34,
      "outputs": [
        {
          "output_type": "execute_result",
          "data": {
            "text/plain": [
              "(101,)"
            ]
          },
          "metadata": {},
          "execution_count": 34
        }
      ]
    },
    {
      "cell_type": "markdown",
      "source": [
        "meshgrid() 함수를 이용하여 메쉬 생성에 필요한 x 좌표와 y 좌표 모음을 만든다."
      ],
      "metadata": {
        "id": "INuz-LLZjWew"
      }
    },
    {
      "cell_type": "code",
      "source": [
        "xs, ys = np.meshgrid(points, points)"
      ],
      "metadata": {
        "id": "nJCldO0ejVVq"
      },
      "execution_count": 35,
      "outputs": []
    },
    {
      "cell_type": "markdown",
      "source": [
        "xs 와 ys 각각 (101, 101) 모양의 2차원 어레이다."
      ],
      "metadata": {
        "id": "q295ze5XjaEX"
      }
    },
    {
      "cell_type": "code",
      "source": [
        "xs.shape"
      ],
      "metadata": {
        "colab": {
          "base_uri": "https://localhost:8080/"
        },
        "id": "N5sVqpSqjYF7",
        "outputId": "061a861f-bf12-460e-cc1d-973c94826e5b"
      },
      "execution_count": 37,
      "outputs": [
        {
          "output_type": "execute_result",
          "data": {
            "text/plain": [
              "(101, 101)"
            ]
          },
          "metadata": {},
          "execution_count": 37
        }
      ]
    },
    {
      "cell_type": "code",
      "source": [
        "ys.shape"
      ],
      "metadata": {
        "colab": {
          "base_uri": "https://localhost:8080/"
        },
        "id": "5DTXnZ-VjZHL",
        "outputId": "0cbe6d9a-c9af-4bb8-9a1d-529a7779ba6c"
      },
      "execution_count": 38,
      "outputs": [
        {
          "output_type": "execute_result",
          "data": {
            "text/plain": [
              "(101, 101)"
            ]
          },
          "metadata": {},
          "execution_count": 38
        }
      ]
    },
    {
      "cell_type": "markdown",
      "source": [
        "xs와 ys를 이용하여 산점도를 그리면 한 장의 색종이를 얻는다. 이유는 픽셀이 촘촘하기 때문이다"
      ],
      "metadata": {
        "id": "C8pySgb-jfDo"
      }
    },
    {
      "cell_type": "code",
      "source": [
        "# 도표 크기 지정\n",
        "plt.rc('figure', figsize=(6, 6))\n",
        "\n",
        "# 산점도 그리기\n",
        "plt.scatter(xs, ys)\n",
        "plt.show()"
      ],
      "metadata": {
        "colab": {
          "base_uri": "https://localhost:8080/",
          "height": 374
        },
        "id": "Cu6hKzSfjc80",
        "outputId": "d5bde932-ead4-4dbf-b885-4bde9b8487ad"
      },
      "execution_count": 39,
      "outputs": [
        {
          "output_type": "display_data",
          "data": {
            "text/plain": [
              "<Figure size 432x432 with 1 Axes>"
            ],
            "image/png": "[encoded data removed]"
          },
          "metadata": {
            "needs_background": "light"
          }
        }
      ]
    },
    {
      "cell_type": "markdown",
      "source": [
        "등고선 모양의 이미지를 생성하기 위해 xs와 ys 각각의 제곱을 합하여 제곱근을 구하면 101x101 모양의 2차원 대칭 어레이가 얻어진다."
      ],
      "metadata": {
        "id": "tHCawT_9jhIj"
      }
    },
    {
      "cell_type": "code",
      "source": [
        "z = np.sqrt(xs ** 2 + ys ** 2)"
      ],
      "metadata": {
        "id": "VTJApedXjgHK"
      },
      "execution_count": 40,
      "outputs": []
    },
    {
      "cell_type": "code",
      "source": [
        "z.shape"
      ],
      "metadata": {
        "colab": {
          "base_uri": "https://localhost:8080/"
        },
        "id": "pQqapZc7jiai",
        "outputId": "d8bdd8b8-afff-4bf1-f521-9924b5e5b0a5"
      },
      "execution_count": 41,
      "outputs": [
        {
          "output_type": "execute_result",
          "data": {
            "text/plain": [
              "(101, 101)"
            ]
          },
          "metadata": {},
          "execution_count": 41
        }
      ]
    },
    {
      "cell_type": "markdown",
      "source": [
        "z를 흑백사진으로 표현하면 다음과 같다."
      ],
      "metadata": {
        "id": "4xILGvE0jjqg"
      }
    },
    {
      "cell_type": "code",
      "source": [
        "# 도표 크기 지정(기본값으로 되돌림)\n",
        "plt.rc('figure', figsize=(10, 6))\n",
        "\n",
        "# 흑백사진으로 보여주기\n",
        "plt.imshow(z, cmap=plt.cm.gray, extent=[-1, 1, 1, -1])\n",
        "\n",
        "# 색막대(색상 지도): 수와 색 사이의 관계를 보여주는 일종의 색지도\n",
        "plt.colorbar()\n",
        "\n",
        "plt.show()"
      ],
      "metadata": {
        "colab": {
          "base_uri": "https://localhost:8080/",
          "height": 378
        },
        "id": "7g-YMsPHjijS",
        "outputId": "d5bbd9f1-3bd3-4e9b-eb96-c55b44a38241"
      },
      "execution_count": 42,
      "outputs": [
        {
          "output_type": "display_data",
          "data": {
            "text/plain": [
              "<Figure size 720x432 with 2 Axes>"
            ],
            "image/png": "[encoded data removed]"
          },
          "metadata": {
            "needs_background": "light"
          }
        }
      ]
    },
    {
      "cell_type": "markdown",
      "source": [
        "# 6.2. 통계\n",
        "넘파이 어레이에 사용된 항목들의 합(sum), 평균값(mean), 표준편차(std) 등 기본 통계함수를 지원한다.\n",
        "\n",
        "연습을 위해 먼저 (3, 3) 모양의 어레이를 무작위로 생성한다."
      ],
      "metadata": {
        "id": "rD02bTlsjl6S"
      }
    },
    {
      "cell_type": "code",
      "source": [
        "arr = np.arange(1, 7).reshape(2, 3)\n",
        "arr"
      ],
      "metadata": {
        "colab": {
          "base_uri": "https://localhost:8080/"
        },
        "id": "g759Q4QKjkrr",
        "outputId": "ccdc93b7-fd65-4ec3-f8f5-a8e425971dfb"
      },
      "execution_count": 43,
      "outputs": [
        {
          "output_type": "execute_result",
          "data": {
            "text/plain": [
              "array([[1, 2, 3],\n",
              "       [4, 5, 6]])"
            ]
          },
          "metadata": {},
          "execution_count": 43
        }
      ]
    },
    {
      "cell_type": "markdown",
      "source": [
        "`mean()` 메서드\n",
        "\n",
        "어레이에 포함된 모든 값들의 평균값을 계산한다."
      ],
      "metadata": {
        "id": "PjsvgpLbjoHa"
      }
    },
    {
      "cell_type": "code",
      "source": [
        "arr.mean()"
      ],
      "metadata": {
        "colab": {
          "base_uri": "https://localhost:8080/"
        },
        "id": "BIkq-Z-zjnR6",
        "outputId": "7d900b1d-3742-4cde-d901-7ac77ca21019"
      },
      "execution_count": 44,
      "outputs": [
        {
          "output_type": "execute_result",
          "data": {
            "text/plain": [
              "3.5"
            ]
          },
          "metadata": {},
          "execution_count": 44
        }
      ]
    },
    {
      "cell_type": "markdown",
      "source": [
        "**참고**: np.mean() 함수를 호출하면 어레이 객체에 포함된 mean() 메서드가 사용된다."
      ],
      "metadata": {
        "id": "xeqtcgwijrsv"
      }
    },
    {
      "cell_type": "code",
      "source": [
        "np.mean(arr)"
      ],
      "metadata": {
        "colab": {
          "base_uri": "https://localhost:8080/"
        },
        "id": "ax8a5OLEjqf6",
        "outputId": "9ad478b3-dcb2-48de-8893-6df32e3941a4"
      },
      "execution_count": 45,
      "outputs": [
        {
          "output_type": "execute_result",
          "data": {
            "text/plain": [
              "3.5"
            ]
          },
          "metadata": {},
          "execution_count": 45
        }
      ]
    },
    {
      "cell_type": "markdown",
      "source": [
        "`sum()` 메서드\n",
        "\n",
        "어레이에 포함된 모든 값들의 합을 계산한다."
      ],
      "metadata": {
        "id": "BHZZ8BzSjuLH"
      }
    },
    {
      "cell_type": "code",
      "source": [
        "arr.sum()"
      ],
      "metadata": {
        "colab": {
          "base_uri": "https://localhost:8080/"
        },
        "id": "q4djgNigjvR7",
        "outputId": "07271cb1-1660-4e1e-c029-91c3c96ea50f"
      },
      "execution_count": 46,
      "outputs": [
        {
          "output_type": "execute_result",
          "data": {
            "text/plain": [
              "21"
            ]
          },
          "metadata": {},
          "execution_count": 46
        }
      ]
    },
    {
      "cell_type": "markdown",
      "source": [
        "`cumsum()` 메서드\n",
        "\n",
        "어레이에 포함된 모든 값들의 누적합을 계산한다."
      ],
      "metadata": {
        "id": "2gJWvJeNjyes"
      }
    },
    {
      "cell_type": "code",
      "source": [
        "arr.cumsum()"
      ],
      "metadata": {
        "colab": {
          "base_uri": "https://localhost:8080/"
        },
        "id": "laX8sX1ujxBz",
        "outputId": "22628bf0-cf42-445e-d9c7-0a2d705e1d4b"
      },
      "execution_count": 47,
      "outputs": [
        {
          "output_type": "execute_result",
          "data": {
            "text/plain": [
              "array([ 1,  3,  6, 10, 15, 21])"
            ]
          },
          "metadata": {},
          "execution_count": 47
        }
      ]
    },
    {
      "cell_type": "markdown",
      "source": [
        "`cumprod()` 메서드\n",
        "\n",
        "어레이에 포함된 모든 값들의 누적곱을 계산한다."
      ],
      "metadata": {
        "id": "VDgysiOMj1dH"
      }
    },
    {
      "cell_type": "code",
      "source": [
        "arr.cumprod()"
      ],
      "metadata": {
        "colab": {
          "base_uri": "https://localhost:8080/"
        },
        "id": "gz0rGtBSjz07",
        "outputId": "bbe6f956-637e-4914-9630-f6ad2005f249"
      },
      "execution_count": 48,
      "outputs": [
        {
          "output_type": "execute_result",
          "data": {
            "text/plain": [
              "array([  1,   2,   6,  24, 120, 720])"
            ]
          },
          "metadata": {},
          "execution_count": 48
        }
      ]
    },
    {
      "cell_type": "markdown",
      "source": [
        "**축(axis) 활용**\n",
        "\n",
        "앞서 언급된 모든 함수는 축(axis)을 이용한 함수 적용도 지원한다. 즉, 축을 지정하여 축에 따른 결과를 모든 어레이를 생성한다. 축 지정은 axis 키워드 인자를 사용한다.\n",
        "\n",
        "+ axis=0: 행을 기준으로 함수 적용\n",
        "+ axis=1: 열을 기준으로 함수 적용\n",
        "\n",
        "**평균값**\n",
        "\n",
        "+ 열별 평균값 계산: 행을 따라 평균값을 계산해야 하기에 axis=0 지정."
      ],
      "metadata": {
        "id": "qVH-KVnWj209"
      }
    },
    {
      "cell_type": "code",
      "source": [
        "arr.mean(axis=0)"
      ],
      "metadata": {
        "colab": {
          "base_uri": "https://localhost:8080/"
        },
        "id": "P-S2Cmdwj67i",
        "outputId": "d68301ae-0984-4d21-ccde-17c90a93c77e"
      },
      "execution_count": 49,
      "outputs": [
        {
          "output_type": "execute_result",
          "data": {
            "text/plain": [
              "array([2.5, 3.5, 4.5])"
            ]
          },
          "metadata": {},
          "execution_count": 49
        }
      ]
    },
    {
      "cell_type": "markdown",
      "source": [
        "+ 행별 평균값 계산: 열을 따라 평균값을 계산해야 하기에 axis=1 지정."
      ],
      "metadata": {
        "id": "JMVBHyVSkAI1"
      }
    },
    {
      "cell_type": "code",
      "source": [
        "arr.mean(axis=1)"
      ],
      "metadata": {
        "colab": {
          "base_uri": "https://localhost:8080/"
        },
        "id": "YnSSv5Xzj-2X",
        "outputId": "32627bb7-c02d-4bbb-a590-deee8e1f1b47"
      },
      "execution_count": 50,
      "outputs": [
        {
          "output_type": "execute_result",
          "data": {
            "text/plain": [
              "array([2., 5.])"
            ]
          },
          "metadata": {},
          "execution_count": 50
        }
      ]
    },
    {
      "cell_type": "markdown",
      "source": [
        "**합**\n",
        "\n",
        "+ 열별 항목의 합 계산: 행을 따라 항목들의 합을 계산해야 하기에 axis=0 지정."
      ],
      "metadata": {
        "id": "7qwFQbL6kCkG"
      }
    },
    {
      "cell_type": "code",
      "source": [
        "arr.sum(axis=0)"
      ],
      "metadata": {
        "colab": {
          "base_uri": "https://localhost:8080/"
        },
        "id": "h_bDJpdbkBvb",
        "outputId": "db8531e8-5c74-45ec-a6d6-3ec75de0d29f"
      },
      "execution_count": 51,
      "outputs": [
        {
          "output_type": "execute_result",
          "data": {
            "text/plain": [
              "array([5, 7, 9])"
            ]
          },
          "metadata": {},
          "execution_count": 51
        }
      ]
    },
    {
      "cell_type": "markdown",
      "source": [
        "+ 행별 항목의 합 계산: 열을 따라 항목들의 합을 계산해야 하기에 axis=1 지정."
      ],
      "metadata": {
        "id": "5T3ji9fzkFGt"
      }
    },
    {
      "cell_type": "code",
      "source": [
        "arr.sum(axis=1)"
      ],
      "metadata": {
        "colab": {
          "base_uri": "https://localhost:8080/"
        },
        "id": "J1NLZuC-kGbq",
        "outputId": "5b05fd48-b674-4a13-f418-e291d0089dd7"
      },
      "execution_count": 52,
      "outputs": [
        {
          "output_type": "execute_result",
          "data": {
            "text/plain": [
              "array([ 6, 15])"
            ]
          },
          "metadata": {},
          "execution_count": 52
        }
      ]
    },
    {
      "cell_type": "markdown",
      "source": [
        "**누적합**\n",
        "\n",
        "+ 열별 항목의 누적합 계산: 행을 따라 항목들의 누적합을 계산해야 하기에 axis=0 지정."
      ],
      "metadata": {
        "id": "zqz1w0PKkJST"
      }
    },
    {
      "cell_type": "code",
      "source": [
        "arr.cumsum(axis=0)"
      ],
      "metadata": {
        "colab": {
          "base_uri": "https://localhost:8080/"
        },
        "id": "BPQO91dlkIGq",
        "outputId": "58682e92-82a6-4de1-e8e3-64f5e47741ba"
      },
      "execution_count": 53,
      "outputs": [
        {
          "output_type": "execute_result",
          "data": {
            "text/plain": [
              "array([[1, 2, 3],\n",
              "       [5, 7, 9]])"
            ]
          },
          "metadata": {},
          "execution_count": 53
        }
      ]
    },
    {
      "cell_type": "markdown",
      "source": [
        "+ 행별 항목의 누적합 계산: 열을 따라 항목들의 누적합을 계산해야 하기에 axis=1 지정."
      ],
      "metadata": {
        "id": "yO25398wkMMk"
      }
    },
    {
      "cell_type": "code",
      "source": [
        "arr.cumsum(axis=1)"
      ],
      "metadata": {
        "colab": {
          "base_uri": "https://localhost:8080/"
        },
        "id": "ypKVJcs4kLgi",
        "outputId": "aebfcba8-469d-4ced-f46c-78a5f851f70b"
      },
      "execution_count": 54,
      "outputs": [
        {
          "output_type": "execute_result",
          "data": {
            "text/plain": [
              "array([[ 1,  3,  6],\n",
              "       [ 4,  9, 15]])"
            ]
          },
          "metadata": {},
          "execution_count": 54
        }
      ]
    },
    {
      "cell_type": "markdown",
      "source": [
        "**누적곱**\n",
        "\n",
        "+ 열별 항목의 누적곱 계산: 행을 따라 항목들의 누적곱을 계산해야 하기에 axis=0 지정."
      ],
      "metadata": {
        "id": "wxZacQnSkOQs"
      }
    },
    {
      "cell_type": "code",
      "source": [
        "arr.cumprod(axis=0)"
      ],
      "metadata": {
        "colab": {
          "base_uri": "https://localhost:8080/"
        },
        "id": "boc6bCRokNVa",
        "outputId": "4b9bd21e-2093-4e9a-de48-aab83ce02071"
      },
      "execution_count": 55,
      "outputs": [
        {
          "output_type": "execute_result",
          "data": {
            "text/plain": [
              "array([[ 1,  2,  3],\n",
              "       [ 4, 10, 18]])"
            ]
          },
          "metadata": {},
          "execution_count": 55
        }
      ]
    },
    {
      "cell_type": "markdown",
      "source": [
        "+ 행별 항목의 누적곱 계산: 열을 따라 항목들의 누적곱을 계산해야 하기에 axis=1 지정."
      ],
      "metadata": {
        "id": "UznrPuwjkRB1"
      }
    },
    {
      "cell_type": "code",
      "source": [
        "arr.cumprod(axis=1)"
      ],
      "metadata": {
        "colab": {
          "base_uri": "https://localhost:8080/"
        },
        "id": "P5WSQgfLkR_6",
        "outputId": "6f1aa57c-2238-4dec-d752-d15c820ba168"
      },
      "execution_count": 56,
      "outputs": [
        {
          "output_type": "execute_result",
          "data": {
            "text/plain": [
              "array([[  1,   2,   6],\n",
              "       [  4,  20, 120]])"
            ]
          },
          "metadata": {},
          "execution_count": 56
        }
      ]
    },
    {
      "cell_type": "markdown",
      "source": [
        "# 6.3. 부울 어레이\n",
        "참인 항목의 개수\n",
        "\n",
        "특정 조건을 만족하는 항목들의 개수를 구하는 과정은 다음과 같다.\n",
        "\n",
        "+ 부울 연산식을 이용하여 조건 구현\n",
        "+ sum() 메서드 활용 가능. 이유는 True는 1, False는 0으로 간주되기 때문임.\n",
        "\n",
        "아래 코드는 임의로 생성된 100개의 부동소수점 중에서 양수의 개수를 계산한다."
      ],
      "metadata": {
        "id": "I_vbP0bEkVEs"
      }
    },
    {
      "cell_type": "code",
      "source": [
        "arr = np.random.randn(100)"
      ],
      "metadata": {
        "id": "lN9Ypsh6kTl6"
      },
      "execution_count": 57,
      "outputs": []
    },
    {
      "cell_type": "code",
      "source": [
        "(arr > 0).sum()"
      ],
      "metadata": {
        "colab": {
          "base_uri": "https://localhost:8080/"
        },
        "id": "vQhlGwM9kZUK",
        "outputId": "7ab5124a-3f65-4f13-e49e-8719ad1224dc"
      },
      "execution_count": 58,
      "outputs": [
        {
          "output_type": "execute_result",
          "data": {
            "text/plain": [
              "51"
            ]
          },
          "metadata": {},
          "execution_count": 58
        }
      ]
    },
    {
      "cell_type": "markdown",
      "source": [
        "`any()`와 `all()` 메서드\n",
        "\n",
        "+ `any()` 메서드: 부울 어레이에 포함된 항목이 하나라도 참이면 참을 반환\n",
        "+ `all()` 메서드: 부울 어레이에 포함된 항목이 모두 참일 때만 참을 반환"
      ],
      "metadata": {
        "id": "SixaMIQQkayO"
      }
    },
    {
      "cell_type": "code",
      "source": [
        "bools = np.array([False, False, True, False])"
      ],
      "metadata": {
        "id": "oOFwAnuFkZdS"
      },
      "execution_count": 59,
      "outputs": []
    },
    {
      "cell_type": "code",
      "source": [
        "bools.any()"
      ],
      "metadata": {
        "colab": {
          "base_uri": "https://localhost:8080/"
        },
        "id": "H5eZHVmskhDK",
        "outputId": "9663237c-9fbd-4143-aedb-72baffbe886c"
      },
      "execution_count": 60,
      "outputs": [
        {
          "output_type": "execute_result",
          "data": {
            "text/plain": [
              "True"
            ]
          },
          "metadata": {},
          "execution_count": 60
        }
      ]
    },
    {
      "cell_type": "code",
      "source": [
        "bools.all()"
      ],
      "metadata": {
        "colab": {
          "base_uri": "https://localhost:8080/"
        },
        "id": "UN5LFySKkhL6",
        "outputId": "ee47be86-6e9b-46b1-e777-8ae5ef1b9151"
      },
      "execution_count": 61,
      "outputs": [
        {
          "output_type": "execute_result",
          "data": {
            "text/plain": [
              "False"
            ]
          },
          "metadata": {},
          "execution_count": 61
        }
      ]
    },
    {
      "cell_type": "markdown",
      "source": [
        "# 6.4. 정렬\n",
        "`sort()` 메서드\n",
        "\n",
        "정해진 축을 기준으로 오름차순으로 정열할 때 사용한다. 물론 1차원 어레이는 축을 지정할 필요가 없다."
      ],
      "metadata": {
        "id": "fYpv1WPSkigx"
      }
    },
    {
      "cell_type": "code",
      "source": [
        "arr = np.random.randn(6)\n",
        "arr"
      ],
      "metadata": {
        "colab": {
          "base_uri": "https://localhost:8080/"
        },
        "id": "XqIxCfHKkh6t",
        "outputId": "e5924921-6e27-4ca5-9761-02bb15a7f820"
      },
      "execution_count": 62,
      "outputs": [
        {
          "output_type": "execute_result",
          "data": {
            "text/plain": [
              "array([ 0.6803,  0.6355, -0.7572,  0.7181, -0.3043, -1.6778])"
            ]
          },
          "metadata": {},
          "execution_count": 62
        }
      ]
    },
    {
      "cell_type": "code",
      "source": [
        "arr.sort()\n",
        "arr"
      ],
      "metadata": {
        "colab": {
          "base_uri": "https://localhost:8080/"
        },
        "id": "z-s2Dq14klYi",
        "outputId": "10fd8db2-d77e-4d61-ba6d-f47ba2dcde04"
      },
      "execution_count": 63,
      "outputs": [
        {
          "output_type": "execute_result",
          "data": {
            "text/plain": [
              "array([-1.6778, -0.7572, -0.3043,  0.6355,  0.6803,  0.7181])"
            ]
          },
          "metadata": {},
          "execution_count": 63
        }
      ]
    },
    {
      "cell_type": "markdown",
      "source": [
        "다차원 어레이는 축을 이용하여 행 또는 열 기준으로 정렬할 수 있다."
      ],
      "metadata": {
        "id": "Q31tJvwCkofT"
      }
    },
    {
      "cell_type": "code",
      "source": [
        "arr = np.random.randn(5, 3)\n",
        "arr"
      ],
      "metadata": {
        "colab": {
          "base_uri": "https://localhost:8080/"
        },
        "id": "7f3H2L5fkmNK",
        "outputId": "be46614e-532a-4945-b45a-9c34518f2813"
      },
      "execution_count": 64,
      "outputs": [
        {
          "output_type": "execute_result",
          "data": {
            "text/plain": [
              "array([[ 0.427 , -1.5637, -0.3675],\n",
              "       [ 1.0459,  1.22  , -0.2477],\n",
              "       [-0.4162, -0.1167, -1.8448],\n",
              "       [ 2.0687, -0.777 ,  1.4402],\n",
              "       [-0.1106,  1.2274,  1.9208]])"
            ]
          },
          "metadata": {},
          "execution_count": 64
        }
      ]
    },
    {
      "cell_type": "markdown",
      "source": [
        "행을 따라 정렬하려면 인자 0을 사용한다.\n",
        "\n"
      ],
      "metadata": {
        "id": "5Ka5QZ-Ckq56"
      }
    },
    {
      "cell_type": "code",
      "source": [
        "arr.sort(0)\n",
        "arr"
      ],
      "metadata": {
        "colab": {
          "base_uri": "https://localhost:8080/"
        },
        "id": "zZ8nR364kttM",
        "outputId": "217d5af0-3719-4ae0-b295-ba32fa745039"
      },
      "execution_count": 65,
      "outputs": [
        {
          "output_type": "execute_result",
          "data": {
            "text/plain": [
              "array([[-0.4162, -1.5637, -1.8448],\n",
              "       [-0.1106, -0.777 , -0.3675],\n",
              "       [ 0.427 , -0.1167, -0.2477],\n",
              "       [ 1.0459,  1.22  ,  1.4402],\n",
              "       [ 2.0687,  1.2274,  1.9208]])"
            ]
          },
          "metadata": {},
          "execution_count": 65
        }
      ]
    },
    {
      "cell_type": "markdown",
      "source": [
        "**주의사항**: `sort()` 메서드는 기존의 어레이를 직접 변환한다. 즉, arr이 직접 변경된다."
      ],
      "metadata": {
        "id": "zl35O0e0kq1I"
      }
    },
    {
      "cell_type": "code",
      "source": [
        "arr"
      ],
      "metadata": {
        "colab": {
          "base_uri": "https://localhost:8080/"
        },
        "id": "6et6Xe7RkpfD",
        "outputId": "441b08be-a30e-49f3-bc42-157cad8dbf30"
      },
      "execution_count": 66,
      "outputs": [
        {
          "output_type": "execute_result",
          "data": {
            "text/plain": [
              "array([[-0.4162, -1.5637, -1.8448],\n",
              "       [-0.1106, -0.777 , -0.3675],\n",
              "       [ 0.427 , -0.1167, -0.2477],\n",
              "       [ 1.0459,  1.22  ,  1.4402],\n",
              "       [ 2.0687,  1.2274,  1.9208]])"
            ]
          },
          "metadata": {},
          "execution_count": 66
        }
      ]
    },
    {
      "cell_type": "markdown",
      "source": [
        "열을 따라 정렬하려면 인자 1을 사용한다."
      ],
      "metadata": {
        "id": "IWPz60BXkzlk"
      }
    },
    {
      "cell_type": "code",
      "source": [
        "arr.sort(1)\n",
        "arr"
      ],
      "metadata": {
        "colab": {
          "base_uri": "https://localhost:8080/"
        },
        "id": "ZAJztltEk493",
        "outputId": "42058aa2-ef22-4a8d-c79d-007ddbe62b46"
      },
      "execution_count": 67,
      "outputs": [
        {
          "output_type": "execute_result",
          "data": {
            "text/plain": [
              "array([[-1.8448, -1.5637, -0.4162],\n",
              "       [-0.777 , -0.3675, -0.1106],\n",
              "       [-0.2477, -0.1167,  0.427 ],\n",
              "       [ 1.0459,  1.22  ,  1.4402],\n",
              "       [ 1.2274,  1.9208,  2.0687]])"
            ]
          },
          "metadata": {},
          "execution_count": 67
        }
      ]
    },
    {
      "cell_type": "markdown",
      "source": [
        "**예제**\n",
        "\n",
        "어레이에 사용된 값들의 백분위수를 정렬을 이용하여 쉽게 구할 수 있다.\n",
        "\n",
        "예를 들어, 임의로 생성된 1,000개의 부동 소수점들 중에서 하위 5%에 해당하는 수를 구해보자."
      ],
      "metadata": {
        "id": "IGuM1BuwkzjK"
      }
    },
    {
      "cell_type": "code",
      "source": [
        "large_arr = np.random.randn(1000)"
      ],
      "metadata": {
        "id": "P7gVni4kk54v"
      },
      "execution_count": 68,
      "outputs": []
    },
    {
      "cell_type": "markdown",
      "source": [
        "먼저 정렬 한 다음에 하위 5%에 해당하는 위치를 구하여 인덱싱하면 바로 답이 나온다."
      ],
      "metadata": {
        "id": "UxnuacM7kzgt"
      }
    },
    {
      "cell_type": "code",
      "source": [
        "large_arr.sort()"
      ],
      "metadata": {
        "id": "lHBoFSo9k7Ce"
      },
      "execution_count": 69,
      "outputs": []
    },
    {
      "cell_type": "markdown",
      "source": [
        "하위 5%의 위치는 어레이의 길이에 0.05를 곱해준 값에 해당한다. 인덱스로 사용해야 하기에 정수로 형변환해주면 되며, 예상한 대로 50번 인덱스의 값을 가리킨다."
      ],
      "metadata": {
        "id": "b5uvKNtYkzeD"
      }
    },
    {
      "cell_type": "code",
      "source": [
        "five_from_bottom = int(0.05 * len(large_arr))\n",
        "five_from_bottom"
      ],
      "metadata": {
        "colab": {
          "base_uri": "https://localhost:8080/"
        },
        "id": "kIDp-2j9k86o",
        "outputId": "e96a8797-708d-454b-e0df-546406950146"
      },
      "execution_count": 70,
      "outputs": [
        {
          "output_type": "execute_result",
          "data": {
            "text/plain": [
              "50"
            ]
          },
          "metadata": {},
          "execution_count": 70
        }
      ]
    },
    {
      "cell_type": "markdown",
      "source": [
        "따라서 하위 5%에 해당하는 값은 아래와 같다."
      ],
      "metadata": {
        "id": "G7RAaSekkzYR"
      }
    },
    {
      "cell_type": "code",
      "source": [
        "large_arr[five_from_bottom]"
      ],
      "metadata": {
        "colab": {
          "base_uri": "https://localhost:8080/"
        },
        "id": "RTKyB2KbkvC7",
        "outputId": "e69989df-49a4-48f7-d611-8831595521b1"
      },
      "execution_count": 71,
      "outputs": [
        {
          "output_type": "execute_result",
          "data": {
            "text/plain": [
              "-1.496216295671384"
            ]
          },
          "metadata": {},
          "execution_count": 71
        }
      ]
    },
    {
      "cell_type": "markdown",
      "source": [
        "`argmax()/argmin()` 메서드\n",
        "\n",
        "각각 지정된 축을 기준으로 항목들을 가장 큰/작은 값의 항목이 위치한 인덱스를 반환한다."
      ],
      "metadata": {
        "id": "-Sn9bki8lAfU"
      }
    },
    {
      "cell_type": "code",
      "source": [
        "np.random.seed(18)\n",
        "arr= np.random.randint(11, 99, (2,3))\n",
        "arr"
      ],
      "metadata": {
        "colab": {
          "base_uri": "https://localhost:8080/"
        },
        "id": "qOAktIXak_OK",
        "outputId": "82f7edee-2ae8-4252-d71c-32d5ec1191bd"
      },
      "execution_count": 72,
      "outputs": [
        {
          "output_type": "execute_result",
          "data": {
            "text/plain": [
              "array([[53, 30, 80],\n",
              "       [73, 60, 57]])"
            ]
          },
          "metadata": {},
          "execution_count": 72
        }
      ]
    },
    {
      "cell_type": "markdown",
      "source": [
        "축을 지정하지 않으면 전체 항목을 대상으로 하며, 반환된 값은 어레이를 1차원으로 변환했을 때의 순서를 보여준다.\n",
        "\n",
        "아래 결과인 5는 5번 인덱스, 여기서는 마지막에 사용된 항목을 가리킨다."
      ],
      "metadata": {
        "id": "FK3lK_oFlDbE"
      }
    },
    {
      "cell_type": "code",
      "source": [
        "arr.argmax()"
      ],
      "metadata": {
        "colab": {
          "base_uri": "https://localhost:8080/"
        },
        "id": "k3aqRq1KlCPy",
        "outputId": "82686159-6b4f-4171-e09b-83e20872ba6a"
      },
      "execution_count": 73,
      "outputs": [
        {
          "output_type": "execute_result",
          "data": {
            "text/plain": [
              "2"
            ]
          },
          "metadata": {},
          "execution_count": 73
        }
      ]
    },
    {
      "cell_type": "code",
      "source": [
        "arr.argmin()"
      ],
      "metadata": {
        "colab": {
          "base_uri": "https://localhost:8080/"
        },
        "id": "57ZdCSEylE-i",
        "outputId": "98c40c95-1f5c-49a0-8a69-c3b9029b3233"
      },
      "execution_count": 74,
      "outputs": [
        {
          "output_type": "execute_result",
          "data": {
            "text/plain": [
              "1"
            ]
          },
          "metadata": {},
          "execution_count": 74
        }
      ]
    },
    {
      "cell_type": "markdown",
      "source": [
        "축을 지정하면 축별로 인덱스를 반환한다.\n",
        "\n",
        "예를 들어, 열별 최대 값이 위치한 인덱스는 당연히 1이 나온다. 이유는 1번 행(둘쨋줄)의 값이 0번 행(첫째줄)의 값들보다 모두 크기 때문이다."
      ],
      "metadata": {
        "id": "tWRaC9YllGJc"
      }
    },
    {
      "cell_type": "code",
      "source": [
        "arr.argmax(0)"
      ],
      "metadata": {
        "colab": {
          "base_uri": "https://localhost:8080/"
        },
        "id": "rvQhJMcIlFIi",
        "outputId": "5b996226-59c4-4807-9ac4-5befd4e7350c"
      },
      "execution_count": 75,
      "outputs": [
        {
          "output_type": "execute_result",
          "data": {
            "text/plain": [
              "array([1, 1, 0])"
            ]
          },
          "metadata": {},
          "execution_count": 75
        }
      ]
    },
    {
      "cell_type": "code",
      "source": [
        "arr.argmin(0)"
      ],
      "metadata": {
        "colab": {
          "base_uri": "https://localhost:8080/"
        },
        "id": "QsZtzLaFlIKC",
        "outputId": "5224a192-c4cc-490a-d71b-85e8af89f4d8"
      },
      "execution_count": 76,
      "outputs": [
        {
          "output_type": "execute_result",
          "data": {
            "text/plain": [
              "array([0, 0, 1])"
            ]
          },
          "metadata": {},
          "execution_count": 76
        }
      ]
    },
    {
      "cell_type": "code",
      "source": [
        "arr.argmax(1)"
      ],
      "metadata": {
        "colab": {
          "base_uri": "https://localhost:8080/"
        },
        "id": "HwX5B-oulI3q",
        "outputId": "e40a6cf4-1265-453a-d1a9-402d9db71869"
      },
      "execution_count": 77,
      "outputs": [
        {
          "output_type": "execute_result",
          "data": {
            "text/plain": [
              "array([2, 0])"
            ]
          },
          "metadata": {},
          "execution_count": 77
        }
      ]
    },
    {
      "cell_type": "code",
      "source": [
        "arr.argmin(1)"
      ],
      "metadata": {
        "colab": {
          "base_uri": "https://localhost:8080/"
        },
        "id": "82nBt_A3lJ2C",
        "outputId": "32e2bbe5-3493-4426-897f-935c8e971831"
      },
      "execution_count": 78,
      "outputs": [
        {
          "output_type": "execute_result",
          "data": {
            "text/plain": [
              "array([1, 2])"
            ]
          },
          "metadata": {},
          "execution_count": 78
        }
      ]
    },
    {
      "cell_type": "markdown",
      "source": [
        "**예제: 붓꽃 데이터**\n",
        "\n",
        "붓꽃(아이리스) 데이터를 이용하여 활용법을 살펴 보기 위해 먼저 데이터를 인터넷 상에서 가져온다"
      ],
      "metadata": {
        "id": "weaWGchllLys"
      }
    },
    {
      "cell_type": "code",
      "source": [
        "url = 'https://archive.ics.uci.edu/ml/machine-learning-databases/iris/iris.data'"
      ],
      "metadata": {
        "id": "8W1P3PcblKw0"
      },
      "execution_count": 79,
      "outputs": []
    },
    {
      "cell_type": "markdown",
      "source": [
        "위 주소의 iris.data 파일을 data라는 하위 디렉토리에 저장한다."
      ],
      "metadata": {
        "id": "iSaAX7yZlPDC"
      }
    },
    {
      "cell_type": "code",
      "source": [
        "import os\n",
        "import urllib.request\n",
        "\n",
        "PATH = './data/'\n",
        "os.makedirs(PATH, exist_ok=True)\n",
        "urllib.request.urlretrieve(url, PATH+'iris.data')"
      ],
      "metadata": {
        "colab": {
          "base_uri": "https://localhost:8080/"
        },
        "id": "-kc4E1INlN2y",
        "outputId": "63a45de4-f37a-4c80-eeaa-c6762bd34ae2"
      },
      "execution_count": 80,
      "outputs": [
        {
          "output_type": "execute_result",
          "data": {
            "text/plain": [
              "('./data/iris.data', <http.client.HTTPMessage at 0x7f4641c48950>)"
            ]
          },
          "metadata": {},
          "execution_count": 80
        }
      ]
    },
    {
      "cell_type": "markdown",
      "source": [
        "다운로드된 iris.data 파일에는 아래 형식의 데이터가 150개 들어 있다.\n",
        "\n",
        "    5.1,3.5,1.4,0.2,Iris-setosa"
      ],
      "metadata": {
        "id": "Ku2zWPKslQ4o"
      }
    },
    {
      "cell_type": "markdown",
      "source": [
        "하나의 데이터에 사용된 값들은 하나의 아이리스(붓꽃)에 대한 꽃잎, 꽃받침과 관련된 특성(features)과 품종을 나타내며, 보다 구체적으로 아래 순서를 따른다.\n",
        "\n",
        "    꽃받침 길이, 꽃받침 너비, 꽃잎 길이, 꽃잎 너비, 품종"
      ],
      "metadata": {
        "id": "KnpM_bvdlWo4"
      }
    },
    {
      "cell_type": "code",
      "source": [
        "!cat data/iris.data | head -n 5"
      ],
      "metadata": {
        "colab": {
          "base_uri": "https://localhost:8080/"
        },
        "id": "haigoEbJlQFK",
        "outputId": "2c5dd42f-f326-4a6b-d747-c35b35e71c4e"
      },
      "execution_count": 82,
      "outputs": [
        {
          "output_type": "stream",
          "name": "stdout",
          "text": [
            "5.1,3.5,1.4,0.2,Iris-setosa\n",
            "4.9,3.0,1.4,0.2,Iris-setosa\n",
            "4.7,3.2,1.3,0.2,Iris-setosa\n",
            "4.6,3.1,1.5,0.2,Iris-setosa\n",
            "5.0,3.6,1.4,0.2,Iris-setosa\n"
          ]
        }
      ]
    },
    {
      "cell_type": "markdown",
      "source": [
        "이 중에 마지막 품종 특성은 문자열이고 나머지 특성은 부동소수점, 즉 수치형 데이터이다. 여기서는 연습을 위해 수치형 데이터를 담고 있는 네 개의 특성만 가져온다.\n",
        "\n",
        "+ genfromtxt() 함수: 인터넷 또는 로컬에 저장된 텍스트 데이터를 적절한 모양의 어레이로 불러오는 함수\n",
        "+ delimiter=',': 쉼표를 특성값들을 구분하는 기준으로 지정\n",
        "+ usecols=[0,1,2,3]: 리스트에 지정된 인덱스의 특성만 가져오기"
      ],
      "metadata": {
        "id": "tQvl3NbzlbBf"
      }
    },
    {
      "cell_type": "code",
      "source": [
        "iris_2d = np.genfromtxt(PATH+'iris.data', delimiter=',', dtype='float', usecols=[0,1,2,3])"
      ],
      "metadata": {
        "id": "ogqnwLialSLq"
      },
      "execution_count": 83,
      "outputs": []
    },
    {
      "cell_type": "code",
      "source": [
        "iris_2d.shape"
      ],
      "metadata": {
        "colab": {
          "base_uri": "https://localhost:8080/"
        },
        "id": "HinRBK6Wld3K",
        "outputId": "b1974e8a-6a1e-4609-db69-1978e22912c7"
      },
      "execution_count": 84,
      "outputs": [
        {
          "output_type": "execute_result",
          "data": {
            "text/plain": [
              "(150, 4)"
            ]
          },
          "metadata": {},
          "execution_count": 84
        }
      ]
    },
    {
      "cell_type": "markdown",
      "source": [
        "처음 5개의 샘플은 앞서 살펴본 것과 동일하다. 이번에는 다만 2차원 어레이로 보일 뿐이다."
      ],
      "metadata": {
        "id": "ESqe0BxVlfbV"
      }
    },
    {
      "cell_type": "code",
      "source": [
        "iris_2d[:5]"
      ],
      "metadata": {
        "colab": {
          "base_uri": "https://localhost:8080/"
        },
        "id": "U4-kmSDwlegK",
        "outputId": "bf86e4d8-a4d7-4f1f-9d9a-c789b966662e"
      },
      "execution_count": 85,
      "outputs": [
        {
          "output_type": "execute_result",
          "data": {
            "text/plain": [
              "array([[5.1, 3.5, 1.4, 0.2],\n",
              "       [4.9, 3. , 1.4, 0.2],\n",
              "       [4.7, 3.2, 1.3, 0.2],\n",
              "       [4.6, 3.1, 1.5, 0.2],\n",
              "       [5. , 3.6, 1.4, 0.2]])"
            ]
          },
          "metadata": {},
          "execution_count": 85
        }
      ]
    },
    {
      "cell_type": "markdown",
      "source": [
        "**문제**\n",
        "\n",
        "2차원 어레이에서 결측치(nan)를 전혀 갖지 않은 행만 선택하는 함수 `drop_2d()`를 정의해보자.\n",
        "\n",
        "**견본 답안**\n",
        "\n",
        "iris_2d 어레이를 이용하여` drop_2d()` 함수를 어떻게 정의해야 할지 살펴보자. 먼저 iris_2d 어레이에 누락치의 존재 여부를 판단해야 한다.\n",
        "\n",
        "np.isnan() 함수는 누락치가 있는 위치는 True, 나머지 위치는 False를 갖는 부울 어레이를 생성한다."
      ],
      "metadata": {
        "id": "4VNFpEIjlh04"
      }
    },
    {
      "cell_type": "code",
      "source": [
        "np.isnan(iris_2d)[:5]"
      ],
      "metadata": {
        "colab": {
          "base_uri": "https://localhost:8080/"
        },
        "id": "22KCDbfalguC",
        "outputId": "93346554-43f2-4b8b-9693-68524b49f8a0"
      },
      "execution_count": 86,
      "outputs": [
        {
          "output_type": "execute_result",
          "data": {
            "text/plain": [
              "array([[False, False, False, False],\n",
              "       [False, False, False, False],\n",
              "       [False, False, False, False],\n",
              "       [False, False, False, False],\n",
              "       [False, False, False, False]])"
            ]
          },
          "metadata": {},
          "execution_count": 86
        }
      ]
    },
    {
      "cell_type": "markdown",
      "source": [
        "만약 결측치가 있다면 True가 한 번 이상 사용되었기에 `any()` 메서드를 이용하여 누착치의 존재 여부를 판단할 수 있다."
      ],
      "metadata": {
        "id": "xMGcMajxll3-"
      }
    },
    {
      "cell_type": "code",
      "source": [
        "np.isnan(iris_2d).any()"
      ],
      "metadata": {
        "colab": {
          "base_uri": "https://localhost:8080/"
        },
        "id": "SB5vibDPlk5C",
        "outputId": "408e8c84-ed1d-4ffb-8402-3e19338e14c1"
      },
      "execution_count": 87,
      "outputs": [
        {
          "output_type": "execute_result",
          "data": {
            "text/plain": [
              "False"
            ]
          },
          "metadata": {},
          "execution_count": 87
        }
      ]
    },
    {
      "cell_type": "markdown",
      "source": [
        "그런데 누락치가 전혀 없다. 따라서 하나의 누락치를 임의로 만들어 보자. 예를 들어, 처음 5개 샘플의 꽃잎 너비(3번 열)의 값을 nan으로 대체하자."
      ],
      "metadata": {
        "id": "ogXQWHtoltJy"
      }
    },
    {
      "cell_type": "code",
      "source": [
        "iris_2d[:5,3] = None"
      ],
      "metadata": {
        "id": "U23FSfdylr7K"
      },
      "execution_count": 88,
      "outputs": []
    },
    {
      "cell_type": "code",
      "source": [
        "iris_2d[:10]"
      ],
      "metadata": {
        "colab": {
          "base_uri": "https://localhost:8080/"
        },
        "id": "5XaVqYCNlugK",
        "outputId": "42ffb415-a95a-4d7d-ae87-f3ca67f95899"
      },
      "execution_count": 89,
      "outputs": [
        {
          "output_type": "execute_result",
          "data": {
            "text/plain": [
              "array([[5.1, 3.5, 1.4, nan],\n",
              "       [4.9, 3. , 1.4, nan],\n",
              "       [4.7, 3.2, 1.3, nan],\n",
              "       [4.6, 3.1, 1.5, nan],\n",
              "       [5. , 3.6, 1.4, nan],\n",
              "       [5.4, 3.9, 1.7, 0.4],\n",
              "       [4.6, 3.4, 1.4, 0.3],\n",
              "       [5. , 3.4, 1.5, 0.2],\n",
              "       [4.4, 2.9, 1.4, 0.2],\n",
              "       [4.9, 3.1, 1.5, 0.1]])"
            ]
          },
          "metadata": {},
          "execution_count": 89
        }
      ]
    },
    {
      "cell_type": "markdown",
      "source": [
        "이제 누락치가 존재하기에 `any()` 메서드는 True를 반환한다."
      ],
      "metadata": {
        "id": "VG9vdty6lvtA"
      }
    },
    {
      "cell_type": "code",
      "source": [
        "np.isnan(iris_2d).any()"
      ],
      "metadata": {
        "colab": {
          "base_uri": "https://localhost:8080/"
        },
        "id": "Hvk7QNUolu0q",
        "outputId": "cb8bb6bb-156d-45b3-d601-1cb694175749"
      },
      "execution_count": 90,
      "outputs": [
        {
          "output_type": "execute_result",
          "data": {
            "text/plain": [
              "True"
            ]
          },
          "metadata": {},
          "execution_count": 90
        }
      ]
    },
    {
      "cell_type": "markdown",
      "source": [
        "`sum()` 함수를 이용하여 5개의 누락치가 있음을 정확하게 파악할 수도 있다.\n",
        "\n",
        "+ `sum()` 함수: True는 1, False는 0으로 처리한다."
      ],
      "metadata": {
        "id": "Be6bwESGlz2n"
      }
    },
    {
      "cell_type": "code",
      "source": [
        "np.sum(np.isnan(iris_2d))"
      ],
      "metadata": {
        "colab": {
          "base_uri": "https://localhost:8080/"
        },
        "id": "EkO_oUgYlyxS",
        "outputId": "47ada1c8-cb18-4572-83b3-2f4e92c24de1"
      },
      "execution_count": 91,
      "outputs": [
        {
          "output_type": "execute_result",
          "data": {
            "text/plain": [
              "5"
            ]
          },
          "metadata": {},
          "execution_count": 91
        }
      ]
    },
    {
      "cell_type": "markdown",
      "source": [
        "`sum()` 메서드를 사용할 수도 있다."
      ],
      "metadata": {
        "id": "JN-DiqRJl3kg"
      }
    },
    {
      "cell_type": "code",
      "source": [
        "np.isnan(iris_2d).sum()"
      ],
      "metadata": {
        "colab": {
          "base_uri": "https://localhost:8080/"
        },
        "id": "ZHn9cGmWl2j0",
        "outputId": "4f15da13-c749-47ab-9a22-10ef21b7321d"
      },
      "execution_count": 92,
      "outputs": [
        {
          "output_type": "execute_result",
          "data": {
            "text/plain": [
              "5"
            ]
          },
          "metadata": {},
          "execution_count": 92
        }
      ]
    },
    {
      "cell_type": "markdown",
      "source": [
        "행 단위로 누락치의 존재를 찾기 위해 행별로 sum() 함수를 실행한다. 즉, 축을 1로 지정한다."
      ],
      "metadata": {
        "id": "Op9CK9pol6lu"
      }
    },
    {
      "cell_type": "code",
      "source": [
        "np.sum(np.isnan(iris_2d), axis=1)[:10]"
      ],
      "metadata": {
        "colab": {
          "base_uri": "https://localhost:8080/"
        },
        "id": "iThy2PpEl5MC",
        "outputId": "8f7ef105-ff3f-4016-d618-9793529123e6"
      },
      "execution_count": 93,
      "outputs": [
        {
          "output_type": "execute_result",
          "data": {
            "text/plain": [
              "array([1, 1, 1, 1, 1, 0, 0, 0, 0, 0])"
            ]
          },
          "metadata": {},
          "execution_count": 93
        }
      ]
    },
    {
      "cell_type": "markdown",
      "source": [
        "정확히 150개의 행에 대한 누락치 존재 여부를 보여준다."
      ],
      "metadata": {
        "id": "TKrB_IX1l8tO"
      }
    },
    {
      "cell_type": "code",
      "source": [
        "np.sum(np.isnan(iris_2d), axis=1).shape"
      ],
      "metadata": {
        "colab": {
          "base_uri": "https://localhost:8080/"
        },
        "id": "tSeqR-iJl7ly",
        "outputId": "d48f15f7-842c-469a-b9e3-6dd8faeac943"
      },
      "execution_count": 94,
      "outputs": [
        {
          "output_type": "execute_result",
          "data": {
            "text/plain": [
              "(150,)"
            ]
          },
          "metadata": {},
          "execution_count": 94
        }
      ]
    },
    {
      "cell_type": "markdown",
      "source": [
        "이제 위 코드와 부울 인덱싱을 활용하여 누락치가 없는 행만 추출할 수 있다."
      ],
      "metadata": {
        "id": "SGzmxY5gl-UB"
      }
    },
    {
      "cell_type": "code",
      "source": [
        "mask = np.sum(np.isnan(iris_2d), axis=1) == 0"
      ],
      "metadata": {
        "id": "5x8ACe8Wl9ma"
      },
      "execution_count": 95,
      "outputs": []
    },
    {
      "cell_type": "code",
      "source": [
        "iris_2d[mask].shape"
      ],
      "metadata": {
        "colab": {
          "base_uri": "https://localhost:8080/"
        },
        "id": "kl8Kc14Il_x8",
        "outputId": "1a30a77b-6c93-46e0-8478-2d8af5bd14df"
      },
      "execution_count": 96,
      "outputs": [
        {
          "output_type": "execute_result",
          "data": {
            "text/plain": [
              "(145, 4)"
            ]
          },
          "metadata": {},
          "execution_count": 96
        }
      ]
    },
    {
      "cell_type": "markdown",
      "source": [
        "위 어레이의 처음 5개의 샘플 데이터는 iris_2d 어레이에서 5번에서 9번 인덱스에 위치한 샘플 데이터와 동일하다."
      ],
      "metadata": {
        "id": "8EPc2mY7mA6n"
      }
    },
    {
      "cell_type": "code",
      "source": [
        "iris_2d[mask][:5]"
      ],
      "metadata": {
        "colab": {
          "base_uri": "https://localhost:8080/"
        },
        "id": "tEHBOnTkl_82",
        "outputId": "3a074086-38bb-4f6d-8b74-2970954468d0"
      },
      "execution_count": 97,
      "outputs": [
        {
          "output_type": "execute_result",
          "data": {
            "text/plain": [
              "array([[5.4, 3.9, 1.7, 0.4],\n",
              "       [4.6, 3.4, 1.4, 0.3],\n",
              "       [5. , 3.4, 1.5, 0.2],\n",
              "       [4.4, 2.9, 1.4, 0.2],\n",
              "       [4.9, 3.1, 1.5, 0.1]])"
            ]
          },
          "metadata": {},
          "execution_count": 97
        }
      ]
    },
    {
      "cell_type": "markdown",
      "source": [
        "이제 drop_2d() 함수를 다음과 같이 정의할 수 있다."
      ],
      "metadata": {
        "id": "JC2XFqe7mDAz"
      }
    },
    {
      "cell_type": "code",
      "source": [
        "def drop_2d(arr_2d):\n",
        "    mask = np.isnan(arr_2d).sum(axis=1) == 0\n",
        "    return arr_2d[mask]"
      ],
      "metadata": {
        "id": "TI135bNCmCCj"
      },
      "execution_count": 98,
      "outputs": []
    },
    {
      "cell_type": "markdown",
      "source": [
        "iris_2d에 위 함수를 적용하면 이전과 동일한 결과를 얻는다."
      ],
      "metadata": {
        "id": "7Z0pxuTpmEya"
      }
    },
    {
      "cell_type": "code",
      "source": [
        "drop_2d(iris_2d)[:5]"
      ],
      "metadata": {
        "colab": {
          "base_uri": "https://localhost:8080/"
        },
        "id": "gRZTL3QxmD-D",
        "outputId": "7974fb0f-5b49-4afb-c738-910e92e23387"
      },
      "execution_count": 99,
      "outputs": [
        {
          "output_type": "execute_result",
          "data": {
            "text/plain": [
              "array([[5.4, 3.9, 1.7, 0.4],\n",
              "       [4.6, 3.4, 1.4, 0.3],\n",
              "       [5. , 3.4, 1.5, 0.2],\n",
              "       [4.4, 2.9, 1.4, 0.2],\n",
              "       [4.9, 3.1, 1.5, 0.1]])"
            ]
          },
          "metadata": {},
          "execution_count": 99
        }
      ]
    },
    {
      "cell_type": "markdown",
      "source": [
        "**문제**\n",
        "\n",
        "iris_2d 데이터셋에 사용된 붓꽃들의 품종은 아래 세 개이다."
      ],
      "metadata": {
        "id": "EOqsLMJTmG1D"
      }
    },
    {
      "cell_type": "code",
      "source": [
        "a = np.array(['Iris-setosa', 'Iris-versicolor', 'Iris-virginica'])"
      ],
      "metadata": {
        "id": "0F9NdmMDmF_7"
      },
      "execution_count": 100,
      "outputs": []
    },
    {
      "cell_type": "markdown",
      "source": [
        "150개의 품종을 무작위로 선택하되 Iris-setosa 품종이 다른 품종들의 두 배로 선택되도록 하라.\n",
        "\n",
        "힌트: `np.random.choice()` 함수를 활용하라.\n",
        "\n",
        "**견본답안**\n",
        "\n",
        "`np.random.choice()` 함수의 p 키워드 인자를 이용한다. 사용되는 인자는 [0.5, 0.25, 0.25] 이다."
      ],
      "metadata": {
        "id": "Qm2s0W_lmKK6"
      }
    },
    {
      "cell_type": "code",
      "source": [
        "np.random.seed(42)  # 무작위성 시드 지정\n",
        "species_out = np.random.choice(a, 150, p=[0.5, 0.25, 0.25])"
      ],
      "metadata": {
        "id": "6iQmIeV9mI1z"
      },
      "execution_count": 101,
      "outputs": []
    },
    {
      "cell_type": "markdown",
      "source": [
        "세 개의 이름 중에서 무작위로 150개의 이름을 선택하였다."
      ],
      "metadata": {
        "id": "FOFxKobwmNYO"
      }
    },
    {
      "cell_type": "code",
      "source": [
        "species_out.shape"
      ],
      "metadata": {
        "colab": {
          "base_uri": "https://localhost:8080/"
        },
        "id": "3seJMi36mMM5",
        "outputId": "a2dc77f8-2dd6-4314-9fb9-821e1122f274"
      },
      "execution_count": 102,
      "outputs": [
        {
          "output_type": "execute_result",
          "data": {
            "text/plain": [
              "(150,)"
            ]
          },
          "metadata": {},
          "execution_count": 102
        }
      ]
    },
    {
      "cell_type": "markdown",
      "source": [
        "품종별 비율은 대략적으로 2:1:1 이다"
      ],
      "metadata": {
        "id": "lr9o6HHCmT6l"
      }
    },
    {
      "cell_type": "code",
      "source": [
        "setosa_ratio = (species_out == 'Iris-setosa').sum()/150\n",
        "versicolor_ratio = (species_out == 'Iris-versicolor').sum()/150\n",
        "virginica_ratio = (species_out == 'Iris-virginica').sum()/150\n",
        "\n",
        "print(f\"세토사, 버시컬러, 비르지니카 세 품종의 비율은 {setosa_ratio:.2f}:{versicolor_ratio:.2f}:{virginica_ratio:.2f} 이다.\")"
      ],
      "metadata": {
        "colab": {
          "base_uri": "https://localhost:8080/"
        },
        "id": "AoBOcXwumOaE",
        "outputId": "16f775ab-3b70-4867-a742-d1d813c078c4"
      },
      "execution_count": 103,
      "outputs": [
        {
          "output_type": "stream",
          "name": "stdout",
          "text": [
            "세토사, 버시컬러, 비르지니카 세 품종의 비율은 0.53:0.21:0.25 이다.\n"
          ]
        }
      ]
    },
    {
      "cell_type": "code",
      "source": [
        ""
      ],
      "metadata": {
        "id": "AbR-Yt3ZmVBL"
      },
      "execution_count": null,
      "outputs": []
    },
    {
      "cell_type": "markdown",
      "source": [
        "# 6.5. 선형 대수\n",
        "행렬 곱셈, 전치 행렬, 역행렬 등을 2차원 어레이로 계산하는 방식을 간단한 예제를 이용하여 소개한다.\n",
        "\n",
        "행렬곱\n",
        "\n",
        "먼저 두 개의 행렬을 2차원 어레이로 구현하자. 행렬 x는 (2, 3) 모양의 2차원 어레이다."
      ],
      "metadata": {
        "id": "GGH6FmnFmWTv"
      }
    },
    {
      "cell_type": "code",
      "source": [
        "x = np.array([[1., 2., 3.], [4., 5., 6.]])\n",
        "x"
      ],
      "metadata": {
        "colab": {
          "base_uri": "https://localhost:8080/"
        },
        "id": "FSaPvieymW87",
        "outputId": "eda73af7-2721-4796-cb14-2c995e56859e"
      },
      "execution_count": 104,
      "outputs": [
        {
          "output_type": "execute_result",
          "data": {
            "text/plain": [
              "array([[1., 2., 3.],\n",
              "       [4., 5., 6.]])"
            ]
          },
          "metadata": {},
          "execution_count": 104
        }
      ]
    },
    {
      "cell_type": "markdown",
      "source": [
        "행렬 y는 (3, 2) 모양의 2차원 어레이다."
      ],
      "metadata": {
        "id": "oqBy_ifamaJQ"
      }
    },
    {
      "cell_type": "code",
      "source": [
        "y = np.array([[6., 23.], [-1, 7], [8, 9]])\n",
        "y"
      ],
      "metadata": {
        "colab": {
          "base_uri": "https://localhost:8080/"
        },
        "id": "jFFc25cgmYwz",
        "outputId": "3762eb18-3d26-4f14-b888-bb194c3c43d5"
      },
      "execution_count": 106,
      "outputs": [
        {
          "output_type": "execute_result",
          "data": {
            "text/plain": [
              "array([[ 6., 23.],\n",
              "       [-1.,  7.],\n",
              "       [ 8.,  9.]])"
            ]
          },
          "metadata": {},
          "execution_count": 106
        }
      ]
    },
    {
      "cell_type": "markdown",
      "source": [
        "두 행렬의 곱 x y는 `dot()` 메서드를 이용하여 구한다. 결과는 (2, 2) 모양의 어레이다."
      ],
      "metadata": {
        "id": "ZWI6bQDrmcse"
      }
    },
    {
      "cell_type": "code",
      "source": [
        "x.dot(y)"
      ],
      "metadata": {
        "colab": {
          "base_uri": "https://localhost:8080/"
        },
        "id": "EaZLdFzoma8j",
        "outputId": "9bf8aef9-031e-4c12-9143-27ea7f5103f5"
      },
      "execution_count": 107,
      "outputs": [
        {
          "output_type": "execute_result",
          "data": {
            "text/plain": [
              "array([[ 28.,  64.],\n",
              "       [ 67., 181.]])"
            ]
          },
          "metadata": {},
          "execution_count": 107
        }
      ]
    },
    {
      "cell_type": "markdown",
      "source": [
        "`np.dot()` 함수를 이용해도 동일한 결과를 얻는다."
      ],
      "metadata": {
        "id": "sEaUDO2YmekX"
      }
    },
    {
      "cell_type": "code",
      "source": [
        "np.dot(x, y)"
      ],
      "metadata": {
        "colab": {
          "base_uri": "https://localhost:8080/"
        },
        "id": "E1doC82imd1C",
        "outputId": "26b7c5be-fb23-4659-e416-4e03619039d2"
      },
      "execution_count": 108,
      "outputs": [
        {
          "output_type": "execute_result",
          "data": {
            "text/plain": [
              "array([[ 28.,  64.],\n",
              "       [ 67., 181.]])"
            ]
          },
          "metadata": {},
          "execution_count": 108
        }
      ]
    },
    {
      "cell_type": "markdown",
      "source": [
        "**@ 연산자**\n",
        "\n",
        "`np.dot()` 함수 대신 @ 기호를 중위 연산자로 사용할 수 있다."
      ],
      "metadata": {
        "id": "MtR7SAr5mgX-"
      }
    },
    {
      "cell_type": "code",
      "source": [
        "x @ y"
      ],
      "metadata": {
        "colab": {
          "base_uri": "https://localhost:8080/"
        },
        "id": "bJjiyqaMmllQ",
        "outputId": "e6e7ea38-c048-47c2-9e3c-dfb385b5068b"
      },
      "execution_count": 109,
      "outputs": [
        {
          "output_type": "execute_result",
          "data": {
            "text/plain": [
              "array([[ 28.,  64.],\n",
              "       [ 67., 181.]])"
            ]
          },
          "metadata": {},
          "execution_count": 109
        }
      ]
    },
    {
      "cell_type": "markdown",
      "source": [
        "전치 어레이와 전치 행렬\n",
        "\n",
        "전치 행렬은 주어진 행렬의 행과 열을 서로 교환해서 얻어진다.\n",
        "\n",
        "위 전치 행렬에 사용된 2차원 어레이는 아래처럼 생성할 수 있다."
      ],
      "metadata": {
        "id": "Mu7ujjh3mk02"
      }
    },
    {
      "cell_type": "code",
      "source": [
        "x = np.arange(1, 7).reshape((3, 2))\n",
        "x"
      ],
      "metadata": {
        "colab": {
          "base_uri": "https://localhost:8080/"
        },
        "id": "22ltA9yamfoq",
        "outputId": "a41e9bf8-36dd-44dc-ac59-662d5984878b"
      },
      "execution_count": 110,
      "outputs": [
        {
          "output_type": "execute_result",
          "data": {
            "text/plain": [
              "array([[1, 2],\n",
              "       [3, 4],\n",
              "       [5, 6]])"
            ]
          },
          "metadata": {},
          "execution_count": 110
        }
      ]
    },
    {
      "cell_type": "markdown",
      "source": [
        "전치 행렬은 전치 어레이로 구현된다. 전치 어레이는 기존 어레이의 축을 교환하며, 뷰를 이용한다. 즉, 새로운 어레이를 생성하지 않고 기존 어레이를 읽어오는 방식을 달리한다."
      ],
      "metadata": {
        "id": "5nuis-w8mrcr"
      }
    },
    {
      "cell_type": "code",
      "source": [
        "x.T"
      ],
      "metadata": {
        "colab": {
          "base_uri": "https://localhost:8080/"
        },
        "id": "vHxlSNa4mqvL",
        "outputId": "949a1966-6fa0-4e14-d97c-4fd6343593c5"
      },
      "execution_count": 111,
      "outputs": [
        {
          "output_type": "execute_result",
          "data": {
            "text/plain": [
              "array([[1, 3, 5],\n",
              "       [2, 4, 6]])"
            ]
          },
          "metadata": {},
          "execution_count": 111
        }
      ]
    },
    {
      "cell_type": "code",
      "source": [
        "y = np.arange(-6, 0).reshape((2, 3))\n",
        "y"
      ],
      "metadata": {
        "colab": {
          "base_uri": "https://localhost:8080/"
        },
        "id": "bdLrghXWmskL",
        "outputId": "23869cbe-ef30-4058-b386-9f25c2d646fe"
      },
      "execution_count": 112,
      "outputs": [
        {
          "output_type": "execute_result",
          "data": {
            "text/plain": [
              "array([[-6, -5, -4],\n",
              "       [-3, -2, -1]])"
            ]
          },
          "metadata": {},
          "execution_count": 112
        }
      ]
    },
    {
      "cell_type": "code",
      "source": [
        "y.T"
      ],
      "metadata": {
        "colab": {
          "base_uri": "https://localhost:8080/"
        },
        "id": "Xoqi8KmYmthM",
        "outputId": "e4589d5f-f207-42c6-e4e2-0974556c22aa"
      },
      "execution_count": 113,
      "outputs": [
        {
          "output_type": "execute_result",
          "data": {
            "text/plain": [
              "array([[-6, -3],\n",
              "       [-5, -2],\n",
              "       [-4, -1]])"
            ]
          },
          "metadata": {},
          "execution_count": 113
        }
      ]
    },
    {
      "cell_type": "markdown",
      "source": [
        "x y의 전치 행렬은 y의 전치 행렬과 x의 전치 행렬의 곱이다."
      ],
      "metadata": {
        "id": "_nDe4aismvsA"
      }
    },
    {
      "cell_type": "code",
      "source": [
        "((x @ y).T == y.T @ x.T).all()"
      ],
      "metadata": {
        "colab": {
          "base_uri": "https://localhost:8080/"
        },
        "id": "b-5IlCdwmuhb",
        "outputId": "cc524654-5455-4e86-bd67-d6f5ba120cee"
      },
      "execution_count": 114,
      "outputs": [
        {
          "output_type": "execute_result",
          "data": {
            "text/plain": [
              "True"
            ]
          },
          "metadata": {},
          "execution_count": 114
        }
      ]
    },
    {
      "cell_type": "markdown",
      "source": [
        "**역행렬**\n",
        "\n",
        "역행렬은 numpy.linalg 모듈에 포함된 inv() 함수를 이용하여 구한다."
      ],
      "metadata": {
        "id": "-yn09NNZmx8b"
      }
    },
    {
      "cell_type": "code",
      "source": [
        "from numpy.linalg import inv\n",
        "\n",
        "X = np.random.randn(5, 5)\n",
        "X"
      ],
      "metadata": {
        "colab": {
          "base_uri": "https://localhost:8080/"
        },
        "id": "tgqqmlc6mw2j",
        "outputId": "184ddf5f-f614-4ef2-9ed5-e0f7911fd587"
      },
      "execution_count": 115,
      "outputs": [
        {
          "output_type": "execute_result",
          "data": {
            "text/plain": [
              "array([[-0.1924,  0.3015, -0.0347, -1.1687,  1.1428],\n",
              "       [ 0.7519,  0.791 , -0.9094,  1.4028, -1.4019],\n",
              "       [ 0.5869,  2.1905, -0.9905, -0.5663,  0.0997],\n",
              "       [-0.5035, -1.5507,  0.0686, -1.0623,  0.4736],\n",
              "       [-0.9194,  1.5499, -0.7833, -0.3221,  0.8135]])"
            ]
          },
          "metadata": {},
          "execution_count": 115
        }
      ]
    },
    {
      "cell_type": "code",
      "source": [
        "inv(X)"
      ],
      "metadata": {
        "colab": {
          "base_uri": "https://localhost:8080/"
        },
        "id": "72otA7__mzYr",
        "outputId": "4292400b-597c-4092-b591-30df9ae5c136"
      },
      "execution_count": 116,
      "outputs": [
        {
          "output_type": "execute_result",
          "data": {
            "text/plain": [
              "array([[ 1.8396,  0.914 , -0.3551, -0.4065, -0.7291],\n",
              "       [-0.8325, -0.6671,  0.5273, -0.2824,  0.1198],\n",
              "       [-1.3581, -1.403 ,  0.4893, -0.5424, -0.2539],\n",
              "       [ 1.587 ,  1.0625, -1.1981, -0.6912,  0.1507],\n",
              "       [ 2.986 ,  1.3738, -1.4092, -0.7172, -0.008 ]])"
            ]
          },
          "metadata": {},
          "execution_count": 116
        }
      ]
    },
    {
      "cell_type": "markdown",
      "source": [
        "X @ (inv(X)) 거의 항등 함수로 계산된다.\n",
        "\n",
        "**참고**: 컴퓨터를 이용한 부동소수점 연산은 완벽함과 거리가 아주 멀다."
      ],
      "metadata": {
        "id": "x7Hk-OC2m3lH"
      }
    },
    {
      "cell_type": "code",
      "source": [
        "X @ (inv(X))"
      ],
      "metadata": {
        "colab": {
          "base_uri": "https://localhost:8080/"
        },
        "id": "yJ0THNhTm1-j",
        "outputId": "4b484ccc-f8a3-482c-c6b8-bfba821134f2"
      },
      "execution_count": 117,
      "outputs": [
        {
          "output_type": "execute_result",
          "data": {
            "text/plain": [
              "array([[ 1., -0., -0.,  0., -0.],\n",
              "       [ 0.,  1.,  0., -0.,  0.],\n",
              "       [ 0., -0.,  1.,  0., -0.],\n",
              "       [-0.,  0.,  0.,  1.,  0.],\n",
              "       [-0., -0., -0., -0.,  1.]])"
            ]
          },
          "metadata": {},
          "execution_count": 117
        }
      ]
    },
    {
      "cell_type": "markdown",
      "source": [
        "numpy.linalg 모듈에서 제공하는 선형대수 관련 함수들은 NumPy: 선형 대수에서 찾아볼 수 있다."
      ],
      "metadata": {
        "id": "CxEwp13um7yF"
      }
    },
    {
      "cell_type": "markdown",
      "source": [
        "# 6.6. 난수 생성\n",
        "가장 많이 사용된 무작위 수 생성함수 3개와 시드(seed)의 역할을 살펴본다.\n",
        "\n",
        "np.random.randn() 함수\n",
        "\n",
        "임의의 부동소수점을 표준 정규 분포를 따르면서 지정된 수만큼 생성한다."
      ],
      "metadata": {
        "id": "5Uqn0QZEm83e"
      }
    },
    {
      "cell_type": "code",
      "source": [
        "samples = np.random.randn(10000)\n",
        "plt.hist(samples, bins=100)\n",
        "plt.show()"
      ],
      "metadata": {
        "colab": {
          "base_uri": "https://localhost:8080/",
          "height": 374
        },
        "id": "DZkWHsvCm6Zd",
        "outputId": "cb48469d-7b1a-4fb6-da35-1980aa0e562d"
      },
      "execution_count": 118,
      "outputs": [
        {
          "output_type": "display_data",
          "data": {
            "text/plain": [
              "<Figure size 720x432 with 1 Axes>"
            ],
            "image/png": "[encoded data removed]"
          },
          "metadata": {
            "needs_background": "light"
          }
        }
      ]
    },
    {
      "cell_type": "markdown",
      "source": [
        "`np.random.rand()` 함수\n",
        "\n",
        "0과 1사의 임의의 부동소수점을 균등 분포를 따르면서 지정된 수만큼 생성한다."
      ],
      "metadata": {
        "id": "lG8MCO7tnAIC"
      }
    },
    {
      "cell_type": "code",
      "source": [
        "samples = np.random.rand(10000)\n",
        "plt.hist(samples, bins=100)\n",
        "plt.show()"
      ],
      "metadata": {
        "colab": {
          "base_uri": "https://localhost:8080/",
          "height": 374
        },
        "id": "Y4ym7tMVm_rf",
        "outputId": "80e59b37-e067-44dd-b998-9ba24ef0f23d"
      },
      "execution_count": 119,
      "outputs": [
        {
          "output_type": "display_data",
          "data": {
            "text/plain": [
              "<Figure size 720x432 with 1 Axes>"
            ],
            "image/png": "[encoded data removed]"
          },
          "metadata": {
            "needs_background": "light"
          }
        }
      ]
    },
    {
      "cell_type": "markdown",
      "source": [
        "`np.random.randint()` 함수\n",
        "\n",
        "지정된 구간 사이에서 임의의 정수를 균등 분포를 따르면서 지정된 수만큼 생성한다."
      ],
      "metadata": {
        "id": "N7lyyzSXnCiy"
      }
    },
    {
      "cell_type": "code",
      "source": [
        "samples = np.random.randint(0,100,10000)\n",
        "plt.hist(samples, bins=100)\n",
        "plt.show()"
      ],
      "metadata": {
        "colab": {
          "base_uri": "https://localhost:8080/",
          "height": 374
        },
        "id": "YPutt2vbm-aF",
        "outputId": "91c103d7-174a-4216-abc3-d06a4a9cbdf0"
      },
      "execution_count": 120,
      "outputs": [
        {
          "output_type": "display_data",
          "data": {
            "text/plain": [
              "<Figure size 720x432 with 1 Axes>"
            ],
            "image/png": "[encoded data removed]"
          },
          "metadata": {
            "needs_background": "light"
          }
        }
      ]
    },
    {
      "cell_type": "markdown",
      "source": [
        "`시드(seed)`\n",
        "\n",
        "위에서 살펴본 무작위 함수들은 모두 실행할 때마다 조금씩 다른 무작위수를 생성한다. 하지만 시드를 지정하면 무작위 수도 동일하게 결정된다. 시드는 컴퓨터가 사용하는 난수표(random number table)의 특정 지점을 지정하는 역할을 수행한다."
      ],
      "metadata": {
        "id": "pSp_VVo8nFaG"
      }
    },
    {
      "cell_type": "code",
      "source": [
        "np.random.seed(1234)\n",
        "\n",
        "samples = np.random.randn(10000)\n",
        "plt.hist(samples, bins=100)\n",
        "plt.show()"
      ],
      "metadata": {
        "colab": {
          "base_uri": "https://localhost:8080/",
          "height": 374
        },
        "id": "3SxyDbhQnEUa",
        "outputId": "b732b603-1751-45b7-a3d1-5f0476bae4fb"
      },
      "execution_count": 121,
      "outputs": [
        {
          "output_type": "display_data",
          "data": {
            "text/plain": [
              "<Figure size 720x432 with 1 Axes>"
            ],
            "image/png": "[encoded data removed]"
          },
          "metadata": {
            "needs_background": "light"
          }
        }
      ]
    },
    {
      "cell_type": "code",
      "source": [
        "np.random.seed(1234)\n",
        "\n",
        "samples = np.random.rand(10000)\n",
        "plt.hist(samples, bins=100)\n",
        "plt.show()"
      ],
      "metadata": {
        "colab": {
          "base_uri": "https://localhost:8080/",
          "height": 374
        },
        "id": "JwUDbK1VnH2M",
        "outputId": "63912cd4-a698-4db1-fefc-f21bb2ef6d76"
      },
      "execution_count": 122,
      "outputs": [
        {
          "output_type": "display_data",
          "data": {
            "text/plain": [
              "<Figure size 720x432 with 1 Axes>"
            ],
            "image/png": "[encoded data removed]"
          },
          "metadata": {
            "needs_background": "light"
          }
        }
      ]
    },
    {
      "cell_type": "code",
      "source": [
        "np.random.seed(1234)\n",
        "\n",
        "samples = np.random.rand(10000)\n",
        "plt.hist(samples, bins=100)\n",
        "plt.show()"
      ],
      "metadata": {
        "colab": {
          "base_uri": "https://localhost:8080/",
          "height": 374
        },
        "id": "R3lq1_k6nI2r",
        "outputId": "0fcb0336-929f-4a04-ac94-2fe67c60b75c"
      },
      "execution_count": 123,
      "outputs": [
        {
          "output_type": "display_data",
          "data": {
            "text/plain": [
              "<Figure size 720x432 with 1 Axes>"
            ],
            "image/png": "[encoded data removed]"
          },
          "metadata": {
            "needs_background": "light"
          }
        }
      ]
    },
    {
      "cell_type": "markdown",
      "source": [
        "구간의 오른쪽 끝은 포함되지 않으며, 구간의 왼쪽 끝은 생략되면 0이 기본값으로 사용된다."
      ],
      "metadata": {
        "id": "GLXNRpqjnKVa"
      }
    }
  ]
}