{
  "cells": [
    {
      "cell_type": "markdown",
      "id": "f44a2f2b",
      "metadata": {
        "id": "f44a2f2b"
      },
      "source": [
        "# 100 numpy exercises\n",
        "\n",
        "This is a collection of exercises that have been collected in the numpy mailing list, on stack overflow\n",
        "and in the numpy documentation. The goal of this collection is to offer a quick reference for both old\n",
        "and new users but also to provide a set of exercises for those who teach.\n",
        "\n",
        "\n",
        "If you find an error or think you've a better way to solve some of them, feel\n",
        "free to open an issue at <https://github.com/rougier/numpy-100>."
      ]
    },
    {
      "cell_type": "markdown",
      "id": "0fe3d529",
      "metadata": {
        "id": "0fe3d529"
      },
      "source": [
        "File automatically generated. See the documentation to update questions/answers/hints programmatically."
      ]
    },
    {
      "cell_type": "markdown",
      "id": "23296a93",
      "metadata": {
        "id": "23296a93"
      },
      "source": [
        "Run the `initialize.py` module, then for each question you can query the\n",
        "answer or an hint with `hint(n)` or `answer(n)` for `n` question number."
      ]
    },
    {
      "cell_type": "code",
      "execution_count": null,
      "id": "530390cf",
      "metadata": {
        "id": "530390cf",
        "outputId": "cef468f9-417a-451c-92a3-2aa01cd58bdf",
        "colab": {
          "base_uri": "https://localhost:8080/"
        }
      },
      "outputs": [
        {
          "output_type": "stream",
          "name": "stderr",
          "text": [
            "ERROR:root:File `'initialise.py'` not found.\n"
          ]
        }
      ],
      "source": [
        "%run initialise.py"
      ]
    },
    {
      "cell_type": "markdown",
      "id": "96443564",
      "metadata": {
        "id": "96443564"
      },
      "source": [
        "#### 1. Import the numpy package under the name `np` (★☆☆)"
      ]
    },
    {
      "cell_type": "code",
      "execution_count": null,
      "id": "ffe1047e",
      "metadata": {
        "id": "ffe1047e"
      },
      "outputs": [],
      "source": [
        "import numpy as np    # numpy를 import해서 np로 줄임말로 사용"
      ]
    },
    {
      "cell_type": "markdown",
      "id": "c807bf1d",
      "metadata": {
        "id": "c807bf1d"
      },
      "source": [
        "#### 2. Print the numpy version and the configuration (★☆☆)"
      ]
    },
    {
      "cell_type": "code",
      "execution_count": null,
      "id": "f396b717",
      "metadata": {
        "colab": {
          "base_uri": "https://localhost:8080/"
        },
        "id": "f396b717",
        "outputId": "17042ef8-2baa-460e-c57d-f149f248b564"
      },
      "outputs": [
        {
          "output_type": "stream",
          "name": "stdout",
          "text": [
            "1.21.6\n",
            "blas_mkl_info:\n",
            "  NOT AVAILABLE\n",
            "blis_info:\n",
            "  NOT AVAILABLE\n",
            "openblas_info:\n",
            "    libraries = ['openblas', 'openblas']\n",
            "    library_dirs = ['/usr/local/lib']\n",
            "    language = c\n",
            "    define_macros = [('HAVE_CBLAS', None)]\n",
            "    runtime_library_dirs = ['/usr/local/lib']\n",
            "blas_opt_info:\n",
            "    libraries = ['openblas', 'openblas']\n",
            "    library_dirs = ['/usr/local/lib']\n",
            "    language = c\n",
            "    define_macros = [('HAVE_CBLAS', None)]\n",
            "    runtime_library_dirs = ['/usr/local/lib']\n",
            "lapack_mkl_info:\n",
            "  NOT AVAILABLE\n",
            "openblas_lapack_info:\n",
            "    libraries = ['openblas', 'openblas']\n",
            "    library_dirs = ['/usr/local/lib']\n",
            "    language = c\n",
            "    define_macros = [('HAVE_CBLAS', None)]\n",
            "    runtime_library_dirs = ['/usr/local/lib']\n",
            "lapack_opt_info:\n",
            "    libraries = ['openblas', 'openblas']\n",
            "    library_dirs = ['/usr/local/lib']\n",
            "    language = c\n",
            "    define_macros = [('HAVE_CBLAS', None)]\n",
            "    runtime_library_dirs = ['/usr/local/lib']\n",
            "Supported SIMD extensions in this NumPy install:\n",
            "    baseline = SSE,SSE2,SSE3\n",
            "    found = SSSE3,SSE41,POPCNT,SSE42,AVX,F16C,FMA3,AVX2\n",
            "    not found = AVX512F,AVX512CD,AVX512_KNL,AVX512_KNM,AVX512_SKX,AVX512_CLX,AVX512_CNL,AVX512_ICL\n"
          ]
        }
      ],
      "source": [
        "print(np.__version__)   # __version__ 매직메서드로 버전 출력\n",
        "np.show_config()    # NumPy가 빌드된 시스템의 라이브러리를 표시합니다."
      ]
    },
    {
      "cell_type": "markdown",
      "id": "572c1bdb",
      "metadata": {
        "id": "572c1bdb"
      },
      "source": [
        "#### 3. Create a null vector of size 10 (★☆☆)"
      ]
    },
    {
      "cell_type": "code",
      "execution_count": null,
      "id": "31c9f6a5",
      "metadata": {
        "colab": {
          "base_uri": "https://localhost:8080/"
        },
        "id": "31c9f6a5",
        "outputId": "e39cd66f-5461-446c-84f1-36c1b38401b2"
      },
      "outputs": [
        {
          "output_type": "stream",
          "name": "stdout",
          "text": [
            "[0. 0. 0. 0. 0. 0. 0. 0. 0. 0.]\n"
          ]
        }
      ],
      "source": [
        "Z = np.zeros(10)    # Z에 0으로 채워진 지정된 모양과 유형의 새 배열을 반환합니다.\n",
        "print(Z)    # Z를 출력합니다."
      ]
    },
    {
      "cell_type": "markdown",
      "id": "337e6e36",
      "metadata": {
        "id": "337e6e36"
      },
      "source": [
        "#### 4. How to find the memory size of any array (★☆☆)"
      ]
    },
    {
      "cell_type": "code",
      "execution_count": null,
      "id": "31e8ec2e",
      "metadata": {
        "colab": {
          "base_uri": "https://localhost:8080/"
        },
        "id": "31e8ec2e",
        "outputId": "c0feae28-4fd0-49a2-cc55-af35f5ee4527"
      },
      "outputs": [
        {
          "output_type": "stream",
          "name": "stdout",
          "text": [
            "800 bytes\n"
          ]
        }
      ],
      "source": [
        "Z = np.zeros((10,10))   # Z에 0으로 채워진 지정된 모양과 유형의 새 배열을 반환합니다.\n",
        "print(\"%d bytes\" % (Z.size * Z.itemsize))   # 배열의 메모리 크기는 배열크기 * 항목크기 * 바이트 = (100 * 8 * byte)"
      ]
    },
    {
      "cell_type": "markdown",
      "id": "166079c8",
      "metadata": {
        "id": "166079c8"
      },
      "source": [
        "#### 5. How to get the documentation of the numpy add function from the command line? (★☆☆)"
      ]
    },
    {
      "cell_type": "code",
      "execution_count": null,
      "id": "593cd80f",
      "metadata": {
        "colab": {
          "base_uri": "https://localhost:8080/"
        },
        "id": "593cd80f",
        "outputId": "e5565f82-c03d-4a69-b1ec-9d8d1a904942"
      },
      "outputs": [
        {
          "output_type": "stream",
          "name": "stdout",
          "text": [
            "add(x1, x2, /, out=None, *, where=True, casting='same_kind', order='K', dtype=None, subok=True[, signature, extobj])\n",
            "\n",
            "Add arguments element-wise.\n",
            "\n",
            "Parameters\n",
            "----------\n",
            "x1, x2 : array_like\n",
            "    The arrays to be added.\n",
            "    If ``x1.shape != x2.shape``, they must be broadcastable to a common\n",
            "    shape (which becomes the shape of the output).\n",
            "out : ndarray, None, or tuple of ndarray and None, optional\n",
            "    A location into which the result is stored. If provided, it must have\n",
            "    a shape that the inputs broadcast to. If not provided or None,\n",
            "    a freshly-allocated array is returned. A tuple (possible only as a\n",
            "    keyword argument) must have length equal to the number of outputs.\n",
            "where : array_like, optional\n",
            "    This condition is broadcast over the input. At locations where the\n",
            "    condition is True, the `out` array will be set to the ufunc result.\n",
            "    Elsewhere, the `out` array will retain its original value.\n",
            "    Note that if an uninitialized `out` array is created via the default\n",
            "    ``out=None``, locations within it where the condition is False will\n",
            "    remain uninitialized.\n",
            "**kwargs\n",
            "    For other keyword-only arguments, see the\n",
            "    :ref:`ufunc docs <ufuncs.kwargs>`.\n",
            "\n",
            "Returns\n",
            "-------\n",
            "add : ndarray or scalar\n",
            "    The sum of `x1` and `x2`, element-wise.\n",
            "    This is a scalar if both `x1` and `x2` are scalars.\n",
            "\n",
            "Notes\n",
            "-----\n",
            "Equivalent to `x1` + `x2` in terms of array broadcasting.\n",
            "\n",
            "Examples\n",
            "--------\n",
            ">>> np.add(1.0, 4.0)\n",
            "5.0\n",
            ">>> x1 = np.arange(9.0).reshape((3, 3))\n",
            ">>> x2 = np.arange(3.0)\n",
            ">>> np.add(x1, x2)\n",
            "array([[  0.,   2.,   4.],\n",
            "       [  3.,   5.,   7.],\n",
            "       [  6.,   8.,  10.]])\n",
            "\n",
            "The ``+`` operator can be used as a shorthand for ``np.add`` on ndarrays.\n",
            "\n",
            ">>> x1 = np.arange(9.0).reshape((3, 3))\n",
            ">>> x2 = np.arange(3.0)\n",
            ">>> x1 + x2\n",
            "array([[ 0.,  2.,  4.],\n",
            "       [ 3.,  5.,  7.],\n",
            "       [ 6.,  8., 10.]])\n"
          ]
        }
      ],
      "source": [
        "np.info(np.add) # add function에 대한 설명서"
      ]
    },
    {
      "cell_type": "markdown",
      "id": "3add7101",
      "metadata": {
        "id": "3add7101"
      },
      "source": [
        "#### 6. Create a null vector of size 10 but the fifth value which is 1 (★☆☆)"
      ]
    },
    {
      "cell_type": "code",
      "execution_count": null,
      "id": "2edf3c42",
      "metadata": {
        "colab": {
          "base_uri": "https://localhost:8080/"
        },
        "id": "2edf3c42",
        "outputId": "7f438e31-164c-4f8a-ee09-3f37bc0a8dd7"
      },
      "outputs": [
        {
          "output_type": "stream",
          "name": "stdout",
          "text": [
            "[0. 0. 0. 0. 1. 0. 0. 0. 0. 0.]\n"
          ]
        }
      ],
      "source": [
        "Z = np.zeros(10)    # Z에 0으로 채워진 지정된 모양과 유형의 새 배열을 반환합니다.\n",
        "Z[4] = 1    # Z의 5번째에 1의 값을 넣는다.\n",
        "print(Z)    # Z를 출력한다."
      ]
    },
    {
      "cell_type": "markdown",
      "id": "cfc46304",
      "metadata": {
        "id": "cfc46304"
      },
      "source": [
        "#### 7. Create a vector with values ranging from 10 to 49 (★☆☆)"
      ]
    },
    {
      "cell_type": "code",
      "execution_count": null,
      "id": "d8b86640",
      "metadata": {
        "colab": {
          "base_uri": "https://localhost:8080/"
        },
        "id": "d8b86640",
        "outputId": "940f9bde-61fa-44fb-a49f-76386779d44c"
      },
      "outputs": [
        {
          "output_type": "stream",
          "name": "stdout",
          "text": [
            "[10 11 12 13 14 15 16 17 18 19 20 21 22 23 24 25 26 27 28 29 30 31 32 33\n",
            " 34 35 36 37 38 39 40 41 42 43 44 45 46 47 48 49]\n"
          ]
        }
      ],
      "source": [
        "Z = np.arange(10,50)  # Z에 10부터 49까지를 배열로 지정한다.\n",
        "print(Z)    # Z를 출력한다."
      ]
    },
    {
      "cell_type": "markdown",
      "id": "0cc200be",
      "metadata": {
        "id": "0cc200be"
      },
      "source": [
        "#### 8. Reverse a vector (first element becomes last) (★☆☆)"
      ]
    },
    {
      "cell_type": "code",
      "execution_count": null,
      "id": "ec044bb5",
      "metadata": {
        "colab": {
          "base_uri": "https://localhost:8080/"
        },
        "id": "ec044bb5",
        "outputId": "04b4b2ae-342a-4815-857e-ebd3c070ad56"
      },
      "outputs": [
        {
          "output_type": "stream",
          "name": "stdout",
          "text": [
            "[49 48 47 46 45 44 43 42 41 40 39 38 37 36 35 34 33 32 31 30 29 28 27 26\n",
            " 25 24 23 22 21 20 19 18 17 16 15 14 13 12 11 10  9  8  7  6  5  4  3  2\n",
            "  1  0]\n"
          ]
        }
      ],
      "source": [
        "Z = np.arange(50)   # 크기가 50인 배열을 지정한다.\n",
        "Z = Z[::-1]   # 배열을 인덱싱을 활용하여 뒤집는다.\n",
        "print(Z)    # Z를 출력한다."
      ]
    },
    {
      "cell_type": "markdown",
      "id": "29d9ede4",
      "metadata": {
        "id": "29d9ede4"
      },
      "source": [
        "#### 9. Create a 3x3 matrix with values ranging from 0 to 8 (★☆☆)"
      ]
    },
    {
      "cell_type": "code",
      "execution_count": null,
      "id": "d9e39043",
      "metadata": {
        "colab": {
          "base_uri": "https://localhost:8080/"
        },
        "id": "d9e39043",
        "outputId": "7de445fc-ef23-4e75-f760-84982d04d22b"
      },
      "outputs": [
        {
          "output_type": "stream",
          "name": "stdout",
          "text": [
            "[[0 1 2]\n",
            " [3 4 5]\n",
            " [6 7 8]]\n"
          ]
        }
      ],
      "source": [
        "Z = np.arange(9).reshape(3, 3)    # 크기가 9인 배열을 만들고 reshape으로 재 지정해준다.\n",
        "print(Z)  # Z를 출력한다."
      ]
    },
    {
      "cell_type": "markdown",
      "id": "88905ceb",
      "metadata": {
        "id": "88905ceb"
      },
      "source": [
        "#### 10. Find indices of non-zero elements from [1,2,0,0,4,0] (★☆☆)"
      ]
    },
    {
      "cell_type": "code",
      "execution_count": null,
      "id": "b2f3c90a",
      "metadata": {
        "colab": {
          "base_uri": "https://localhost:8080/"
        },
        "id": "b2f3c90a",
        "outputId": "687f6dfc-9c6a-4dde-fe29-637e13b4fdd0"
      },
      "outputs": [
        {
          "output_type": "stream",
          "name": "stdout",
          "text": [
            "(array([0, 1, 4]),)\n"
          ]
        }
      ],
      "source": [
        "nz = np.nonzero([1,2,0,0,4,0])    # nonzero로 0이 아닌 요소를 nz에 저장\n",
        "print(nz)   # nz 출력"
      ]
    },
    {
      "cell_type": "markdown",
      "id": "49603e91",
      "metadata": {
        "id": "49603e91"
      },
      "source": [
        "#### 11. Create a 3x3 identity matrix (★☆☆)"
      ]
    },
    {
      "cell_type": "code",
      "execution_count": null,
      "id": "5b607b5c",
      "metadata": {
        "colab": {
          "base_uri": "https://localhost:8080/"
        },
        "id": "5b607b5c",
        "outputId": "6eb534ed-de7c-465d-da14-0250b0d361c2"
      },
      "outputs": [
        {
          "output_type": "stream",
          "name": "stdout",
          "text": [
            "[[1. 0. 0.]\n",
            " [0. 1. 0.]\n",
            " [0. 0. 1.]]\n"
          ]
        }
      ],
      "source": [
        "Z = np.eye(3)   # eye를 사용하여 3 * 3 배열을 만듦\n",
        "print(Z)  # Z를 출력"
      ]
    },
    {
      "cell_type": "markdown",
      "id": "e15c249a",
      "metadata": {
        "id": "e15c249a"
      },
      "source": [
        "#### 12. Create a 3x3x3 array with random values (★☆☆)"
      ]
    },
    {
      "cell_type": "code",
      "execution_count": null,
      "id": "ab21ed50",
      "metadata": {
        "colab": {
          "base_uri": "https://localhost:8080/"
        },
        "id": "ab21ed50",
        "outputId": "3b4cfa96-f563-4a2e-918a-369d9f3ddc40"
      },
      "outputs": [
        {
          "output_type": "stream",
          "name": "stdout",
          "text": [
            "[[[0.88489559 0.50477343 0.51930623]\n",
            "  [0.89902717 0.15512392 0.12538662]\n",
            "  [0.92063371 0.13230759 0.15224239]]\n",
            "\n",
            " [[0.83898199 0.40670313 0.14727724]\n",
            "  [0.03305834 0.61595237 0.68746714]\n",
            "  [0.98545958 0.57077375 0.34509915]]\n",
            "\n",
            " [[0.77224508 0.58380653 0.7913656 ]\n",
            "  [0.04478372 0.20282519 0.5907839 ]\n",
            "  [0.13265575 0.18278481 0.12720691]]]\n"
          ]
        }
      ],
      "source": [
        "Z = np.random.random((3,3,3))   # random으로 임의의 값을 가진 3 * 3 * 3배열 만듦\n",
        "print(Z)    # Z 출력"
      ]
    },
    {
      "cell_type": "markdown",
      "id": "157a129c",
      "metadata": {
        "id": "157a129c"
      },
      "source": [
        "#### 13. Create a 10x10 array with random values and find the minimum and maximum values (★☆☆)"
      ]
    },
    {
      "cell_type": "code",
      "execution_count": null,
      "id": "c0066de5",
      "metadata": {
        "colab": {
          "base_uri": "https://localhost:8080/"
        },
        "id": "c0066de5",
        "outputId": "17ed5317-e6de-41ec-9fb4-d2d8dd8feb97"
      },
      "outputs": [
        {
          "output_type": "stream",
          "name": "stdout",
          "text": [
            "0.0026870452568850123 0.9861335954181806\n"
          ]
        }
      ],
      "source": [
        "Z = np.random.random((10,10))   # random으로 임의의 값을 가진 3 * 3 * 3배열 만듦\n",
        "Zmin, Zmax = Z.min(), Z.max()   # Zmin에는 최소값, Zmax에는 최대값을 저장\n",
        "print(Zmin, Zmax)   # 최소 최대값 출력"
      ]
    },
    {
      "cell_type": "markdown",
      "id": "d92d7b32",
      "metadata": {
        "id": "d92d7b32"
      },
      "source": [
        "#### 14. Create a random vector of size 30 and find the mean value (★☆☆)"
      ]
    },
    {
      "cell_type": "code",
      "execution_count": null,
      "id": "9672d023",
      "metadata": {
        "id": "9672d023",
        "outputId": "87b8ee58-a6a9-44f6-b6cc-1b0ea28a979f",
        "colab": {
          "base_uri": "https://localhost:8080/"
        }
      },
      "outputs": [
        {
          "output_type": "stream",
          "name": "stdout",
          "text": [
            "0.5552439472857401\n"
          ]
        }
      ],
      "source": [
        "Z = np.random.random(30)    # random으로 임의의 값을 가진 3 * 3 * 3배열 만듦\n",
        "m = Z.mean()    # mean으로 평균값 구함\n",
        "print(m)    # m 출력"
      ]
    },
    {
      "cell_type": "markdown",
      "id": "f361efc0",
      "metadata": {
        "id": "f361efc0"
      },
      "source": [
        "#### 15. Create a 2d array with 1 on the border and 0 inside (★☆☆)"
      ]
    },
    {
      "cell_type": "code",
      "execution_count": null,
      "id": "a55b6666",
      "metadata": {
        "colab": {
          "base_uri": "https://localhost:8080/"
        },
        "id": "a55b6666",
        "outputId": "2d33f0c5-50c0-4e08-c5c1-330278b8317b"
      },
      "outputs": [
        {
          "output_type": "stream",
          "name": "stdout",
          "text": [
            "[[1. 1. 1. 1. 1. 1. 1. 1. 1. 1.]\n",
            " [1. 0. 0. 0. 0. 0. 0. 0. 0. 1.]\n",
            " [1. 0. 0. 0. 0. 0. 0. 0. 0. 1.]\n",
            " [1. 0. 0. 0. 0. 0. 0. 0. 0. 1.]\n",
            " [1. 0. 0. 0. 0. 0. 0. 0. 0. 1.]\n",
            " [1. 0. 0. 0. 0. 0. 0. 0. 0. 1.]\n",
            " [1. 0. 0. 0. 0. 0. 0. 0. 0. 1.]\n",
            " [1. 0. 0. 0. 0. 0. 0. 0. 0. 1.]\n",
            " [1. 0. 0. 0. 0. 0. 0. 0. 0. 1.]\n",
            " [1. 1. 1. 1. 1. 1. 1. 1. 1. 1.]]\n"
          ]
        }
      ],
      "source": [
        "Z = np.ones((10,10))  # 1로 가득찬 10 * 10 배열 생성\n",
        "Z[1:-1,1:-1] = 0    # 인덱싱을 사용하여 테두리를 제외하고 0의 값을 저장\n",
        "print(Z)    # Z 출력"
      ]
    },
    {
      "cell_type": "markdown",
      "id": "475808cb",
      "metadata": {
        "id": "475808cb"
      },
      "source": [
        "#### 16. How to add a border (filled with 0's) around an existing array? (★☆☆)"
      ]
    },
    {
      "cell_type": "code",
      "execution_count": null,
      "id": "b2df3a8a",
      "metadata": {
        "colab": {
          "base_uri": "https://localhost:8080/"
        },
        "id": "b2df3a8a",
        "outputId": "551fc95c-057c-4e07-e928-95b6d48e9d1e"
      },
      "outputs": [
        {
          "output_type": "stream",
          "name": "stdout",
          "text": [
            "[[0. 0. 0. 0. 0. 0. 0.]\n",
            " [0. 1. 1. 1. 1. 1. 0.]\n",
            " [0. 1. 1. 1. 1. 1. 0.]\n",
            " [0. 1. 1. 1. 1. 1. 0.]\n",
            " [0. 1. 1. 1. 1. 1. 0.]\n",
            " [0. 1. 1. 1. 1. 1. 0.]\n",
            " [0. 0. 0. 0. 0. 0. 0.]]\n"
          ]
        }
      ],
      "source": [
        "Z = np.ones((5,5))    # 1로 가득찬 5 * 5 배열 생성\n",
        "Z = np.pad(Z, pad_width=1, mode='constant', constant_values=0)    # pad를 사용하여 테두리에 0을 패딩함\n",
        "print(Z)  # Z를 출력"
      ]
    },
    {
      "cell_type": "markdown",
      "id": "1af07d85",
      "metadata": {
        "id": "1af07d85"
      },
      "source": [
        "#### 17. What is the result of the following expression? (★☆☆)\n",
        "```python\n",
        "0 * np.nan\n",
        "np.nan == np.nan\n",
        "np.inf > np.nan\n",
        "np.nan - np.nan\n",
        "np.nan in set([np.nan])\n",
        "0.3 == 3 * 0.1\n",
        "```"
      ]
    },
    {
      "cell_type": "code",
      "execution_count": null,
      "id": "109cf327",
      "metadata": {
        "colab": {
          "base_uri": "https://localhost:8080/"
        },
        "id": "109cf327",
        "outputId": "8f4cc40b-491c-4c4a-c1c3-0f6bf9c4a0bc"
      },
      "outputs": [
        {
          "output_type": "stream",
          "name": "stdout",
          "text": [
            "nan\n",
            "False\n",
            "False\n",
            "nan\n",
            "True\n",
            "False\n"
          ]
        }
      ],
      "source": [
        "print(0 * np.nan)   # nan은 값이 유효한지 검사\n",
        "print(np.nan == np.nan)   # nan은 자신과 비교하면 동일하지 않다고 나옴.\n",
        "print(np.inf > np.nan)    # inf는 최대값이기에 nan을 사용하여 비교하면 false를 출력\n",
        "print(np.nan - np.nan)    # nan에 nan을 빼면 nan이 출력됨\n",
        "print(np.nan in set([np.nan]))    # 집합안에 넣어서 비교하면 np.nan == np.nan과 다르게 true가 출력됨\n",
        "print(0.3 == 3 * 0.1)   # 부동소수점으로 인해 오차 발생"
      ]
    },
    {
      "cell_type": "markdown",
      "id": "6a235316",
      "metadata": {
        "id": "6a235316"
      },
      "source": [
        "#### 18. Create a 5x5 matrix with values 1,2,3,4 just below the diagonal (★☆☆)"
      ]
    },
    {
      "cell_type": "code",
      "execution_count": null,
      "id": "f2e6cfa6",
      "metadata": {
        "colab": {
          "base_uri": "https://localhost:8080/"
        },
        "id": "f2e6cfa6",
        "outputId": "f515c24a-9077-4a2f-f7cb-3e1e79d572ee"
      },
      "outputs": [
        {
          "output_type": "stream",
          "name": "stdout",
          "text": [
            "[[0 0 0 0 0]\n",
            " [1 0 0 0 0]\n",
            " [0 2 0 0 0]\n",
            " [0 0 3 0 0]\n",
            " [0 0 0 4 0]]\n"
          ]
        }
      ],
      "source": [
        "Z = np.diag(1+np.arange(4),k=-1)  # 2차원이기에 diag 사용가능해서 diag로 대각선에 1234값 넣음\n",
        "print(Z)    # Z 출력"
      ]
    },
    {
      "cell_type": "markdown",
      "id": "25362e98",
      "metadata": {
        "id": "25362e98"
      },
      "source": [
        "#### 19. Create a 8x8 matrix and fill it with a checkerboard pattern (★☆☆)"
      ]
    },
    {
      "cell_type": "code",
      "execution_count": null,
      "id": "cabdf298",
      "metadata": {
        "colab": {
          "base_uri": "https://localhost:8080/"
        },
        "id": "cabdf298",
        "outputId": "b4e82715-2967-43c2-a21a-8f92d45ce641"
      },
      "outputs": [
        {
          "output_type": "stream",
          "name": "stdout",
          "text": [
            "[[0 1 0 1 0 1 0 1]\n",
            " [1 0 1 0 1 0 1 0]\n",
            " [0 1 0 1 0 1 0 1]\n",
            " [1 0 1 0 1 0 1 0]\n",
            " [0 1 0 1 0 1 0 1]\n",
            " [1 0 1 0 1 0 1 0]\n",
            " [0 1 0 1 0 1 0 1]\n",
            " [1 0 1 0 1 0 1 0]]\n"
          ]
        }
      ],
      "source": [
        "Z = np.zeros((8,8),dtype=int)   # 배열 8 * 8에 0을 넣은 배열 선언 int형을 넣어 소수점 제거\n",
        "Z[1::2,::2] = 1   # 홀수줄 바둑판 생성\n",
        "Z[::2,1::2] = 1   # 짝수줄 바둑판 생성\n",
        "print(Z)    # 출력"
      ]
    },
    {
      "cell_type": "markdown",
      "id": "6431e977",
      "metadata": {
        "id": "6431e977"
      },
      "source": [
        "#### 20. Consider a (6,7,8) shape array, what is the index (x,y,z) of the 100th element? (★☆☆)"
      ]
    },
    {
      "cell_type": "code",
      "execution_count": null,
      "id": "de8b0245",
      "metadata": {
        "colab": {
          "base_uri": "https://localhost:8080/"
        },
        "id": "de8b0245",
        "outputId": "e40f5b5c-0667-4383-82db-ded795fd01fa"
      },
      "outputs": [
        {
          "output_type": "stream",
          "name": "stdout",
          "text": [
            "(1, 5, 3)\n"
          ]
        }
      ],
      "source": [
        "print(np.unravel_index(99,(6,7,8)))   # unravel_index는 평면 인덱스 배열을 좌표 배열 튜플로 변환합니다. 즉 100번째 요소의 인덱스 (6 ,7 ,8)은 앞의 명령어와 같음"
      ]
    },
    {
      "cell_type": "markdown",
      "id": "31abe6fe",
      "metadata": {
        "id": "31abe6fe"
      },
      "source": [
        "#### 21. Create a checkerboard 8x8 matrix using the tile function (★☆☆)"
      ]
    },
    {
      "cell_type": "code",
      "execution_count": null,
      "id": "6da26fd3",
      "metadata": {
        "colab": {
          "base_uri": "https://localhost:8080/"
        },
        "id": "6da26fd3",
        "outputId": "0b2e18b5-98dc-4f74-9abe-7ad3bce673e3"
      },
      "outputs": [
        {
          "output_type": "stream",
          "name": "stdout",
          "text": [
            "[[0 1 0 1 0 1 0 1]\n",
            " [1 0 1 0 1 0 1 0]\n",
            " [0 1 0 1 0 1 0 1]\n",
            " [1 0 1 0 1 0 1 0]\n",
            " [0 1 0 1 0 1 0 1]\n",
            " [1 0 1 0 1 0 1 0]\n",
            " [0 1 0 1 0 1 0 1]\n",
            " [1 0 1 0 1 0 1 0]]\n"
          ]
        }
      ],
      "source": [
        "Z = np.tile( np.array([[0,1],[1,0]]), (4,4))    # tile함수를 이용 배열을 복붙함\n",
        "print(Z)"
      ]
    },
    {
      "cell_type": "markdown",
      "id": "fd88b3f4",
      "metadata": {
        "id": "fd88b3f4"
      },
      "source": [
        "#### 22. Normalize a 5x5 random matrix (★☆☆)"
      ]
    },
    {
      "cell_type": "code",
      "execution_count": null,
      "id": "ee6ced60",
      "metadata": {
        "colab": {
          "base_uri": "https://localhost:8080/"
        },
        "id": "ee6ced60",
        "outputId": "0d3bb470-c48a-40ff-ea58-5288b7cfc647"
      },
      "outputs": [
        {
          "output_type": "stream",
          "name": "stdout",
          "text": [
            "[[-0.74308811  1.23206437 -0.13935289  0.79515884  0.77160438]\n",
            " [ 1.27822141 -1.03012731 -0.28666524 -0.56331296 -1.70431227]\n",
            " [ 0.96762747 -1.16184349  0.13223257 -1.53215548 -1.32617941]\n",
            " [ 1.36198029 -0.74770708 -0.48774294  1.32363904  0.43375629]\n",
            " [-0.40660601  0.77321776  0.99519229  1.24171686 -1.17731839]]\n"
          ]
        }
      ],
      "source": [
        "Z = np.random.random((5,5))   # 랜덤한 값을 가진 5 * 5 배열 선언\n",
        "Z = (Z - np.mean (Z)) / (np.std (Z))    # Z에 평균값을 빼고 표준편차를 나눠 정규화함\n",
        "print(Z)"
      ]
    },
    {
      "cell_type": "markdown",
      "id": "464d8590",
      "metadata": {
        "id": "464d8590"
      },
      "source": [
        "#### 23. Create a custom dtype that describes a color as four unsigned bytes (RGBA) (★☆☆)"
      ]
    },
    {
      "cell_type": "code",
      "execution_count": null,
      "id": "e2f9cfc6",
      "metadata": {
        "id": "e2f9cfc6"
      },
      "outputs": [],
      "source": [
        "color = np.dtype([(\"r\", np.ubyte),  # r ubyte\n",
        "                  (\"g\", np.ubyte),  # g ubyte\n",
        "                  (\"b\", np.ubyte),  # b ubyte\n",
        "                  (\"a\", np.ubyte)]) # a ubyte"
      ]
    },
    {
      "cell_type": "markdown",
      "id": "06c63bb3",
      "metadata": {
        "id": "06c63bb3"
      },
      "source": [
        "#### 24. Multiply a 5x3 matrix by a 3x2 matrix (real matrix product) (★☆☆)"
      ]
    },
    {
      "cell_type": "code",
      "execution_count": null,
      "id": "9fc0d553",
      "metadata": {
        "colab": {
          "base_uri": "https://localhost:8080/"
        },
        "id": "9fc0d553",
        "outputId": "89c7b28f-a745-4396-f419-5f1a2d7c115d"
      },
      "outputs": [
        {
          "output_type": "stream",
          "name": "stdout",
          "text": [
            "[[3. 3.]\n",
            " [3. 3.]\n",
            " [3. 3.]\n",
            " [3. 3.]\n",
            " [3. 3.]]\n"
          ]
        }
      ],
      "source": [
        "Z = np.dot(np.ones((5,3)), np.ones((3,2)))    # dot를 사용하여 5 * 3과 3 * 2 함수를 곱함\n",
        "print(Z)"
      ]
    },
    {
      "cell_type": "markdown",
      "id": "76fa6285",
      "metadata": {
        "id": "76fa6285"
      },
      "source": [
        "#### 25. Given a 1D array, negate all elements which are between 3 and 8, in place. (★☆☆)"
      ]
    },
    {
      "cell_type": "code",
      "execution_count": null,
      "id": "0e25eca7",
      "metadata": {
        "colab": {
          "base_uri": "https://localhost:8080/"
        },
        "id": "0e25eca7",
        "outputId": "de0bd908-b072-4851-ccbe-802f10a743dc"
      },
      "outputs": [
        {
          "output_type": "stream",
          "name": "stdout",
          "text": [
            "[ 0  1  2  3 -4 -5 -6 -7  8  9 10]\n"
          ]
        }
      ],
      "source": [
        "Z = np.arange(11)   # 0 ~ 11의 배열 생성\n",
        "Z[(3 < Z) & (Z < 8)] *= -1    # 3과 8사이의 배열을 -1을 곱해줌\n",
        "print(Z)"
      ]
    },
    {
      "cell_type": "markdown",
      "id": "930ed8bb",
      "metadata": {
        "id": "930ed8bb"
      },
      "source": [
        "#### 26. What is the output of the following script? (★☆☆)\n",
        "```python\n",
        "# Author: Jake VanderPlas\n",
        "\n",
        "print(sum(range(5),-1))\n",
        "from numpy import *\n",
        "print(sum(range(5),-1))\n",
        "```"
      ]
    },
    {
      "cell_type": "code",
      "execution_count": null,
      "id": "f02eedba",
      "metadata": {
        "colab": {
          "base_uri": "https://localhost:8080/"
        },
        "id": "f02eedba",
        "outputId": "7630838f-5cea-4f1c-83f6-37d46327fce4"
      },
      "outputs": [
        {
          "output_type": "stream",
          "name": "stdout",
          "text": [
            "9\n",
            "10\n"
          ]
        }
      ],
      "source": [
        "print(sum(range(5),-1))   # import 전이라서 (1 + 2 + 3 + 4 + -1)9가 출력\n",
        "from numpy import *   # numpy.sum(a, axis=None, dtype=None, out=None, ...)\n",
        "print(sum(range(5),-1))   # import 후라서 (1 + 2 + 3 + 4)10이 출력 axis = -1"
      ]
    },
    {
      "cell_type": "markdown",
      "id": "177120e7",
      "metadata": {
        "id": "177120e7"
      },
      "source": [
        "#### 27. Consider an integer vector Z, which of these expressions are legal? (★☆☆)\n",
        "```python\n",
        "Z**Z\n",
        "2 << Z >> 2\n",
        "Z <- Z\n",
        "1j*Z\n",
        "Z/1/1\n",
        "Z<Z>Z\n",
        "```"
      ]
    },
    {
      "cell_type": "code",
      "execution_count": null,
      "id": "86d6cbef",
      "metadata": {
        "colab": {
          "base_uri": "https://localhost:8080/"
        },
        "id": "86d6cbef",
        "outputId": "6108b479-9ef7-4b47-edc6-184a2e9bc56b"
      },
      "outputs": [
        {
          "output_type": "stream",
          "name": "stdout",
          "text": [
            "[  1   1   4  27 256]\n",
            "[0 1 2 4 8]\n",
            "[False False False False False]\n",
            "[0.+0.j 0.+1.j 0.+2.j 0.+3.j 0.+4.j]\n",
            "[0. 1. 2. 3. 4.]\n"
          ]
        }
      ],
      "source": [
        "Z = np.arange(5)\n",
        "print(Z**Z)    # Z의 제곱\n",
        "print(2 << Z >> 2)   #  시프트 연산자\n",
        "print(Z <- Z)  # Z < -Z인지 잘 모르겠으나 Z < -Z라고 가정하면 비교연산자임\n",
        "print(1j*Z)    # 1j는 복소단위\n",
        "print(Z/1/1)   # Z/1/1\n",
        "# Z<Z>Z 에러 발생"
      ]
    },
    {
      "cell_type": "markdown",
      "id": "a6eaf0e8",
      "metadata": {
        "id": "a6eaf0e8"
      },
      "source": [
        "#### 28. What are the result of the following expressions? (★☆☆)\n",
        "```python\n",
        "np.array(0) / np.array(0)\n",
        "np.array(0) // np.array(0)\n",
        "np.array([np.nan]).astype(int).astype(float)\n",
        "```"
      ]
    },
    {
      "cell_type": "code",
      "execution_count": null,
      "id": "93684068",
      "metadata": {
        "colab": {
          "base_uri": "https://localhost:8080/"
        },
        "id": "93684068",
        "outputId": "d852ef67-a3f1-4bff-d19f-53b9c35c788e"
      },
      "outputs": [
        {
          "output_type": "stream",
          "name": "stdout",
          "text": [
            "nan\n",
            "0\n",
            "[-9.22337204e+18]\n"
          ]
        },
        {
          "output_type": "stream",
          "name": "stderr",
          "text": [
            "/usr/local/lib/python3.7/dist-packages/ipykernel_launcher.py:1: RuntimeWarning: invalid value encountered in true_divide\n",
            "  \"\"\"Entry point for launching an IPython kernel.\n",
            "/usr/local/lib/python3.7/dist-packages/ipykernel_launcher.py:2: RuntimeWarning: divide by zero encountered in floor_divide\n",
            "  \n"
          ]
        }
      ],
      "source": [
        "print(np.array(0) / np.array(0))  # 값이 유효한지 검사\n",
        "print(np.array(0) // np.array(0)) # 몫을 확인\n",
        "print(np.array([np.nan]).astype(int).astype(float))   #  NaN(float)을 포함하는 배열을 만든 다음 int로 캐스팅한 다음 다시 float로 캐스팅, NaN은 int로 표현할 수 없기 때문에 이상한 숫자를 얻는다."
      ]
    },
    {
      "cell_type": "markdown",
      "id": "524b65f8",
      "metadata": {
        "id": "524b65f8"
      },
      "source": [
        "#### 29. How to round away from zero a float array ? (★☆☆)"
      ]
    },
    {
      "cell_type": "code",
      "execution_count": null,
      "id": "61fbb78e",
      "metadata": {
        "colab": {
          "base_uri": "https://localhost:8080/"
        },
        "id": "61fbb78e",
        "outputId": "a684520b-8e4b-41f9-f66b-c80e338526a7"
      },
      "outputs": [
        {
          "output_type": "stream",
          "name": "stdout",
          "text": [
            "[-7. -2. -8. -6.  2.  1.  4.  9. -2.  1.]\n"
          ]
        }
      ],
      "source": [
        "Z = np.random.uniform(-10,+10,10)   # 난수값 지정\n",
        "print(np.copysign(np.ceil(np.abs(Z)), Z))   # ceil로 정수를 올림함, copysign으로 float형으로 반환"
      ]
    },
    {
      "cell_type": "markdown",
      "id": "8dc40752",
      "metadata": {
        "id": "8dc40752"
      },
      "source": [
        "#### 30. How to find common values between two arrays? (★☆☆)"
      ]
    },
    {
      "cell_type": "code",
      "execution_count": null,
      "id": "54399cbe",
      "metadata": {
        "colab": {
          "base_uri": "https://localhost:8080/"
        },
        "id": "54399cbe",
        "outputId": "7281f64f-f81a-4171-b589-a3b8cbc34e54"
      },
      "outputs": [
        {
          "output_type": "stream",
          "name": "stdout",
          "text": [
            "[0 4 5]\n"
          ]
        }
      ],
      "source": [
        "Z1 = np.random.randint(0,10,10)   # 랜덤한값의 배열 지정\n",
        "Z2 = np.random.randint(0,10,10)   # 랜덤한값의 배열 지정\n",
        "print(np.intersect1d(Z1,Z2))      # intersect1d로 교집합을 사용하여 같은값을 출력"
      ]
    },
    {
      "cell_type": "markdown",
      "id": "b7f38e21",
      "metadata": {
        "id": "b7f38e21"
      },
      "source": [
        "#### 31. How to ignore all numpy warnings (not recommended)? (★☆☆)"
      ]
    },
    {
      "cell_type": "code",
      "execution_count": null,
      "id": "2ca3289c",
      "metadata": {
        "id": "2ca3289c"
      },
      "outputs": [],
      "source": [
        "defaults = np.seterr(all=\"ignore\")  # np.seterr 메서드 사용하여 all을 ignore로 설정해서 오류 발생시 아무것도 안함\n",
        "Z = np.ones(1) / 0 \n",
        "_ = np.seterr(**defaults)\n",
        "# 원래 상태로 복귀\n",
        "with np.errstate(all=\"ignore\"):   # 경고를 표시하지 않도록 np.errstate를 사용\n",
        "    np.arange(3) / 0"
      ]
    },
    {
      "cell_type": "markdown",
      "id": "2d850aab",
      "metadata": {
        "id": "2d850aab"
      },
      "source": [
        "#### 32. Is the following expressions true? (★☆☆)\n",
        "```python\n",
        "np.sqrt(-1) == np.emath.sqrt(-1)\n",
        "```"
      ]
    },
    {
      "cell_type": "code",
      "execution_count": null,
      "id": "5c83ffce",
      "metadata": {
        "colab": {
          "base_uri": "https://localhost:8080/"
        },
        "id": "5c83ffce",
        "outputId": "b9a6ecf4-6261-4294-93c8-e7dc09edea4f"
      },
      "outputs": [
        {
          "output_type": "stream",
          "name": "stderr",
          "text": [
            "/usr/local/lib/python3.7/dist-packages/ipykernel_launcher.py:1: RuntimeWarning: invalid value encountered in sqrt\n",
            "  \"\"\"Entry point for launching an IPython kernel.\n"
          ]
        },
        {
          "output_type": "execute_result",
          "data": {
            "text/plain": [
              "False"
            ]
          },
          "metadata": {},
          "execution_count": 33
        }
      ],
      "source": [
        "np.sqrt(-1) == np.emath.sqrt(-1)  # np.emath.sprt(-1)은 1j로 표시됨으로 값이 다름"
      ]
    },
    {
      "cell_type": "markdown",
      "id": "5c4a556f",
      "metadata": {
        "id": "5c4a556f"
      },
      "source": [
        "#### 33. How to get the dates of yesterday, today and tomorrow? (★☆☆)"
      ]
    },
    {
      "cell_type": "code",
      "execution_count": null,
      "id": "c3b683a0",
      "metadata": {
        "colab": {
          "base_uri": "https://localhost:8080/"
        },
        "id": "c3b683a0",
        "outputId": "2c20532e-1ae0-4b64-9b6b-4067818eace2"
      },
      "outputs": [
        {
          "output_type": "stream",
          "name": "stdout",
          "text": [
            "2022-05-10\n",
            "2022-05-11\n",
            "2022-05-12\n"
          ]
        }
      ],
      "source": [
        "yesterday = np.datetime64('today') - np.timedelta64(1)  # datetime에 1의값을 빼 어제값 지정\n",
        "today     = np.datetime64('today')    # datetime으로 오늘 날자 지정\n",
        "tomorrow  = np.datetime64('today') + np.timedelta64(1)  # datetime에 1의값을 더하여 어제값 지정\n",
        "\n",
        "print(yesterday)\n",
        "print(today)\n",
        "print(tomorrow)"
      ]
    },
    {
      "cell_type": "markdown",
      "id": "453cdd64",
      "metadata": {
        "id": "453cdd64"
      },
      "source": [
        "#### 34. How to get all the dates corresponding to the month of July 2016? (★★☆)"
      ]
    },
    {
      "cell_type": "code",
      "execution_count": null,
      "id": "4ba4d37c",
      "metadata": {
        "colab": {
          "base_uri": "https://localhost:8080/"
        },
        "id": "4ba4d37c",
        "outputId": "637fa028-7f15-4c13-913d-165afd7be588"
      },
      "outputs": [
        {
          "output_type": "stream",
          "name": "stdout",
          "text": [
            "['2016-07-01' '2016-07-02' '2016-07-03' '2016-07-04' '2016-07-05'\n",
            " '2016-07-06' '2016-07-07' '2016-07-08' '2016-07-09' '2016-07-10'\n",
            " '2016-07-11' '2016-07-12' '2016-07-13' '2016-07-14' '2016-07-15'\n",
            " '2016-07-16' '2016-07-17' '2016-07-18' '2016-07-19' '2016-07-20'\n",
            " '2016-07-21' '2016-07-22' '2016-07-23' '2016-07-24' '2016-07-25'\n",
            " '2016-07-26' '2016-07-27' '2016-07-28' '2016-07-29' '2016-07-30'\n",
            " '2016-07-31']\n"
          ]
        }
      ],
      "source": [
        "Z = np.arange('2016-07', '2016-08', dtype='datetime64[D]')  # np.arange로 7월날자를 배열에 넣고 dtype으로 type을 str형으로 맞추어 오류를 제거\n",
        "print(Z)"
      ]
    },
    {
      "cell_type": "markdown",
      "id": "52667b6e",
      "metadata": {
        "id": "52667b6e"
      },
      "source": [
        "#### 35. How to compute ((A+B)*(-A/2)) in place (without copy)? (★★☆)"
      ]
    },
    {
      "cell_type": "code",
      "execution_count": null,
      "id": "e6e7c030",
      "metadata": {
        "colab": {
          "base_uri": "https://localhost:8080/"
        },
        "id": "e6e7c030",
        "outputId": "867064f3-44e0-4205-93d2-7799a64cf75f"
      },
      "outputs": [
        {
          "output_type": "stream",
          "name": "stdout",
          "text": [
            "[3. 3. 3.]\n",
            "[0.5 0.5 0.5]\n",
            "[-0.5 -0.5 -0.5]\n",
            "[-1.5 -1.5 -1.5]\n",
            "[-1.5 -1.5 -1.5]\n"
          ]
        }
      ],
      "source": [
        "A = np.ones(3)*1\n",
        "B = np.ones(3)*2\n",
        "print(np.add(A,B,out=B))    # A + B의 값을 B에 저장\n",
        "print(np.divide(A,2,out=A)) # A / B의 값을 A에 저장\n",
        "print(np.negative(A,out=A)) # -(A / B)의 값을 A에 저장\n",
        "print(np.multiply(A,B,out=A)) # (A + B) * (-A / 2)와 같은 결과\n",
        "print(A)"
      ]
    },
    {
      "cell_type": "markdown",
      "id": "9a8f3738",
      "metadata": {
        "id": "9a8f3738"
      },
      "source": [
        "#### 36. Extract the integer part of a random array of positive numbers using 4 different methods (★★☆)"
      ]
    },
    {
      "cell_type": "code",
      "execution_count": null,
      "id": "368a801a",
      "metadata": {
        "colab": {
          "base_uri": "https://localhost:8080/"
        },
        "id": "368a801a",
        "outputId": "5c63b2f3-1dc8-45dd-9ba1-7ac839936f92"
      },
      "outputs": [
        {
          "output_type": "stream",
          "name": "stdout",
          "text": [
            "[7. 4. 8. 3. 4. 3. 7. 9. 9. 6.]\n",
            "[7. 4. 8. 3. 4. 3. 7. 9. 9. 6.]\n",
            "[7. 4. 8. 3. 4. 3. 7. 9. 9. 6.]\n",
            "[7 4 8 3 4 3 7 9 9 6]\n",
            "[7. 4. 8. 3. 4. 3. 7. 9. 9. 6.]\n"
          ]
        }
      ],
      "source": [
        "Z = np.random.uniform(0,10,10)\n",
        "print(Z - Z%1)  # 배열을 1로 나눈 나머지를 빼서 정수부분 구하기\n",
        "print(Z // 1)   # 배열을 1로 나눈 몫을 구하기\n",
        "print(np.floor(Z))  # np.ceil을 이용해 올림\n",
        "print(Z.astype(int))  # .astype(int)를 사용해 데이터타입을 integer로 변환\n",
        "print(np.trunc(Z))  # trunc를 사용해 소숫자리를 자르고 value 표시"
      ]
    },
    {
      "cell_type": "markdown",
      "id": "cab1eed1",
      "metadata": {
        "id": "cab1eed1"
      },
      "source": [
        "#### 37. Create a 5x5 matrix with row values ranging from 0 to 4 (★★☆)"
      ]
    },
    {
      "cell_type": "code",
      "execution_count": null,
      "id": "f1b579ba",
      "metadata": {
        "colab": {
          "base_uri": "https://localhost:8080/"
        },
        "id": "f1b579ba",
        "outputId": "987c6e68-cf9c-44a3-cf27-b23c91ca3ca3"
      },
      "outputs": [
        {
          "output_type": "stream",
          "name": "stdout",
          "text": [
            "[[0. 1. 2. 3. 4.]\n",
            " [0. 1. 2. 3. 4.]\n",
            " [0. 1. 2. 3. 4.]\n",
            " [0. 1. 2. 3. 4.]\n",
            " [0. 1. 2. 3. 4.]]\n"
          ]
        }
      ],
      "source": [
        "Z = np.zeros((5,5)) # 5 * 5 행렬 만듦\n",
        "Z += np.arange(5)   # 만든 행렬에 값 넣기\n",
        "print(Z)"
      ]
    },
    {
      "cell_type": "markdown",
      "id": "cd0ce6b1",
      "metadata": {
        "id": "cd0ce6b1"
      },
      "source": [
        "#### 38. Consider a generator function that generates 10 integers and use it to build an array (★☆☆)"
      ]
    },
    {
      "cell_type": "code",
      "execution_count": null,
      "id": "aab193a6",
      "metadata": {
        "id": "aab193a6",
        "outputId": "8d10b3e4-556d-4b9b-8fc7-a1467b45947f",
        "colab": {
          "base_uri": "https://localhost:8080/"
        }
      },
      "outputs": [
        {
          "output_type": "stream",
          "name": "stdout",
          "text": [
            "[0. 1. 2. 3. 4. 5. 6. 7. 8. 9.]\n"
          ]
        }
      ],
      "source": [
        "def generate():   # generate 함수 선언\n",
        "    for x in range(10):   # 포문으로 10개의 정수를 들어갈수있게 함\n",
        "        yield x   # yield를 사용하여 끝내기보다 대기 후 실행할수있게 함\n",
        "Z = np.fromiter(generate(),dtype=float,count=-1)  # fromiter는 순환가능한 객체로 1차원 배열을 생성 (함수, 데이터 타입, 기본값)\n",
        "print(Z)"
      ]
    },
    {
      "cell_type": "markdown",
      "id": "c4c942d1",
      "metadata": {
        "id": "c4c942d1"
      },
      "source": [
        "#### 39. Create a vector of size 10 with values ranging from 0 to 1, both excluded (★★☆)"
      ]
    },
    {
      "cell_type": "code",
      "execution_count": null,
      "id": "e42eaa4b",
      "metadata": {
        "colab": {
          "base_uri": "https://localhost:8080/"
        },
        "id": "e42eaa4b",
        "outputId": "bf890be1-5523-49af-c0e5-e2fbf6fc8b4f"
      },
      "outputs": [
        {
          "output_type": "stream",
          "name": "stdout",
          "text": [
            "[0.09090909 0.18181818 0.27272727 0.36363636 0.45454545 0.54545455\n",
            " 0.63636364 0.72727273 0.81818182 0.90909091]\n"
          ]
        }
      ],
      "source": [
        "Z = np.linspace(0,1,11,endpoint=False)  # 0에서 1사이 값으로 크기가 10인 배열 생성, endpoint=False는 마지막 숫자를 지정한 값이 아닌 다른 숫자로 변환\n",
        "print(Z[1:])  #인덱스 [1:]로 첫번째 벡터 제외하여 10개 원소 배열로 변환"
      ]
    },
    {
      "cell_type": "markdown",
      "id": "9b3cb8d2",
      "metadata": {
        "id": "9b3cb8d2"
      },
      "source": [
        "#### 40. Create a random vector of size 10 and sort it (★★☆)"
      ]
    },
    {
      "cell_type": "code",
      "execution_count": null,
      "id": "37d2b341",
      "metadata": {
        "colab": {
          "base_uri": "https://localhost:8080/"
        },
        "id": "37d2b341",
        "outputId": "23808149-249f-43d3-ca36-5f31a8b2e186"
      },
      "outputs": [
        {
          "output_type": "stream",
          "name": "stdout",
          "text": [
            "[0.07055403 0.07409879 0.1328693  0.21190796 0.48929025 0.4981362\n",
            " 0.55919676 0.70543023 0.84863995 0.97587939]\n"
          ]
        }
      ],
      "source": [
        "Z = np.random.random(10)  # 크기 10인 랜덤값 배열 선언\n",
        "Z.sort()    # sort로 오름차순 정렬\n",
        "print(Z)"
      ]
    },
    {
      "cell_type": "markdown",
      "id": "2facfddc",
      "metadata": {
        "id": "2facfddc"
      },
      "source": [
        "#### 41. How to sum a small array faster than np.sum? (★★☆)"
      ]
    },
    {
      "cell_type": "code",
      "execution_count": null,
      "id": "4bb8864f",
      "metadata": {
        "id": "4bb8864f",
        "outputId": "b9862d91-7733-4827-faf0-4c708bd56870",
        "colab": {
          "base_uri": "https://localhost:8080/"
        }
      },
      "outputs": [
        {
          "output_type": "execute_result",
          "data": {
            "text/plain": [
              "45"
            ]
          },
          "metadata": {},
          "execution_count": 42
        }
      ],
      "source": [
        "Z = np.arange(10) # 크기가 10인 배열 과 값 선언\n",
        "np.add.reduce(Z)  #np.sum에 reduce가 들어있어 sum을 사용시 reduce를 호출하여 사용하기 때문에 작은 배열의 경우 reduce가 더 빠름"
      ]
    },
    {
      "cell_type": "markdown",
      "id": "539cd2a5",
      "metadata": {
        "id": "539cd2a5"
      },
      "source": [
        "#### 42. Consider two random array A and B, check if they are equal (★★☆)"
      ]
    },
    {
      "cell_type": "code",
      "execution_count": null,
      "id": "5246d7bf",
      "metadata": {
        "colab": {
          "base_uri": "https://localhost:8080/"
        },
        "id": "5246d7bf",
        "outputId": "9d3b37a7-90a3-4039-dd59-65e4707b5e95"
      },
      "outputs": [
        {
          "output_type": "stream",
          "name": "stdout",
          "text": [
            "False\n",
            "False\n"
          ]
        }
      ],
      "source": [
        "A = np.random.randint(0,2,5)  # 배열 선언\n",
        "B = np.random.randint(0,2,5)  # 배열 선언\n",
        "\n",
        "equal = np.allclose(A,B)  # allclose는 배열이 모양이 같다고 가정하고 요소별로 같으면 true를 반환(조금의 오차는 허용)\n",
        "print(equal)\n",
        "\n",
        "equal = np.array_equal(A,B) # array_equal은 배열의 모양과 요소가 같으면 true를 반환(오차 허용 없음)\n",
        "print(equal)"
      ]
    },
    {
      "cell_type": "markdown",
      "id": "448f8274",
      "metadata": {
        "id": "448f8274"
      },
      "source": [
        "#### 43. Make an array immutable (read-only) (★★☆)"
      ]
    },
    {
      "cell_type": "code",
      "execution_count": null,
      "id": "7cf2b3dd",
      "metadata": {
        "colab": {
          "base_uri": "https://localhost:8080/",
          "height": 209
        },
        "id": "7cf2b3dd",
        "outputId": "2f4191c2-16cb-4178-aa64-2131b6e123ad"
      },
      "outputs": [
        {
          "output_type": "error",
          "ename": "ValueError",
          "evalue": "ignored",
          "traceback": [
            "\u001b[0;31m---------------------------------------------------------------------------\u001b[0m",
            "\u001b[0;31mValueError\u001b[0m                                Traceback (most recent call last)",
            "\u001b[0;32m<ipython-input-44-126c43389da1>\u001b[0m in \u001b[0;36m<module>\u001b[0;34m()\u001b[0m\n\u001b[1;32m      1\u001b[0m \u001b[0mZ\u001b[0m \u001b[0;34m=\u001b[0m \u001b[0mnp\u001b[0m\u001b[0;34m.\u001b[0m\u001b[0mzeros\u001b[0m\u001b[0;34m(\u001b[0m\u001b[0;36m10\u001b[0m\u001b[0;34m)\u001b[0m    \u001b[0;31m# 배열 선언\u001b[0m\u001b[0;34m\u001b[0m\u001b[0;34m\u001b[0m\u001b[0m\n\u001b[1;32m      2\u001b[0m \u001b[0mZ\u001b[0m\u001b[0;34m.\u001b[0m\u001b[0mflags\u001b[0m\u001b[0;34m.\u001b[0m\u001b[0mwriteable\u001b[0m \u001b[0;34m=\u001b[0m \u001b[0;32mFalse\u001b[0m   \u001b[0;31m# 쓸수 있는지 즉, False의 경우, Read-Only\u001b[0m\u001b[0;34m\u001b[0m\u001b[0;34m\u001b[0m\u001b[0m\n\u001b[0;32m----> 3\u001b[0;31m \u001b[0mZ\u001b[0m\u001b[0;34m[\u001b[0m\u001b[0;36m0\u001b[0m\u001b[0;34m]\u001b[0m \u001b[0;34m=\u001b[0m \u001b[0;36m1\u001b[0m  \u001b[0;31m# Z의 0번째 배열 출력\u001b[0m\u001b[0;34m\u001b[0m\u001b[0;34m\u001b[0m\u001b[0m\n\u001b[0m",
            "\u001b[0;31mValueError\u001b[0m: assignment destination is read-only"
          ]
        }
      ],
      "source": [
        "Z = np.zeros(10)    # 배열 선언\n",
        "Z.flags.writeable = False   # 쓸수 있는지 즉, False의 경우, Read-Only\n",
        "Z[0] = 1  # Z의 0번째 배열 출력"
      ]
    },
    {
      "cell_type": "markdown",
      "id": "d7b7aaf3",
      "metadata": {
        "id": "d7b7aaf3"
      },
      "source": [
        "#### 44. Consider a random 10x2 matrix representing cartesian coordinates, convert them to polar coordinates (★★☆)"
      ]
    },
    {
      "cell_type": "code",
      "execution_count": null,
      "id": "e2337585",
      "metadata": {
        "id": "e2337585"
      },
      "outputs": [],
      "source": [
        "Z = np.random.random((10,2))  # 10 * 2 의 배열 생성\n",
        "X,Y = Z[:,0], Z[:,1]    # X에 0열, Y에 1열 할당\n",
        "R = np.sqrt(X**2+Y**2)  # (X의 제곱 + Y의 제곱)제곱근\n",
        "T = np.arctan2(Y,X)     # 아크탄젠트(Y, X)\n",
        "print(R)\n",
        "print(T)"
      ]
    },
    {
      "cell_type": "markdown",
      "id": "a556027a",
      "metadata": {
        "id": "a556027a"
      },
      "source": [
        "#### 45. Create random vector of size 10 and replace the maximum value by 0 (★★☆)"
      ]
    },
    {
      "cell_type": "code",
      "execution_count": null,
      "id": "9e07cb87",
      "metadata": {
        "id": "9e07cb87"
      },
      "outputs": [],
      "source": [
        "Z = np.random.random(10)  # 크기가 10인 배열 선언\n",
        "Z[Z.argmax()] = 0   # argmax를 사용하여 배열의 최대값 찾아서 0을 저장\n",
        "print(Z)"
      ]
    },
    {
      "cell_type": "markdown",
      "id": "004f3da1",
      "metadata": {
        "id": "004f3da1"
      },
      "source": [
        "#### 46. Create a structured array with `x` and `y` coordinates covering the [0,1]x[0,1] area (★★☆)"
      ]
    },
    {
      "cell_type": "code",
      "execution_count": null,
      "id": "b3824741",
      "metadata": {
        "id": "b3824741"
      },
      "outputs": [],
      "source": [
        "Z = np.zeros((5,5), [('x',float),('y',float)])    # 5 * 5 float형 배열 선언\n",
        "Z['x'], Z['y'] = np.meshgrid(np.linspace(0,1,5),  # np.meshgrid(1차원 배열 벡터, copy=True, False, sparse=False, True, indexing='xy', 'ij') np.linspance(구간 시작점, 구간 끝점, 구간 내 숫자 개수)\n",
        "                             np.linspace(0,1,5))  # Meshgrid를 통해 사각형 영역을 구성하는 가로축의 점들과 세로축의 점을 나타내는 두 벡터를 인수로 받아서 이 사각형 영역을 이루는 조합을 출력한다.\n",
        "print(Z)  # 결과는 그리드 포인트의 x 값만을 표시하는 행렬과 y 값만을 표시하는 행렬 두 개로 분리하여 출력한다."
      ]
    },
    {
      "cell_type": "markdown",
      "id": "1c0adc0d",
      "metadata": {
        "id": "1c0adc0d"
      },
      "source": [
        "#### 47. Given two arrays, X and Y, construct the Cauchy matrix C (Cij =1/(xi - yj)) (★★☆)"
      ]
    },
    {
      "cell_type": "code",
      "execution_count": null,
      "id": "01b3bbb7",
      "metadata": {
        "id": "01b3bbb7"
      },
      "outputs": [],
      "source": [
        "X = np.arange(8)\n",
        "Y = X + 0.5\n",
        "C = 1.0 / np.subtract.outer(X, Y) # np.subtract(A,B) 는 A - B를 의미한다.\n",
        "print(np.linalg.det(C)) # linalg는 linearAlgebra를 말한다. det는 행렬의 배열의 결정자를 계산한다."
      ]
    },
    {
      "cell_type": "markdown",
      "id": "c8a2f65a",
      "metadata": {
        "id": "c8a2f65a"
      },
      "source": [
        "#### 48. Print the minimum and maximum representable value for each numpy scalar type (★★☆)"
      ]
    },
    {
      "cell_type": "code",
      "execution_count": null,
      "id": "35d844d6",
      "metadata": {
        "id": "35d844d6"
      },
      "outputs": [],
      "source": [
        "for dtype in [np.int8, np.int32, np.int64]:   # dtype에 데이터값을 집어넣음\n",
        "   print(np.iinfo(dtype).min)     # int의 최소값\n",
        "   print(np.iinfo(dtype).max)     # int의 최대값\n",
        "for dtype in [np.float32, np.float64]:    # dtype에 데이터값을 집어넣음\n",
        "   print(np.finfo(dtype).min)    #float의 최소값\n",
        "   print(np.finfo(dtype).max)    #float의 최대값\n",
        "   print(np.finfo(dtype).eps)    #float의 표현 가능한 작은 값\n",
        "\n",
        "# iinfo()는 int에 대한 정보를 / finfo()는 float에 대한 정보를 준다. Eps는 표현가능한 가장 작은 값을 돌려준다."
      ]
    },
    {
      "cell_type": "markdown",
      "id": "11727a69",
      "metadata": {
        "id": "11727a69"
      },
      "source": [
        "#### 49. How to print all the values of an array? (★★☆)"
      ]
    },
    {
      "cell_type": "code",
      "execution_count": null,
      "id": "47e98473",
      "metadata": {
        "id": "47e98473"
      },
      "outputs": [],
      "source": [
        "np.set_printoptions(threshold=float(\"inf\"))   # set_printoptions로 출력설정을할 수 있다. threshold에 inf를 사용하여 최대값을 지정해 모든 값이 출력되도록 설정했다.\n",
        "Z = np.zeros((40,40))   # 40 * 40 배열 선언\n",
        "print(Z)"
      ]
    },
    {
      "cell_type": "markdown",
      "id": "e0e7d741",
      "metadata": {
        "id": "e0e7d741"
      },
      "source": [
        "#### 50. How to find the closest value (to a given scalar) in a vector? (★★☆)"
      ]
    },
    {
      "cell_type": "code",
      "execution_count": null,
      "id": "62cabf6f",
      "metadata": {
        "id": "62cabf6f"
      },
      "outputs": [],
      "source": [
        "Z = np.arange(100)    # 배열 선언\n",
        "v = np.random.uniform(0,100)  # 0 ~ 100 사이의 난수값 저장\n",
        "print(v)  # 난수값 확인\n",
        "index = (np.abs(Z-v)).argmin()  # abs(Z - v)를 해서 0에 가장 가까운 값이 가장 작은 값이다. argmin은 배열의 가장 작은값을 알려준다. \n",
        "print(Z[index])   # 가장 가까운 값 출력"
      ]
    },
    {
      "cell_type": "markdown",
      "id": "c5611b9e",
      "metadata": {
        "id": "c5611b9e"
      },
      "source": [
        "#### 51. Create a structured array representing a position (x,y) and a color (r,g,b) (★★☆)"
      ]
    },
    {
      "cell_type": "code",
      "execution_count": null,
      "id": "f622939d",
      "metadata": {
        "id": "f622939d"
      },
      "outputs": [],
      "source": [
        "Z = np.zeros(10, [ ('position', [ ('x', float, 1),    # 값이 0인 구조화된 배열을 선언\n",
        "                                  ('y', float, 1)]),\n",
        "                   ('color',    [ ('r', float, 1),\n",
        "                                  ('g', float, 1),\n",
        "                                  ('b', float, 1)])])\n",
        "Z"
      ]
    },
    {
      "cell_type": "markdown",
      "id": "d22b8574",
      "metadata": {
        "id": "d22b8574"
      },
      "source": [
        "#### 52. Consider a random vector with shape (100,2) representing coordinates, find point by point distances (★★☆)"
      ]
    },
    {
      "cell_type": "code",
      "execution_count": null,
      "id": "d5c9cdf8",
      "metadata": {
        "id": "d5c9cdf8"
      },
      "outputs": [],
      "source": [
        "import matplotlib.pyplot as plt\n",
        "Z = np.random.random((10,2))    # 10 * 2 배열을 만든다.\n",
        "X,Y = np.atleast_2d(Z[:,0], Z[:,1])   # X에 0번째 열, Y에 1번째 열을넣는다.\n",
        "print(X)  # X 출력\n",
        "print(Y)  # Y 출력\n",
        "D = np.sqrt( (X-X.T)**2 + (Y-Y.T)**2) # .T는 전치행렬으로 바꿔주는 역활을 함\n",
        "print(D)  # D 출력\n",
        "\n",
        "# scipy를 사용시 더 빠름\n",
        "import scipy\n",
        "import scipy.spatial  # scipy를 호출\n",
        "# 아래는 잘 모르겠습니다.\n",
        "Z = np.random.random((10,2))\n",
        "D = scipy.spatial.distance.cdist(Z,Z)\n",
        "print(D)\n",
        "\n",
        "plt.scatter(X,Y)\n",
        "plt.grid()"
      ]
    },
    {
      "cell_type": "markdown",
      "id": "f5c164f2",
      "metadata": {
        "id": "f5c164f2"
      },
      "source": [
        "#### 53. How to convert a float (32 bits) array into an integer (32 bits) in place?"
      ]
    },
    {
      "cell_type": "code",
      "execution_count": null,
      "id": "ea262de8",
      "metadata": {
        "id": "ea262de8"
      },
      "outputs": [],
      "source": [
        "Z = (np.random.rand(10)*100).astype(np.float32) # np.random.rand는 0 ~ 1사이의 균일정규분포 난수 astype을 사용하여 float32로 데이터 타입 변경\n",
        "Y = Z.view(np.int32) # view를 사용하여 int32형으로 보이는것을 Y에 집어넣음\n",
        "print(Z.view(np.int32)) # \n",
        "print(Y)\n",
        "Y[:] = Z  # Y에 Z값 지정\n",
        "print(Y)\n",
        "print(Z.view(np.int32))\n",
        "# astype(copy=False) 사용 (in place니까)\n",
        "# float32형은 정수에 8bit 부호에 1bit 소수점에 23bit를 사용\n",
        "# int32형은 정수에 32bit다 사용\n",
        "# 때문에 view로 보는것과 실제 값이 들어가는것에는 오차가 발생해서 값이 바뀜"
      ]
    },
    {
      "cell_type": "markdown",
      "id": "a8b7e6f5",
      "metadata": {
        "id": "a8b7e6f5"
      },
      "source": [
        "#### 54. How to read the following file? (★★☆)\n",
        "```\n",
        "1, 2, 3, 4, 5\n",
        "6,  ,  , 7, 8\n",
        " ,  , 9,10,11\n",
        "```"
      ]
    },
    {
      "cell_type": "code",
      "execution_count": null,
      "id": "bde0538a",
      "metadata": {
        "id": "bde0538a"
      },
      "outputs": [],
      "source": [
        "from io import StringIO   # StringIO는 실제 파일인것처럼 읽고 쓰기 가능하게 해줌\n",
        "\n",
        "# 가짜 파일\n",
        "s = StringIO('''1, 2, 3, 4, 5\n",
        "\n",
        "                6,  ,  , 7, 8\n",
        "\n",
        "                 ,  , 9,10,11\n",
        "''')    # s에 파일처럼 값 저장\n",
        "Z = np.genfromtxt(s, delimiter=\",\", dtype=np.int) # genfromtxt는 텍스트 파일을 array형식으로 변환해준다.\n",
        "print(Z)"
      ]
    },
    {
      "cell_type": "markdown",
      "id": "c6b32834",
      "metadata": {
        "id": "c6b32834"
      },
      "source": [
        "#### 55. What is the equivalent of enumerate for numpy arrays? (★★☆)"
      ]
    },
    {
      "cell_type": "code",
      "execution_count": null,
      "id": "ab02472a",
      "metadata": {
        "id": "ab02472a"
      },
      "outputs": [],
      "source": [
        "Z = np.arange(9).reshape(3,3)   # 3 * 3배열에 9까지 순서대로 선언\n",
        "for index, value in np.ndenumerate(Z):  # ndeunmerate는 배열 좌표와 값의 쌍을 생성하는 반복자를 반환합니다.\n",
        "    print(index, value)   # 총 9번 반복된다.\n",
        "for index in np.ndindex(Z.shape):   # ndindex는 배열을 인덱싱하는 N차원 반복자 개체이다.\n",
        "    print(index, Z[index])  # 총 9번 반복된다."
      ]
    },
    {
      "cell_type": "markdown",
      "id": "a2121a05",
      "metadata": {
        "id": "a2121a05"
      },
      "source": [
        "#### 56. Generate a generic 2D Gaussian-like array (★★☆)"
      ]
    },
    {
      "cell_type": "code",
      "execution_count": null,
      "id": "18507102",
      "metadata": {
        "id": "18507102"
      },
      "outputs": [],
      "source": [
        "# 정규분포 공식 = 1/(σ√2π) * exp(−((x−μ) * (x−μ) * (2σ) * (2σ)))\n",
        "X, Y = np.meshgrid(np.linspace(-1,1,10), np.linspace(-1,1,10))\n",
        "print(X)  # 행으로 정렬\n",
        "print(Y)  # 열로 정렬\n",
        "# linspance로 -1 ~ 1 사이의 값을 10개의 요소로 생성한 후, meshgrid로 x, y를 좌표로 받아 행렬로 반환한다.\n",
        "D = np.sqrt(X*X+Y*Y)  # (X * X + Y * Y)를 오름차순 정렬한다.\n",
        "sigma, mu = 1.0, 0.0  # 변수에 값 저장\n",
        "G = np.exp(-( (D-mu)**2 / ( 2.0 * sigma**2 ) ) )  # exp는 함수의 값을 지수함수로 변환시켜준다.\n",
        "print(G)"
      ]
    },
    {
      "cell_type": "markdown",
      "id": "97055efa",
      "metadata": {
        "id": "97055efa"
      },
      "source": [
        "#### 57. How to randomly place p elements in a 2D array? (★★☆)"
      ]
    },
    {
      "cell_type": "code",
      "execution_count": null,
      "id": "292e842f",
      "metadata": {
        "id": "292e842f"
      },
      "outputs": [],
      "source": [
        "n = 10\n",
        "p = 3\n",
        "Z = np.zeros((n,n))   # n * n크기의 배열 선언\n",
        "np.put(Z, np.random.choice(range(n*n), p, replace=False),1)\n",
        "# random.choice는 원소를 랜덤하게 p개 뽑아준다.(replace=False는 원소 중복을 없애준다.) put을 사용해서 뽑은 값을 1로 바꿔준다.\n",
        "print(Z)"
      ]
    },
    {
      "cell_type": "markdown",
      "id": "bfd2513c",
      "metadata": {
        "id": "bfd2513c"
      },
      "source": [
        "#### 58. Subtract the mean of each row of a matrix (★★☆)"
      ]
    },
    {
      "cell_type": "code",
      "execution_count": null,
      "id": "f306ab72",
      "metadata": {
        "id": "f306ab72"
      },
      "outputs": [],
      "source": [
        "X = np.random.rand(5, 10)\n",
        "# 5 * 10 크기의 배열을 0 ~ 1 사이의 균일분포 표준정규분포 난수로 생성\n",
        "Y = X - X.mean(axis=1, keepdims=True)\n",
        "# mean을 사용하여 평균을 구한다. axis가 1이기 때문에 행끼리 계산하고, keepdims=true이기 때문에 2차원배열로 생성\n",
        "Y = X - X.mean(axis=1).reshape(-1, 1)\n",
        "# Y에 reshape을 사용하여 배열의 모양을 바꾼다. 행의 위치에 -1이 있으니 원래 배열의 길이와 남은 차원으로 부터 추정한다.\n",
        "print(Y)"
      ]
    },
    {
      "cell_type": "markdown",
      "id": "da9f2f9b",
      "metadata": {
        "id": "da9f2f9b"
      },
      "source": [
        "#### 59. How to sort an array by the nth column? (★★☆)"
      ]
    },
    {
      "cell_type": "code",
      "execution_count": null,
      "id": "68cde57f",
      "metadata": {
        "id": "68cde57f"
      },
      "outputs": [],
      "source": [
        "Z = np.random.randint(0,10,(3,3))   # 0 ~ 10 사이의 랜덤한 int형 값을 3 * 3 배열에 채워넣는다.\n",
        "print(Z)\n",
        "print(Z[Z[:,1].argsort()])  # argsort()로 배열을 정렬한다. Z[Z[:,1]]은 Z[array([1번째 열])]과 같다."
      ]
    },
    {
      "cell_type": "markdown",
      "id": "5b7be45c",
      "metadata": {
        "id": "5b7be45c"
      },
      "source": [
        "#### 60. How to tell if a given 2D array has null columns? (★★☆)"
      ]
    },
    {
      "cell_type": "code",
      "execution_count": null,
      "id": "7dbe2c27",
      "metadata": {
        "id": "7dbe2c27"
      },
      "outputs": [],
      "source": [
        "Z = np.random.randint(0,3,(3,10)) # 0 ~ 3 사이의 랜덤한 int형 값을 3 * 10 배열에 채워넣는다.\n",
        "print(Z)\n",
        "print((~Z.any(axis=0)).any()) # axis가 0이니 열끼리 계산하여 열이 전부 NULL값(0)인 경우가 1개라도 있는경우 True를 반환 아닌경우 False를 반환"
      ]
    },
    {
      "cell_type": "markdown",
      "id": "7c18c02e",
      "metadata": {
        "id": "7c18c02e"
      },
      "source": [
        "#### 61. Find the nearest value from a given value in an array (★★☆)"
      ]
    },
    {
      "cell_type": "code",
      "execution_count": null,
      "id": "b78ae9c4",
      "metadata": {
        "id": "b78ae9c4"
      },
      "outputs": [],
      "source": [
        "Z = np.random.uniform(0,1,10) # random.uniform으로 0 ~ 1 사이의 실수를 10개 반환한다.\n",
        "z = 0.5 # 값 지정\n",
        "print(f\"랜덤한 값들 = {Z[:]}\")\n",
        "m = Z.flat[np.abs(Z - z).argmin()]  # Z에서 지정된 값을 뺀 후 절대값을 씌워서 최소값을 찾아 m에 저장한다.\n",
        "print(f\"가장 가까운 값 = {m}\")"
      ]
    },
    {
      "cell_type": "markdown",
      "id": "8174ba2c",
      "metadata": {
        "id": "8174ba2c"
      },
      "source": [
        "#### 62. Considering two arrays with shape (1,3) and (3,1), how to compute their sum using an iterator? (★★☆)"
      ]
    },
    {
      "cell_type": "code",
      "execution_count": null,
      "id": "8a18fe57",
      "metadata": {
        "id": "8a18fe57"
      },
      "outputs": [],
      "source": [
        "A = np.arange(3).reshape(3,1) # 2까지의 값을 3 * 1크기의 배열에 저장한다.\n",
        "B = np.arange(3).reshape(1,3) # 2까지의 값을 1 * 3크기의 배열에 저장한다.\n",
        "print(A, B)\n",
        "it = np.nditer([A,B,None])  # nditer은 배열을 반복하는 효율적인 다차원 반복기 개체이다. \n",
        "for x,y,z in it:\n",
        "    z[...] = x + y\n",
        "# x, y, z에 it을 넣고 배열 z에 x + y를 더한값을 넣는다.\n",
        "print(it.operands[2])"
      ]
    },
    {
      "cell_type": "markdown",
      "id": "9189bd7c",
      "metadata": {
        "id": "9189bd7c"
      },
      "source": [
        "#### 63. Create an array class that has a name attribute (★★☆)"
      ]
    },
    {
      "cell_type": "code",
      "execution_count": null,
      "id": "1c01ed42",
      "metadata": {
        "id": "1c01ed42"
      },
      "outputs": [],
      "source": [
        "class NamedArray(np.ndarray):\n",
        "    def __new__(cls, array, name=\"no name\"):\n",
        "        obj = np.asarray(array).view(cls)   # view를 통해 cls를 보여주고 asarray를 통해 복사한다.\n",
        "        obj.name = name   # name을 저장\n",
        "        return obj\n",
        "    def __array_finalize__(self, obj):\n",
        "        if obj is None: return    # obj값이 Nome일 경우 return\n",
        "        self.info = getattr(obj, 'name', \"no name\")   # self.info에 obj에 존재하는 속성을 저장한다.\n",
        "\n",
        "Z = NamedArray(np.arange(10), \"range_10\")\n",
        "print (Z.name)"
      ]
    },
    {
      "cell_type": "markdown",
      "id": "f30162d2",
      "metadata": {
        "id": "f30162d2"
      },
      "source": [
        "#### 64. Consider a given vector, how to add 1 to each element indexed by a second vector (be careful with repeated indices)? (★★★)"
      ]
    },
    {
      "cell_type": "code",
      "execution_count": null,
      "id": "093ba36f",
      "metadata": {
        "id": "093ba36f"
      },
      "outputs": [],
      "source": [
        "Z = np.ones(10) # Z에 1의값을 넣은 1차원 배열 생성\n",
        "I = np.random.randint(0,len(Z),20)  # 0 ~ 10 사이의 랜덤정수형을 20까지 생성\n",
        "Z += np.bincount(I, minlength=len(Z)) # 0 ~ 10까지 숫자가 몇 개 있는지 Z배열에 더함.\n",
        "print(I)\n",
        "print(Z)\n",
        "\n",
        "np.add.at(Z, I, 1)  # Z배열에 I idx 위치에 더함\n",
        "print(Z)"
      ]
    },
    {
      "cell_type": "markdown",
      "id": "f5b1c584",
      "metadata": {
        "id": "f5b1c584"
      },
      "source": [
        "#### 65. How to accumulate elements of a vector (X) to an array (F) based on an index list (I)? (★★★)"
      ]
    },
    {
      "cell_type": "code",
      "execution_count": null,
      "id": "c9d92a75",
      "metadata": {
        "id": "c9d92a75"
      },
      "outputs": [],
      "source": [
        "X = [1,2,3,4,5,6] # 배열 생성\n",
        "I = [1,3,9,3,4,1] # 배열 생성\n",
        "F = np.bincount(I,X)  # F에 0 ~ 10까지 I, X배열의 숫자가 몇개 있는지 배열로 생성\n",
        "print(F)"
      ]
    },
    {
      "cell_type": "markdown",
      "id": "994c452d",
      "metadata": {
        "id": "994c452d"
      },
      "source": [
        "#### 66. Considering a (w,h,3) image of (dtype=ubyte), compute the number of unique colors (★★☆)"
      ]
    },
    {
      "cell_type": "code",
      "execution_count": null,
      "id": "269cdaea",
      "metadata": {
        "id": "269cdaea"
      },
      "outputs": [],
      "source": [
        "w, h = 256, 256\n",
        "I = np.random.randint(0, 4, (h, w, 3)).astype(np.ubyte) # 0 ~ 3사이의 랜덤한 값을 배열로 만들고 astype으로 데이터 형식을 바꿔준다.\n",
        "colors = np.unique(I.reshape(-1, 3), axis=0)  # reshape으로 배열의 모양을 만들고 unique로 고유한 값을 찾는다.\n",
        "n = len(colors) # n에 colors의 길이를 넣는다.\n",
        "print(n)"
      ]
    },
    {
      "cell_type": "markdown",
      "id": "4bddeb31",
      "metadata": {
        "id": "4bddeb31"
      },
      "source": [
        "#### 67. Considering a four dimensions array, how to get sum over the last two axis at once? (★★★)"
      ]
    },
    {
      "cell_type": "code",
      "execution_count": null,
      "id": "32af15f5",
      "metadata": {
        "id": "32af15f5"
      },
      "outputs": [],
      "source": [
        "A = np.random.randint(0,10,(3,4,3,4))\n",
        "# A에 0 ~ 10사이의 랜덤한 정수값을 4차원 배열에 넣는다.\n",
        "sum = A.sum(axis=(-2,-1))\n",
        "print(sum)\n",
        "# sum에서 행과 열을 하나씩 삭제한 후 더한 값을 2차원 배a.열에 저장한다.\n",
        "sum = A.reshape(A.shape[:-2] + (-1,)).sum(axis=-1)  # shape[:-2] = (3, 4) 따라서, A.reshpae[3,4,4]\n",
        "# reshape을 이용해서 배열의 모양을 바꾸고 sum에 값을 저장한다.\n",
        "print(sum)"
      ]
    },
    {
      "cell_type": "markdown",
      "id": "c4cf083c",
      "metadata": {
        "id": "c4cf083c"
      },
      "source": [
        "#### 68. Considering a one-dimensional vector D, how to compute means of subsets of D using a vector S of same size describing subset  indices? (★★★)"
      ]
    },
    {
      "cell_type": "code",
      "execution_count": null,
      "id": "9600a2dd",
      "metadata": {
        "id": "9600a2dd"
      },
      "outputs": [],
      "source": [
        "D = np.random.uniform(0,1,100)  # 0 ~ 1사이의 실수 중 난수값을 저장\n",
        "S = np.random.randint(0,10,100) # 0 ~ 1사이의 실수 중 난수값을 저장\n",
        "D_sums = np.bincount(S, weights=D)  # 0 ~ 10사이의 개수를 배열에 저장\n",
        "print(D_sums)\n",
        "D_counts = np.bincount(S) # 0 ~ 10사이의 개수를 배열에 저장\n",
        "D_means = D_sums / D_counts\n",
        "print(D_means)\n",
        "\n",
        "import pandas as pd   # 데이터 처리를 위한 라이브러리\n",
        "print(pd.Series(D).groupby(S).mean()) # mean을 통해 평균을 구하고 groupby는 같은 값을 하나로 묶어준다. Series로 1차원 배열과 같은 자료구조로 만들어준다."
      ]
    },
    {
      "cell_type": "markdown",
      "id": "a5e316db",
      "metadata": {
        "id": "a5e316db"
      },
      "source": [
        "#### 69. How to get the diagonal of a dot product? (★★★)"
      ]
    },
    {
      "cell_type": "code",
      "execution_count": null,
      "id": "94735dbd",
      "metadata": {
        "id": "94735dbd"
      },
      "outputs": [],
      "source": [
        "A = np.random.uniform(0,1,(5,5))  # 0 ~ 1사이의 랜덤한 실수 중 난수값을 지정\n",
        "B = np.random.uniform(0,1,(5,5))  # 0 ~ 1사이의 랜덤한 실수 중 난수값을 지정\n",
        "print(A)\n",
        "print(B)\n",
        "\n",
        "print(np.diag(np.dot(A, B)))  # 느림\n",
        "# dot으로 다차원 내적을 수행하고 diag로 대각 행렬을 추출해준다.\n",
        "np.sum(A * B.T, axis=1) # 빠름\n",
        "# B.T로 전치작업을 수행 후 A를 곱하고 axis가 1이기 때문에 행끼리 계산한다.\n",
        "print(np.sum(A * B.T, axis=1))\n",
        "print(np.einsum(\"ij,ji->i\", A, B))  # 제일빠름\n",
        "# ji->i 는 행을 기준으로 합하라는 뜻임"
      ]
    },
    {
      "cell_type": "markdown",
      "id": "de727a7b",
      "metadata": {
        "id": "de727a7b"
      },
      "source": [
        "#### 70. Consider the vector [1, 2, 3, 4, 5], how to build a new vector with 3 consecutive zeros interleaved between each value? (★★★)"
      ]
    },
    {
      "cell_type": "code",
      "execution_count": null,
      "id": "982be812",
      "metadata": {
        "id": "982be812"
      },
      "outputs": [],
      "source": [
        "Z = np.array([1,2,3,4,5]) # 배열 생성\n",
        "nz = 3  # 변수 저장\n",
        "Z0 = np.zeros(len(Z) + (len(Z)-1)*(nz)) # Z의 길이 + (Z의 길이 - 1) * 변수 만큼의 배열 생성\n",
        "Z0[::nz+1] = Z  # 인덱싱을 사용하여 0부터 끝까지 인덱싱이 3씩 더해져서 Z배열의 값이 들어감\n",
        "print(Z0)"
      ]
    },
    {
      "cell_type": "markdown",
      "id": "a9a73d6b",
      "metadata": {
        "id": "a9a73d6b"
      },
      "source": [
        "#### 71. Consider an array of dimension (5,5,3), how to mulitply it by an array with dimensions (5,5)? (★★★)"
      ]
    },
    {
      "cell_type": "code",
      "execution_count": null,
      "id": "282a90cc",
      "metadata": {
        "id": "282a90cc"
      },
      "outputs": [],
      "source": [
        "A = np.ones((5,5,3))  # 5 * 5 * 3크기의 배열 선언\n",
        "B = 2*np.ones((5,5))  # 5 * 5크기의 배열에 2값 들어가게 선언\n",
        "print(A * B[:,:,None])  # 임시적으로 B의 배열을 3차원으로 바꿔서 곱함"
      ]
    },
    {
      "cell_type": "markdown",
      "id": "a951c78f",
      "metadata": {
        "id": "a951c78f"
      },
      "source": [
        "#### 72. How to swap two rows of an array? (★★★)"
      ]
    },
    {
      "cell_type": "code",
      "execution_count": null,
      "id": "e29b3fde",
      "metadata": {
        "id": "e29b3fde"
      },
      "outputs": [],
      "source": [
        "A = np.arange(25).reshape(5,5)  # 5 * 5 크기의 배열을 25까지 값을 넣어 생성\n",
        "A[[0,1]] = A[[1,0]] # 행 인덱스를 사용해서 행 교체\n",
        "print(A)"
      ]
    },
    {
      "cell_type": "markdown",
      "id": "43b639e8",
      "metadata": {
        "id": "43b639e8"
      },
      "source": [
        "#### 73. Consider a set of 10 triplets describing 10 triangles (with shared vertices), find the set of unique line segments composing all the  triangles (★★★)"
      ]
    },
    {
      "cell_type": "code",
      "execution_count": null,
      "id": "147e1034",
      "metadata": {
        "id": "147e1034"
      },
      "outputs": [],
      "source": [
        "faces = np.random.randint(0,100,(10,3)) # 0 ~ 100 사이의 랜덤한 정수값을 10 * 3 배열에 집어넣음\n",
        "F = np.roll(faces.repeat(2,axis=1),-1,axis=1) # repeat를 사용해서 -1이 나오기 전까지 반복하고, roll을 사용해서 -1만큼 축을 이동시킨다.\n",
        "F = F.reshape(len(F)*3,2) # F의 길이 * 3, 2의 모양으로 배열을 바꾼다.\n",
        "F = np.sort(F,axis=1) # 오름차순 정렬\n",
        "G = F.view( dtype=[('p0',F.dtype),('p1',F.dtype)] ) # G에 view를 사용하여 데이터타입을 저장한다.\n",
        "G = np.unique(G)  # 배열의 고유한 값을 정렬한것을 G에 저장한다.\n",
        "print(G)"
      ]
    },
    {
      "cell_type": "markdown",
      "id": "d41de585",
      "metadata": {
        "id": "d41de585"
      },
      "source": [
        "#### 74. Given a sorted array C that corresponds to a bincount, how to produce an array A such that np.bincount(A) == C? (★★★)"
      ]
    },
    {
      "cell_type": "code",
      "execution_count": null,
      "id": "5f5d6e36",
      "metadata": {
        "id": "5f5d6e36"
      },
      "outputs": [],
      "source": [
        "C = np.bincount([1,1,2,3,4,4,6])  # bincount를 사용해서 빈도수를 저장\n",
        "A = np.repeat(np.arange(len(C)), C) # C의 길이(7)까지의 값을 repeat를 사용해서 반복한다.\n",
        "print(A)"
      ]
    },
    {
      "cell_type": "markdown",
      "id": "b50adf7c",
      "metadata": {
        "id": "b50adf7c"
      },
      "source": [
        "#### 75. How to compute averages using a sliding window over an array? (★★★)"
      ]
    },
    {
      "cell_type": "code",
      "execution_count": null,
      "id": "e631a9d2",
      "metadata": {
        "id": "e631a9d2"
      },
      "outputs": [],
      "source": [
        "def moving_average(a, n=3) :\n",
        "    ret = np.cumsum(a, dtype=float) # cumsum으로 a의 누적합계를 ret에 저장\n",
        "    ret[n:] = ret[n:] - ret[:-n]  # ret에 인덱싱을 사용하여 마지막값을 제외한 값을 전부 뺌\n",
        "    return ret[n - 1:] / n  # 배열[n - 1]반환\n",
        "Z = np.arange(20)\n",
        "print(moving_average(Z, n=3))"
      ]
    },
    {
      "cell_type": "markdown",
      "id": "1ab4c50d",
      "metadata": {
        "id": "1ab4c50d"
      },
      "source": [
        "#### 76. Consider a one-dimensional array Z, build a two-dimensional array whose first row is (Z[0],Z[1],Z[2]) and each subsequent row is  shifted by 1 (last row should be (Z[-3],Z[-2],Z[-1]) (★★★)"
      ]
    },
    {
      "cell_type": "code",
      "execution_count": null,
      "id": "3ccfe2c0",
      "metadata": {
        "id": "3ccfe2c0"
      },
      "outputs": [],
      "source": [
        "from numpy.lib import stride_tricks\n",
        "\n",
        "def rolling(a, window):\n",
        "    shape = (a.size - window + 1, window) # shape = (10 - 3 + 1, 3)\n",
        "    print(type(a[0])) # a[0]의 데이터 타입이 64bit이기 때문에 8byte란걸 알 수 있음\n",
        "    strides = (a.strides[0], a.strides[0])  # 1차원 배열이기 때문에 strides = (8, 8)\n",
        "    return stride_tricks.as_strided(a, shape=shape, strides=strides)  # 8 * 3의 모양으로 배열을 만듦\n",
        "Z = rolling(np.arange(10), 3)\n",
        "print(Z)"
      ]
    },
    {
      "cell_type": "markdown",
      "id": "5b4fe59d",
      "metadata": {
        "id": "5b4fe59d"
      },
      "source": [
        "#### 77. How to negate a boolean, or to change the sign of a float inplace? (★★★)"
      ]
    },
    {
      "cell_type": "code",
      "execution_count": null,
      "id": "3c2373ff",
      "metadata": {
        "id": "3c2373ff"
      },
      "outputs": [],
      "source": [
        "Z = np.random.randint(0,2,100)  # 0 ~ 2사이의 랜덤한 정수형 값을 100개를 선언\n",
        "print(Z)\n",
        "print(np.logical_not(Z, out=Z))  # 0과 1을 가진 배열의 경우 logical_not을 통하여 반전이 가능하다.\n",
        "\n",
        "Z = np.random.uniform(-1.0,1.0,100) # -1과 1사이의 실수형값을 100까지 선언\n",
        "print(Z)\n",
        "print(np.negative(Z, out=Z))  # negative를 이용하여 부호를 가진 배열을 반전시킬 수 있다."
      ]
    },
    {
      "cell_type": "markdown",
      "id": "119ab5af",
      "metadata": {
        "id": "119ab5af"
      },
      "source": [
        "#### 78. Consider 2 sets of points P0,P1 describing lines (2d) and a point p, how to compute distance from p to each line i (P0[i],P1[i])? (★★★)"
      ]
    },
    {
      "cell_type": "code",
      "execution_count": null,
      "id": "1d8d06dc",
      "metadata": {
        "id": "1d8d06dc"
      },
      "outputs": [],
      "source": [
        "def distance(P0, P1, p):\n",
        "    T = P1 - P0\n",
        "    L = (T**2).sum(axis=1)  # 제곱한 뒤 행끼리 더함\n",
        "    U = -((P0[:,0]-p[...,0])*T[:,0] + (P0[:,1]-p[...,1])*T[:,1]) / L\n",
        "    # U = ((P0의 0번째 열 - p의 0번째 인덱스) * T의 0번째 열 + (P0의 1번째 열 - p의 1번째 인덱스) * T의 1번째 열) / L\n",
        "    U = U.reshape(len(U),1) # U를10 * 1의 배열의 모양으로 변경\n",
        "    D = P0 + U*T - p\n",
        "    return np.sqrt((D**2).sum(axis=1))  # D를 제곱한 뒤 행끼리 더한값을 오름차순 정렬\n",
        "\n",
        "P0 = np.random.uniform(-10,10,(10,2)) # -10 ~ 10사이의 랜덤한 실수형 값을 10 * 2 크기의 배열로 생성\n",
        "P1 = np.random.uniform(-10,10,(10,2)) # -10 ~ 10사이의 랜덤한 실수형 값을 10 * 2 크기의 배열로 생성\n",
        "p  = np.random.uniform(-10,10,( 1,2)) # -10 ~ 10사이의 랜덤한 실수형 값을 1 * 2 크기의 배열로 생성\n",
        "print(distance(P0, P1, p))"
      ]
    },
    {
      "cell_type": "markdown",
      "id": "e5e7f323",
      "metadata": {
        "id": "e5e7f323"
      },
      "source": [
        "#### 79. Consider 2 sets of points P0,P1 describing lines (2d) and a set of points P, how to compute distance from each point j (P[j]) to each line i (P0[i],P1[i])? (★★★)"
      ]
    },
    {
      "cell_type": "code",
      "execution_count": null,
      "id": "d0ce77e2",
      "metadata": {
        "id": "d0ce77e2"
      },
      "outputs": [],
      "source": [
        "P0 = np.random.uniform(-10, 10, (10,2)) # -10 ~ 10사이의 랜덤한 실수형 값을 10 * 2 크기의 배열로 생성\n",
        "P1 = np.random.uniform(-10,10,(10,2)) # -10 ~ 10사이의 랜덤한 실수형 값을 10 * 2 크기의 배열로 생성\n",
        "p = np.random.uniform(-10, 10, (10,2))  # -10 ~ 10사이의 랜덤한 실수형 값을 10 * 2 크기의 배열로 생성\n",
        "print(np.array([distance(P0,P1,p_i) for p_i in p]))\n",
        "# 전 문제에서 선언한 함수를 사용한 후 p_i에 p의 값을 넣어서 배열 선언"
      ]
    },
    {
      "cell_type": "markdown",
      "id": "9b9d03eb",
      "metadata": {
        "id": "9b9d03eb"
      },
      "source": [
        "#### 80. Consider an arbitrary array, write a function that extract a subpart with a fixed shape and centered on a given element (pad with a `fill` value when necessary) (★★★)"
      ]
    },
    {
      "cell_type": "code",
      "execution_count": null,
      "id": "ec2b7ae3",
      "metadata": {
        "id": "ec2b7ae3"
      },
      "outputs": [],
      "source": [
        "Z = np.random.randint(0,10,(10,10)) # 0 ~ 10사이의 랜덤한 실수형 값을 10 * 10 크기의 배열로 생성\n",
        "shape = (5,5)\n",
        "fill  = 0\n",
        "position = (1,1)\n",
        "\n",
        "R = np.ones(shape, dtype=Z.dtype)*fill\n",
        "# 5 * 5 배열에 1을 넣었으나 fill을 곱해서 0이 들어감\n",
        "P  = np.array(list(position)).astype(int)\n",
        "# 1차원 배열에 1, 1을 넣고 데이터타입을 int로 변경\n",
        "Rs = np.array(list(R.shape)).astype(int)\n",
        "# 1차원 배열에 5, 5을 넣고 데이터타입을 int로 변경\n",
        "Zs = np.array(list(Z.shape)).astype(int)\n",
        "# 1차원 배열에 10, 10을 넣고 데이터타입을 int로 변경\n",
        "\n",
        "R_start = np.zeros((len(shape),)).astype(int)\n",
        "# 크기가 2인 1차원 배열을 만들고 데이터타입을 int로 변경\n",
        "R_stop  = np.array(list(shape)).astype(int)\n",
        "# 크기가 2인 1차원 배열을 만들고 5, 5를 넣고 데이터타입을 int로 변경\n",
        "Z_start = (P-Rs//2) # 1 - 5 // 2\n",
        "Z_stop  = (P+Rs//2)+Rs%2  # (1 + 5 //2) + 5 % 2\n",
        "\n",
        "R_start = (R_start - np.minimum(Z_start,0)).tolist()\n",
        "# (0 - (-1)) tolist를 이용해서 numpy배열을 목록으로 변환\n",
        "Z_start = (np.maximum(Z_start,0)).tolist()\n",
        "# (0) tolist를 이용해서 numpy배열을 목록으로 변환\n",
        "R_stop = np.maximum(R_start, (R_stop - np.maximum(Z_stop-Zs,0))).tolist()\n",
        "# (1, 5 - 0) tolist를 이용해서 numpy배열을 목록으로 변환\n",
        "Z_stop = (np.minimum(Z_stop,Zs)).tolist()\n",
        "# (4) tolist를 이용해서 numpy배열을 목록으로 변환\n",
        "\n",
        "r = [slice(start,stop) for start,stop in zip(R_start,R_stop)]\n",
        "# start와 stop을 R_start와 R_stop를 넣고 zip을 사용해서 데이터를 서로 엮어준후 슬라이스한다.\n",
        "z = [slice(start,stop) for start,stop in zip(Z_start,Z_stop)]\n",
        "# start와 stop을 Z_start와 Z_stop를 넣고 zip을 사용해서 데이터를 서로 엮어준후 슬라이스한다.\n",
        "R[r] = Z[z]\n",
        "print(Z)\n",
        "print(R)"
      ]
    },
    {
      "cell_type": "markdown",
      "id": "27794913",
      "metadata": {
        "id": "27794913"
      },
      "source": [
        "#### 81. Consider an array Z = [1,2,3,4,5,6,7,8,9,10,11,12,13,14], how to generate an array R = [[1,2,3,4], [2,3,4,5], [3,4,5,6], ..., [11,12,13,14]]? (★★★)"
      ]
    },
    {
      "cell_type": "code",
      "execution_count": null,
      "id": "f3e7878b",
      "metadata": {
        "id": "f3e7878b"
      },
      "outputs": [],
      "source": [
        "Z = np.arange(1,15,dtype=np.uint32) # 1 ~ 14까지의 값을 uint32형으로 배열에 저장한다.\n",
        "R = stride_tricks.as_strided(Z,(11,4),(4,4))  # Z의 값을 11 * 4모양의 배열에 저장한다.\n",
        "print(R)"
      ]
    },
    {
      "cell_type": "markdown",
      "id": "fae786f5",
      "metadata": {
        "id": "fae786f5"
      },
      "source": [
        "#### 82. Compute a matrix rank (★★★)"
      ]
    },
    {
      "cell_type": "code",
      "execution_count": null,
      "id": "64b9615b",
      "metadata": {
        "id": "64b9615b"
      },
      "outputs": [],
      "source": [
        "Z = np.random.uniform(0,1,(10,10))  # 0 ~ 1사이의 랜덤한값을 10 * 10 배열에 저장\n",
        "U, S, V = np.linalg.svd(Z) # linalg.svd는 특이값을 분해할 수 있다.\n",
        "print(U.shape, S.shape, V.shape)\n",
        "rank = np.sum(S > 1e-10)  # S > 1e - 10이 정수로 걸러주는듯? 함\n",
        "print(np.sum(S))\n",
        "print(rank)"
      ]
    },
    {
      "cell_type": "markdown",
      "id": "c85aa0b9",
      "metadata": {
        "id": "c85aa0b9"
      },
      "source": [
        "#### 83. How to find the most frequent value in an array?"
      ]
    },
    {
      "cell_type": "code",
      "execution_count": null,
      "id": "056be85b",
      "metadata": {
        "id": "056be85b"
      },
      "outputs": [],
      "source": [
        "Z = np.random.randint(0,10,50)\n",
        "print(np.bincount(Z))\n",
        "print(np.bincount(Z).argmax())  # bincount를 써서 0 ~ 9사이의 개수를 배열에 저장하고 해당 배열중 가장 큰 인덱스 값을 출력한다."
      ]
    },
    {
      "cell_type": "markdown",
      "id": "0ff2344d",
      "metadata": {
        "id": "0ff2344d"
      },
      "source": [
        "#### 84. Extract all the contiguous 3x3 blocks from a random 10x10 matrix (★★★)"
      ]
    },
    {
      "cell_type": "code",
      "execution_count": null,
      "id": "d58b1318",
      "metadata": {
        "id": "d58b1318"
      },
      "outputs": [],
      "source": [
        "Z = np.random.randint(0,5,(10,10))\n",
        "n = 3\n",
        "i = 1 + (Z.shape[0]-3)  # 1 + (Z의 0번째 행 - 3)\n",
        "j = 1 + (Z.shape[1]-3)  # 1 + (Z의 1번째 행 - 3)\n",
        "C = stride_tricks.as_strided(Z, shape=(i, j, n, n), strides=Z.strides + Z.strides)\n",
        "# Z 의 값을 i * j * n * n크기의 배열로 int64형으로 배열값 저장\n",
        "print(C)"
      ]
    },
    {
      "cell_type": "markdown",
      "id": "1a18b263",
      "metadata": {
        "id": "1a18b263"
      },
      "source": [
        "#### 85. Create a 2D array subclass such that Z[i,j] == Z[j,i] (★★★)"
      ]
    },
    {
      "cell_type": "code",
      "execution_count": null,
      "id": "87f17adc",
      "metadata": {
        "id": "87f17adc"
      },
      "outputs": [],
      "source": [
        "class Symetric(np.ndarray):\n",
        "    def __setitem__(self, index, value):\n",
        "        i,j = index\n",
        "        super(Symetric, self).__setitem__((i,j), value) # 자식 클래스에서 부모 클래스인 Symetric의 내용을 사용\n",
        "        super(Symetric, self).__setitem__((j,i), value)\n",
        "\n",
        "def symetric(Z):\n",
        "    print(Z)\n",
        "    print(np.diag(Z.diagonal()))\n",
        "    return np.asarray(Z + Z.T - np.diag(Z.diagonal())).view(Symetric) \n",
        "# asarray를 이용해서 Z + Z.T(.T는 전치연산자) - diagonal를 사용해서 대각행렬 찾은 후 diag를 사용해서 대각행렬을 제외한 값들 초기화 한 후 Symetric를 view로 보여줌\n",
        "\n",
        "S = symetric(np.random.randint(0,10,(5,5))) # 함수 symetric를 이용해서 S에 값 저장\n",
        "S[2,3] = 42 # S에 값 선언\n",
        "print(S)"
      ]
    },
    {
      "cell_type": "markdown",
      "id": "f85f2cad",
      "metadata": {
        "id": "f85f2cad"
      },
      "source": [
        "#### 86. Consider a set of p matrices wich shape (n,n) and a set of p vectors with shape (n,1). How to compute the sum of of the p matrix products at once? (result has shape (n,1)) (★★★)"
      ]
    },
    {
      "cell_type": "code",
      "execution_count": null,
      "id": "8d230557",
      "metadata": {
        "id": "8d230557"
      },
      "outputs": [],
      "source": [
        "p, n = 10, 20\n",
        "M = np.ones((p,n,n))  # 배열 생성\n",
        "V = np.ones((p,n,1))  # 배열 생성\n",
        "S = np.tensordot(M, V, axes=[[0, 2], [0, 1]])\n",
        "# axes = 0 : 텐서 곱 axes = 1 : 텐서 내적 axes = 2 : (기본값) 텐서 이중 수축\n",
        "# 쌍을 이루는 축 0, 0에대해 합산 이후 2, 1벡터 유지\n",
        "print(S)"
      ]
    },
    {
      "cell_type": "markdown",
      "id": "5afb72c8",
      "metadata": {
        "id": "5afb72c8"
      },
      "source": [
        "#### 87. Consider a 16x16 array, how to get the block-sum (block size is 4x4)? (★★★)"
      ]
    },
    {
      "cell_type": "code",
      "execution_count": null,
      "id": "e86f47a9",
      "metadata": {
        "id": "e86f47a9"
      },
      "outputs": [],
      "source": [
        "Z = np.ones((16,16))  # 배열 선언\n",
        "k = 4\n",
        "print(Z.shape[0])\n",
        "S = np.add.reduceat(np.add.reduceat(Z, np.arange(0, Z.shape[0], k), axis=0),\n",
        "                                       np.arange(0, Z.shape[1], k), axis=1)\n",
        "# 배열Z를 reduceeat를 사용하여 인덱스로 범위를 지정하여 더한다.\n",
        "# reduceat을 풀어쓰면 아래와 같은 코드가 나온다.\n",
        "print(S)"
      ]
    },
    {
      "cell_type": "code",
      "source": [
        "# 이 코드는 reduceat을 이해하기 위해 임시로 사용한 코드이다.\n",
        "array = np.arange(10)\n",
        "indices = np.array([1,3,4,5])\n",
        "output = np.add.reduceat(array,indices)  \n",
        "print(output)\n",
        "\n",
        "print(\"Step1 : \", np.add.reduce(array[1:3]))\n",
        "print(\"Step2 : \", np.add.reduce(array[3:4]))\n",
        "print(\"Step3 : \", np.add.reduce(array[4:5]))\n",
        "print(\"Step4 : \", np.add.reduce(array[5:]))"
      ],
      "metadata": {
        "id": "wcv-i6F9ZUr0"
      },
      "id": "wcv-i6F9ZUr0",
      "execution_count": null,
      "outputs": []
    },
    {
      "cell_type": "markdown",
      "id": "6094d37c",
      "metadata": {
        "id": "6094d37c"
      },
      "source": [
        "#### 88. How to implement the Game of Life using numpy arrays? (★★★)"
      ]
    },
    {
      "cell_type": "code",
      "execution_count": null,
      "id": "a93e715f",
      "metadata": {
        "id": "a93e715f",
        "colab": {
          "base_uri": "https://localhost:8080/"
        },
        "outputId": "0203649c-95e0-49da-bfe6-65b757fbe722"
      },
      "outputs": [
        {
          "output_type": "stream",
          "name": "stdout",
          "text": [
            "[[0 0 0 ... 0 0 0]\n",
            " [0 0 0 ... 0 0 0]\n",
            " [0 0 0 ... 0 0 0]\n",
            " ...\n",
            " [0 0 0 ... 0 0 0]\n",
            " [0 0 0 ... 0 0 0]\n",
            " [0 0 0 ... 0 0 0]]\n"
          ]
        }
      ],
      "source": [
        "def iterate(Z):\n",
        "    N = (Z[0:-2,0:-2] + Z[0:-2,1:-1] + Z[0:-2,2:] +\n",
        "         Z[1:-1,0:-2]                + Z[1:-1,2:] +\n",
        "         Z[2:  ,0:-2] + Z[2:  ,1:-1] + Z[2:  ,2:])\n",
        "# Z에 슬라이스를 사용하여 N에 값을 지정한다. -2와 같은 음수값은 뒤에서 두번째까지 라는 뜻\n",
        "    birth = (N==3) & (Z[1:-1,1:-1]==0)\n",
        "# &는 비트연산자다. 때문에 동일한 값만 birth에 들어간다.\n",
        "    survive = ((N==2) | (N==3)) & (Z[1:-1,1:-1]==1)\n",
        "# |역시 비트연산자다. 때문에 둘 중 하나만 true값일경우 srivove에 값이 들어간다.\n",
        "    Z[...] = 0\n",
        "# Z값을 0으로 초기화\n",
        "    Z[1:-1,1:-1][birth | survive] = 1\n",
        "# Z의 1번째, 마지막 행 열을 birth survive값이 둘 중 한개 이상이 값이 있을경우 1을 반환한다.\n",
        "    return Z\n",
        "\n",
        "Z = np.random.randint(0,2,(50,50))\n",
        "for i in range(100): Z = iterate(Z)\n",
        "print(Z)"
      ]
    },
    {
      "cell_type": "markdown",
      "id": "a173cf96",
      "metadata": {
        "id": "a173cf96"
      },
      "source": [
        "#### 89. How to get the n largest values of an array (★★★)"
      ]
    },
    {
      "cell_type": "code",
      "execution_count": null,
      "id": "b7c2ff35",
      "metadata": {
        "id": "b7c2ff35"
      },
      "outputs": [],
      "source": [
        "Z = np.arange(10000)  # 배열 생성\n",
        "np.random.shuffle(Z)  # Z배열 안의 값의 순서를 랜덤하게 뒤섞는다.\n",
        "n = 5\n",
        "\n",
        "# 느린버전\n",
        "print (Z[np.argsort(Z)[-n:]])\n",
        "# argsort를 이용하여 오름차순 정렬 뒤 뒤에서 n개를 가져온다.\n",
        "\n",
        "# 빠른버전\n",
        "print (Z[np.argpartition(-Z,n)[:n]])\n",
        "# argpartition은 배열 내 가장 작은 값 n개를 찾은 후 인덱스를 반환한다."
      ]
    },
    {
      "cell_type": "markdown",
      "id": "15db2d01",
      "metadata": {
        "id": "15db2d01"
      },
      "source": [
        "#### 90. Given an arbitrary number of vectors, build the cartesian product (every combinations of every item) (★★★)"
      ]
    },
    {
      "cell_type": "code",
      "execution_count": null,
      "id": "a9a4633d",
      "metadata": {
        "id": "a9a4633d"
      },
      "outputs": [],
      "source": [
        "def cartesian(arrays):\n",
        "    arrays = [np.asarray(a) for a in arrays]  # a에 arrays를 넣고 asarray로 복사한다.\n",
        "    shape = (len(x) for x in arrays)  # x에 arrays를 넣고 길이를 넣는다.\n",
        "    \n",
        "    ix = np.indices(shape, dtype=int) # shape를 indices에 넣어 인덱스 세트를 int데이터 타입으로 반환한다.\n",
        "    ix = ix.reshape(len(arrays), -1).T  # arrays, -1크기의 배열에 전치연산자를 사용한다.\n",
        "\n",
        "    for n, arr in enumerate(arrays):\n",
        "        ix[:, n] = arrays[n][ix[:, n]]  # ix n열에 arrays n열에 값을 넣는다.  \n",
        "    return ix\n",
        "\n",
        "print (cartesian(([1, 2, 3], [4, 5], [6, 7])))"
      ]
    },
    {
      "cell_type": "markdown",
      "id": "5d94d1ef",
      "metadata": {
        "id": "5d94d1ef"
      },
      "source": [
        "#### 91. How to create a record array from a regular array? (★★★)"
      ]
    },
    {
      "cell_type": "code",
      "execution_count": null,
      "id": "b1dae380",
      "metadata": {
        "id": "b1dae380"
      },
      "outputs": [],
      "source": [
        "Z = np.array([(\"Hello\", 2.5, 3),\n",
        "              (\"World\", 3.6, 2)]) # 배열 선언\n",
        "R = np.core.records.fromarrays(Z.T,\n",
        "                               names='col1, col2, col3',\n",
        "                               formats = 'S8, f8, i8')\n",
        "# 배열 목록에서 레코드 배열을 만들어준다.\n",
        "print(R)"
      ]
    },
    {
      "cell_type": "markdown",
      "id": "114ccc36",
      "metadata": {
        "id": "114ccc36"
      },
      "source": [
        "#### 92. Consider a large vector Z, compute Z to the power of 3 using 3 different methods (★★★)"
      ]
    },
    {
      "cell_type": "code",
      "execution_count": null,
      "id": "877c65d6",
      "metadata": {
        "id": "877c65d6"
      },
      "outputs": [],
      "source": [
        "x = np.random.rand(int(5e7))\n",
        "\n",
        "%timeit np.power(x,3) # power함수를 사용한 제곱\n",
        "%timeit x*x*x # 벡터를 3번 곱함\n",
        "%timeit np.einsum('i,i,i->i',x,x,x) # einsum메소드를 이용한 제곱"
      ]
    },
    {
      "cell_type": "markdown",
      "id": "d614fee4",
      "metadata": {
        "id": "d614fee4"
      },
      "source": [
        "#### 93. Consider two arrays A and B of shape (8,3) and (2,2). How to find rows of A that contain elements of each row of B regardless of the order of the elements in B? (★★★)"
      ]
    },
    {
      "cell_type": "code",
      "execution_count": null,
      "id": "e6807a84",
      "metadata": {
        "id": "e6807a84"
      },
      "outputs": [],
      "source": [
        "A = np.random.randint(0,5,(8,3))\n",
        "B = np.random.randint(0,5,(2,2))\n",
        "\n",
        "C = (A[..., np.newaxis, np.newaxis] == B) # A에 newaxis를 사용해서 차원을 추가한 값을 C에 저장\n",
        "rows = np.where(C.any((3,1)).all(1))[0]\n",
        "# any를 통해 3차원 그룹의 각 행들을 비교하여 true가 1개라도 있다면 true를 반환하고 all을 통해 두값이 true인것만 남긴다. where을 통해 인덱스 추출\n",
        "print(rows)"
      ]
    },
    {
      "cell_type": "markdown",
      "id": "b0eedca6",
      "metadata": {
        "id": "b0eedca6"
      },
      "source": [
        "#### 94. Considering a 10x3 matrix, extract rows with unequal values (e.g. [2,2,3]) (★★★)"
      ]
    },
    {
      "cell_type": "code",
      "execution_count": null,
      "id": "fc136ce2",
      "metadata": {
        "id": "fc136ce2"
      },
      "outputs": [],
      "source": [
        "Z = np.random.randint(0,5,(10,3))\n",
        "print(Z)\n",
        "E = np.all(Z[:,1:] == Z[:,:-1], axis=1) # E값에 all안의 조건을 둘다 만족하는값을 집어넣는다.\n",
        "U = Z[~E] # ~는 비트연산자로 E안에 있는값을 제외하고 남은 Z값을 U에 저장한다.\n",
        "print(U)"
      ]
    },
    {
      "cell_type": "markdown",
      "id": "a65ec1cf",
      "metadata": {
        "id": "a65ec1cf"
      },
      "source": [
        "#### 95. Convert a vector of ints into a matrix binary representation (★★★)"
      ]
    },
    {
      "cell_type": "code",
      "execution_count": null,
      "id": "323cdf4c",
      "metadata": {
        "id": "323cdf4c"
      },
      "outputs": [],
      "source": [
        "I = np.array([0, 1, 2, 3, 15, 16, 32, 64, 128])\n",
        "B = ((I.reshape(-1,1) & (2**np.arange(8))) != 0).astype(int)\n",
        "# I배열을 열로만들어주고 aragne(8)을 제곱한 값과 동일하다면 true반환 후 False인지 아닌지 비교 후 데이터값을 int형으로 변경\n",
        "print(B[:,::-1])"
      ]
    },
    {
      "cell_type": "markdown",
      "id": "75b9397f",
      "metadata": {
        "id": "75b9397f"
      },
      "source": [
        "#### 96. Given a two dimensional array, how to extract unique rows? (★★★)"
      ]
    },
    {
      "cell_type": "code",
      "execution_count": null,
      "id": "9bb56a47",
      "metadata": {
        "id": "9bb56a47"
      },
      "outputs": [],
      "source": [
        "Z = np.random.randint(0,2,(6,3))\n",
        "T = np.ascontiguousarray(Z).view(np.dtype((np.void, Z.dtype.itemsize * Z.shape[1])))\n",
        "# view를 사용하여 데이터타입을 보여주고, ascontiguousarray를 사용하여 연속배열 반환\n",
        "_, idx = np.unique(T, return_index=True)  # 언더스코어를 사용하여 값 무시, unique로 고유값 정렬\n",
        "uZ = Z[idx]\n",
        "print(uZ)"
      ]
    },
    {
      "cell_type": "markdown",
      "id": "82aaf21b",
      "metadata": {
        "id": "82aaf21b"
      },
      "source": [
        "#### 97. Considering 2 vectors A & B, write the einsum equivalent of inner, outer, sum, and mul function (★★★)"
      ]
    },
    {
      "cell_type": "code",
      "execution_count": null,
      "id": "cedcefd9",
      "metadata": {
        "id": "cedcefd9"
      },
      "outputs": [],
      "source": [
        "A = np.random.uniform(0,1,10)\n",
        "B = np.random.uniform(0,1,10)\n",
        "\n",
        "print(np.einsum('i->', A))       # i->는 sum과 같다.\n",
        "print(np.einsum('i,i->i', A, B)) # i->i는 A * B와 같다.\n",
        "print(np.einsum('i,i', A, B))    # i, i는 배열의 내적과 같다.\n",
        "print(np.einsum('i,j->ij', A, B))    # j->ij는 배열의 외적과 같다."
      ]
    },
    {
      "cell_type": "markdown",
      "id": "7741e17f",
      "metadata": {
        "id": "7741e17f"
      },
      "source": [
        "#### 98. Considering a path described by two vectors (X,Y), how to sample it using equidistant samples (★★★)?"
      ]
    },
    {
      "cell_type": "code",
      "execution_count": null,
      "id": "0b2432fe",
      "metadata": {
        "id": "0b2432fe"
      },
      "outputs": [],
      "source": [
        "phi = np.arange(0, 10*np.pi, 0.1) # pi는 원주율이다.\n",
        "a = 1\n",
        "x = a*phi*np.cos(phi) # cos는 코사인이다.\n",
        "y = a*phi*np.sin(phi) # sin은 사인이다.\n",
        "\n",
        "dr = (np.diff(x)**2 + np.diff(y)**2)**.5 # 선분의 길이\n",
        "\n",
        "r = np.zeros_like(x)\n",
        "r[1:] = np.cumsum(dr)                # 선분의 길이의 합\n",
        "r_int = np.linspace(0, r.max(), 200) # 정칙공간\n",
        "x_int = np.interp(r_int, r, x)       # 통합경로\n",
        "y_int = np.interp(r_int, r, y)"
      ]
    },
    {
      "cell_type": "markdown",
      "id": "340d6f36",
      "metadata": {
        "id": "340d6f36"
      },
      "source": [
        "#### 99. Given an integer n and a 2D array X, select from X the rows which can be interpreted as draws from a multinomial distribution with n degrees, i.e., the rows which only contain integers and which sum to n. (★★★)"
      ]
    },
    {
      "cell_type": "code",
      "execution_count": null,
      "id": "a75323ae",
      "metadata": {
        "id": "a75323ae",
        "colab": {
          "base_uri": "https://localhost:8080/"
        },
        "outputId": "939f181f-e1bb-47f0-837e-3ed0c99a8237"
      },
      "outputs": [
        {
          "output_type": "stream",
          "name": "stdout",
          "text": [
            "[[2. 0. 1. 1.]]\n"
          ]
        }
      ],
      "source": [
        "X = np.asarray([[1.0, 0.0, 3.0, 8.0],\n",
        "                [2.0, 0.0, 1.0, 1.0],\n",
        "                [1.5, 2.5, 1.0, 0.0]])\n",
        "n = 4\n",
        "M = np.logical_and.reduce(np.mod(X, 1) == 0, axis=-1) # np.logical_and.reduce를 사용해서 X의 나머지가 0일때 true인 값들을 합친다.\n",
        "M &= (X.sum(axis=-1) == n)  # M과 X의행끼리 더한값이 같으면 M에 넣는다.\n",
        "print(X[M])"
      ]
    },
    {
      "cell_type": "markdown",
      "id": "19721849",
      "metadata": {
        "id": "19721849"
      },
      "source": [
        "#### 100. Compute bootstrapped 95% confidence intervals for the mean of a 1D array X (i.e., resample the elements of an array with replacement N times, compute the mean of each sample, and then compute percentiles over the means). (★★★)"
      ]
    },
    {
      "cell_type": "code",
      "execution_count": null,
      "id": "87309c6f",
      "metadata": {
        "id": "87309c6f",
        "colab": {
          "base_uri": "https://localhost:8080/"
        },
        "outputId": "c2dc206d-0341-4704-adf4-b93e5de35c50"
      },
      "outputs": [
        {
          "output_type": "stream",
          "name": "stdout",
          "text": [
            "[-0.04184574  0.3540292 ]\n"
          ]
        }
      ],
      "source": [
        "X = np.random.randn(100)\n",
        "N = 1000\n",
        "idx = np.random.randint(0, X.size, (N, X.size)) # 100 * 1000 크기의 배열 생성\n",
        "means = X[idx].mean(axis=1) # 배열 X에 인덱스에 idx값을 넣어 평균계산\n",
        "confint = np.percentile(means, [2.5, 97.5]) # means축을따라 2.5 ,97.5번째 백분위수 계산\n",
        "print(confint)"
      ]
    },
    {
      "cell_type": "code",
      "source": [
        ""
      ],
      "metadata": {
        "id": "Evry5NzU5cP8"
      },
      "id": "Evry5NzU5cP8",
      "execution_count": null,
      "outputs": []
    }
  ],
  "metadata": {
    "colab": {
      "name": "2019250033_윤혜진_8차과제",
      "provenance": [],
      "collapsed_sections": []
    },
    "language_info": {
      "name": "python"
    },
    "kernelspec": {
      "name": "python3",
      "display_name": "Python 3"
    }
  },
  "nbformat": 4,
  "nbformat_minor": 5
}