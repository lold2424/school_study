{
  "nbformat": 4,
  "nbformat_minor": 0,
  "metadata": {
    "colab": {
      "name": "Untitled0.ipynb",
      "provenance": []
    },
    "kernelspec": {
      "name": "python3",
      "display_name": "Python 3"
    },
    "language_info": {
      "name": "python"
    }
  },
  "cells": [
    {
      "cell_type": "markdown",
      "source": [
        "# 4. 넘파이 어레이\n",
        "\n",
        "**주요 내용**\n",
        "\n",
        "+ 넘파이(numpy)어레이 소개\n",
        "+ 어레이 기초 연산"
      ],
      "metadata": {
        "id": "pdBb7X1_nNNO"
      }
    },
    {
      "cell_type": "markdown",
      "source": [
        "**기본 설정**\n",
        "\n",
        "*numpy* 모듈과 시각화 도구 모듈인 *matplotlib.pyplot*에 대한 기본 설정을 지정한다."
      ],
      "metadata": {
        "id": "9-NfYBP1niQT"
      }
    },
    {
      "cell_type": "code",
      "execution_count": 1,
      "metadata": {
        "id": "rh2vNs9YnHBT"
      },
      "outputs": [],
      "source": [
        "# 넘파이\n",
        "import numpy as np\n",
        "\n",
        "# 램덤 시드\n",
        "np.random.seed(12345)\n",
        "\n",
        "# 어레이 사용되는 부동소수점들의 정확도 지정\n",
        "np.set_printoptions(precision=4, suppress=True)\n",
        "\n",
        "# 파이플롯\n",
        "import matplotlib.pyplot as plt\n",
        "\n",
        "# 도표 크기 지정\n",
        "plt.rc('figure', figsize=(10, 6))"
      ]
    },
    {
      "cell_type": "markdown",
      "source": [
        "# 4.1. 넘파이란?\n",
        "\n",
        "**넘파이**(*numpy*)는 *numerical python*의 줄임말이며, 파이썬 데이터 과학에서 가장 중요한 도구를 제공하는 패키지이다. 넘파이가 제공하는 가장 중 요소는 아래 두 가지이다.\n",
        "\n",
        "+ 다차원 어레이(배열)\n",
        "+ 메모리 효율적인 빠른 어레이 연산\n",
        "\n",
        "넘파이의 기능을 잘 이해한다면 이어서 다룰 판다스(*pandas*) 패키지가 지원하는 모델링이나 통계 등 데이터 과학에 필요한 도구를 매우 쉽게 활용할 수 있다.\n",
        "\n",
        "리스트 연산과 넘파이 어레이 연산의 속도 차이를 아래 코드가 보여준다. 아래 코드는 0부터 999,999까지의 숫자를 각각 두 배하는 연산에 필요한 시간을 측정한다. 결과적으로 넘파이 어레이를 이용한 연산이 50배 정도 빠르다."
      ],
      "metadata": {
        "id": "mJD7q6K4n0NX"
      }
    },
    {
      "cell_type": "code",
      "source": [
        "my_array = np.arange(1000000)\n",
        "my_list = list(range(1000000))"
      ],
      "metadata": {
        "id": "3bYjNyg8nxWN"
      },
      "execution_count": 2,
      "outputs": []
    },
    {
      "cell_type": "markdown",
      "source": [
        "%time 매직 커맨드\n",
        "\n",
        "    %time은 코드 실행시간을 측정하는 IPython의 매직 커맨드 중의 하나이며, 파이썬 자체의 기능이 아니다."
      ],
      "metadata": {
        "id": "evN-n2NkogCv"
      }
    },
    {
      "cell_type": "markdown",
      "source": [
        "아래 코드에서 *my_array * 2는 my_array* 어레이의 항목 각각을 두 배한 값을 항목으로 갖는다."
      ],
      "metadata": {
        "id": "wVPZfSa1oRJm"
      }
    },
    {
      "cell_type": "code",
      "source": [
        "%time for _ in range(10): my_array2 = my_array * 2"
      ],
      "metadata": {
        "colab": {
          "base_uri": "https://localhost:8080/"
        },
        "id": "WicfoyU5oQoc",
        "outputId": "e6566075-0f6b-4ad5-b01e-b49002c8af6e"
      },
      "execution_count": 3,
      "outputs": [
        {
          "output_type": "stream",
          "name": "stdout",
          "text": [
            "CPU times: user 20.4 ms, sys: 3.64 ms, total: 24.1 ms\n",
            "Wall time: 38.5 ms\n"
          ]
        }
      ]
    },
    {
      "cell_type": "code",
      "source": [
        "%time for _ in range(10): my_list2 = [x * 2 for x in my_list]"
      ],
      "metadata": {
        "colab": {
          "base_uri": "https://localhost:8080/"
        },
        "id": "vb6wcwiDoavs",
        "outputId": "79f86123-87b2-4639-fa52-6d755a3096c7"
      },
      "execution_count": 4,
      "outputs": [
        {
          "output_type": "stream",
          "name": "stdout",
          "text": [
            "CPU times: user 797 ms, sys: 209 ms, total: 1.01 s\n",
            "Wall time: 1.04 s\n"
          ]
        }
      ]
    },
    {
      "cell_type": "markdown",
      "source": [
        "# 4.2. 다차원 어레이\n",
        "\n",
        "리스트, 튜플 등을 `np.array()` 함수를 이용하여 어레이로 변환시킬 수 있다."
      ],
      "metadata": {
        "id": "lTcJKXD1o-w4"
      }
    },
    {
      "cell_type": "markdown",
      "source": [
        "### 4.2.1. 1차원 어레이\n",
        "\n",
        "+ 리스트 활용"
      ],
      "metadata": {
        "id": "FxG4qTRtpDsK"
      }
    },
    {
      "cell_type": "code",
      "source": [
        "data1 = [6, 7.5, 8, 0, 1]\n",
        "arr1 = np.array(data1)\n",
        "arr1"
      ],
      "metadata": {
        "colab": {
          "base_uri": "https://localhost:8080/"
        },
        "id": "7nEj7Xw-o8A0",
        "outputId": "cf7710ad-8e00-42ff-a329-9f3e65a575ae"
      },
      "execution_count": 5,
      "outputs": [
        {
          "output_type": "execute_result",
          "data": {
            "text/plain": [
              "array([6. , 7.5, 8. , 0. , 1. ])"
            ]
          },
          "metadata": {},
          "execution_count": 5
        }
      ]
    },
    {
      "cell_type": "markdown",
      "source": [
        "+ 튜플 활용"
      ],
      "metadata": {
        "id": "SYiW7_IGpMFg"
      }
    },
    {
      "cell_type": "code",
      "source": [
        "data1 = (6, 7.5, 8, 0, 1)\n",
        "arr1 = np.array(data1)\n",
        "arr1"
      ],
      "metadata": {
        "colab": {
          "base_uri": "https://localhost:8080/"
        },
        "id": "TvW-RfNxpJ6E",
        "outputId": "9e5e9a6a-e910-485b-ea17-e6f96bbc04cd"
      },
      "execution_count": 6,
      "outputs": [
        {
          "output_type": "execute_result",
          "data": {
            "text/plain": [
              "array([6. , 7.5, 8. , 0. , 1. ])"
            ]
          },
          "metadata": {},
          "execution_count": 6
        }
      ]
    },
    {
      "cell_type": "markdown",
      "source": [
        "*ndarray* 자료형\n",
        "\n",
        "넘파이 어레이의 자료형은 *ndarray*이다."
      ],
      "metadata": {
        "id": "4yQpoaHPpPWX"
      }
    },
    {
      "cell_type": "code",
      "source": [
        "type(arr1)"
      ],
      "metadata": {
        "colab": {
          "base_uri": "https://localhost:8080/"
        },
        "id": "b9KM9Ye8pOSt",
        "outputId": "bca46d3d-cbe1-4a7d-f460-ff95b8f30a2f"
      },
      "execution_count": 7,
      "outputs": [
        {
          "output_type": "execute_result",
          "data": {
            "text/plain": [
              "numpy.ndarray"
            ]
          },
          "metadata": {},
          "execution_count": 7
        }
      ]
    },
    {
      "cell_type": "markdown",
      "source": [
        "### 4.2.2. 2차원 어레이\n",
        "\n",
        "중첩된 리스트나 어레이는 2차원 어레이로 변환된다. 단, 항목으로 사용된 리스트의 길이가 모두 동일해야 한다. 즉, 2차원 어레이는 어레이의 모든 항목이 동일한 크기의 1차원 어레이이다."
      ],
      "metadata": {
        "id": "kF8Q-HXOpUva"
      }
    },
    {
      "cell_type": "code",
      "source": [
        "data2 = [[1, 2, 3, 4], [5, 6, 7, 8]]\n",
        "arr2 = np.array(data2)\n",
        "arr2"
      ],
      "metadata": {
        "colab": {
          "base_uri": "https://localhost:8080/"
        },
        "id": "Xm56_il8pUJc",
        "outputId": "7c3ad31c-b13c-4a51-d0ae-db4ba9600529"
      },
      "execution_count": 8,
      "outputs": [
        {
          "output_type": "execute_result",
          "data": {
            "text/plain": [
              "array([[1, 2, 3, 4],\n",
              "       [5, 6, 7, 8]])"
            ]
          },
          "metadata": {},
          "execution_count": 8
        }
      ]
    },
    {
      "cell_type": "markdown",
      "source": [
        "*shape* 속성\n",
        "\n",
        "어레이 객체의 *shape* 속성은 생성된 어레이의 모양을 저장한다. 행렬 모양의 어레이는 행과 열의 크기를 이용한 튜플로 보여준다. 위 어레이의 모양(shape)은 (2, 4)이다.\n",
        "\n",
        "+ 2: 항목이 두개\n",
        "+ 4: 각각의 항목은 길이가 4인 어레이\n",
        "\n"
      ],
      "metadata": {
        "id": "PmRrcy7ZpfXL"
      }
    },
    {
      "cell_type": "code",
      "source": [
        "arr2.shape"
      ],
      "metadata": {
        "colab": {
          "base_uri": "https://localhost:8080/"
        },
        "id": "s8mteSEBpcB9",
        "outputId": "0e60bb0b-eae5-4580-e86f-012d2dc52668"
      },
      "execution_count": 9,
      "outputs": [
        {
          "output_type": "execute_result",
          "data": {
            "text/plain": [
              "(2, 4)"
            ]
          },
          "metadata": {},
          "execution_count": 9
        }
      ]
    },
    {
      "cell_type": "markdown",
      "source": [
        "*dtype* 속성\n",
        "\n",
        "어레이 객체의 *dtype* 속성은 어레이에 사용된 항목들의 자료형을 저장한다. 어레이의 모든 항목은 동일한 자료형을 가져야 한다. 넘파이는 파이썬 표준에서 제공하는 자료형보다 세분화된 자료형을 지원한다. 예를 들어, float64는 64비트로 구현된 부동소수점 자료형을 가리킨다. 앞으로 계속해서 세분화된 자료형을 만나게 될 것이다.\n",
        "\n",
        "arr2 항목의 자료형은 int64, 즉, 64비트로 구현된 정수 자료형이다."
      ],
      "metadata": {
        "id": "dzsOpRaNpotK"
      }
    },
    {
      "cell_type": "code",
      "source": [
        "arr2.dtype"
      ],
      "metadata": {
        "colab": {
          "base_uri": "https://localhost:8080/"
        },
        "id": "mC7TAmRxpmG-",
        "outputId": "41a9a36f-4ba5-4a1a-8ba7-a24589da2f26"
      },
      "execution_count": 10,
      "outputs": [
        {
          "output_type": "execute_result",
          "data": {
            "text/plain": [
              "dtype('int64')"
            ]
          },
          "metadata": {},
          "execution_count": 10
        }
      ]
    },
    {
      "cell_type": "markdown",
      "source": [
        "*ndim* 속성\n",
        "\n",
        "차원은 ndim 속성에 저장되며, shape에 저정된 튜플의 길이와 동일하다."
      ],
      "metadata": {
        "id": "ho8cFl-jpt8Y"
      }
    },
    {
      "cell_type": "code",
      "source": [
        "arr2.ndim"
      ],
      "metadata": {
        "colab": {
          "base_uri": "https://localhost:8080/"
        },
        "id": "Dldj00Rxps2F",
        "outputId": "6ddd69bd-ff2c-443f-d588-5963a2e3a140"
      },
      "execution_count": 11,
      "outputs": [
        {
          "output_type": "execute_result",
          "data": {
            "text/plain": [
              "2"
            ]
          },
          "metadata": {},
          "execution_count": 11
        }
      ]
    },
    {
      "cell_type": "markdown",
      "source": [
        "1차원 어레이의 차원은 1이다."
      ],
      "metadata": {
        "id": "n4DbcHS8px-E"
      }
    },
    {
      "cell_type": "code",
      "source": [
        "arr1.ndim"
      ],
      "metadata": {
        "colab": {
          "base_uri": "https://localhost:8080/"
        },
        "id": "c92wy0qVpxBt",
        "outputId": "6af500fb-195f-4dd4-d65c-a864691b810b"
      },
      "execution_count": 12,
      "outputs": [
        {
          "output_type": "execute_result",
          "data": {
            "text/plain": [
              "1"
            ]
          },
          "metadata": {},
          "execution_count": 12
        }
      ]
    },
    {
      "cell_type": "markdown",
      "source": [
        "1차원 어레이의 모양은 어레이의 길이 정보를 길이가 1인 튜플로 저장한다.\n",
        "\n"
      ],
      "metadata": {
        "id": "WhEnnkrupztj"
      }
    },
    {
      "cell_type": "code",
      "source": [
        "arr1.shape"
      ],
      "metadata": {
        "colab": {
          "base_uri": "https://localhost:8080/"
        },
        "id": "t4f4G7wjpzJF",
        "outputId": "db5d86fb-6cbf-485d-85cf-017ec358aaae"
      },
      "execution_count": 13,
      "outputs": [
        {
          "output_type": "execute_result",
          "data": {
            "text/plain": [
              "(5,)"
            ]
          },
          "metadata": {},
          "execution_count": 13
        }
      ]
    },
    {
      "cell_type": "markdown",
      "source": [
        "### 4.2.3. 3차원 어레이\n",
        "\n",
        "3차원 이상의 어레이는 처음에는 매우 생소하게 다가올 수 있다. 하지만 이미지 데이터 분석에서 가장 기본으로 사용되는 차원이기에 3차원 어레이에 익숙해져야 한다.\n",
        "\n",
        "(n, m, p) 모양의 3차원 어레이를 이해하는 두 가지 방법은 다음과 같다.\n",
        "\n",
        "+ 방법 1: 바둑판을 (n, m) 크기의 격자로 나누고 각각의 칸에 길이가 p 인 1차원 어레이가 위치하는 것으로 이해하기. 이미지 데이터를 이해하는 최선의 방법임. 아래 그림은 (3, 3, 3) 모양의 어레이이며, (3, 3) 모양의 바둑판에 (R, G, B) 색상 정보를 담은 길이 3인 튜플을 표현함. (RGB 정보는 각각 0과 1 사이의 부동소수점으로 구현됨)\n",
        "\n"
      ],
      "metadata": {
        "id": "mDtLaQpJqInY"
      }
    },
    {
      "cell_type": "markdown",
      "source": [
        "+ 방법 2: (m, p) 모양의 2차원 어레이 n 개를 항목으로 갖는 1차원 어레이로 이해하기."
      ],
      "metadata": {
        "id": "CjYMY1DJqTJW"
      }
    },
    {
      "cell_type": "markdown",
      "source": [
        "1D 어레이"
      ],
      "metadata": {
        "id": "2uQqWMt7qXnj"
      }
    },
    {
      "cell_type": "code",
      "source": [
        "np.array([7, 2, 9, 10])"
      ],
      "metadata": {
        "colab": {
          "base_uri": "https://localhost:8080/"
        },
        "id": "NM6y795vp1tb",
        "outputId": "cb4a4c56-7cb0-4cb4-d039-b7311bc5d352"
      },
      "execution_count": 14,
      "outputs": [
        {
          "output_type": "execute_result",
          "data": {
            "text/plain": [
              "array([ 7,  2,  9, 10])"
            ]
          },
          "metadata": {},
          "execution_count": 14
        }
      ]
    },
    {
      "cell_type": "markdown",
      "source": [
        "2D 어레이"
      ],
      "metadata": {
        "id": "S4JRwx0_qan2"
      }
    },
    {
      "cell_type": "code",
      "source": [
        "np.array([[5.2, 3.0, 4.5], \n",
        "          [9.1, 0.1, 0.3]])"
      ],
      "metadata": {
        "colab": {
          "base_uri": "https://localhost:8080/"
        },
        "id": "jRpQ8fUTqaJd",
        "outputId": "7a58373b-7405-45df-da9d-86521ff22cab"
      },
      "execution_count": 15,
      "outputs": [
        {
          "output_type": "execute_result",
          "data": {
            "text/plain": [
              "array([[5.2, 3. , 4.5],\n",
              "       [9.1, 0.1, 0.3]])"
            ]
          },
          "metadata": {},
          "execution_count": 15
        }
      ]
    },
    {
      "cell_type": "markdown",
      "source": [
        "3D 어레이"
      ],
      "metadata": {
        "id": "Vnf7Lp4rqeTo"
      }
    },
    {
      "cell_type": "code",
      "source": [
        "np.array([[[1, 2],\n",
        "           [4, 3], \n",
        "           [7, 4]],\n",
        "          \n",
        "          [[2, 3], \n",
        "           [9, 10], \n",
        "           [7, 5]],\n",
        "          \n",
        "          [[1, 2], \n",
        "           [3, 4], \n",
        "           [0, 2]],\n",
        "          \n",
        "          [[9, 11], \n",
        "           [6, 5], \n",
        "           [9, 8]]])"
      ],
      "metadata": {
        "colab": {
          "base_uri": "https://localhost:8080/"
        },
        "id": "Y7EvPvqpqc2s",
        "outputId": "d76b3033-bbbc-4c4e-af08-539687d728e1"
      },
      "execution_count": 16,
      "outputs": [
        {
          "output_type": "execute_result",
          "data": {
            "text/plain": [
              "array([[[ 1,  2],\n",
              "        [ 4,  3],\n",
              "        [ 7,  4]],\n",
              "\n",
              "       [[ 2,  3],\n",
              "        [ 9, 10],\n",
              "        [ 7,  5]],\n",
              "\n",
              "       [[ 1,  2],\n",
              "        [ 3,  4],\n",
              "        [ 0,  2]],\n",
              "\n",
              "       [[ 9, 11],\n",
              "        [ 6,  5],\n",
              "        [ 9,  8]]])"
            ]
          },
          "metadata": {},
          "execution_count": 16
        }
      ]
    },
    {
      "cell_type": "markdown",
      "source": [
        "**어레이 객체 생성 함수**\n",
        "\n",
        "배열을 쉽게 생성할 수 있는 함수는 다음과 같으며, 각 함수의 기능은 numpy cheat sheet를 참고한다.\n",
        "\n",
        "+ array()\n",
        "\n",
        "+ asarray()\n",
        "\n",
        "+ arange()\n",
        "\n",
        "+ ones(), ones_lke()\n",
        "\n",
        "+ zeros(), zeros_lke()\n",
        "\n",
        "+ empty(), empty_lke()\n",
        "\n",
        "+ full(), full_lke()\n",
        "\n",
        "+ eye(), identity()"
      ],
      "metadata": {
        "id": "__vCPRApqiAI"
      }
    },
    {
      "cell_type": "markdown",
      "source": [
        "**zeros() 함수**\n",
        "\n",
        "0으로 이루어진 어레이를 생성한다. 1차원인 경우 정수를 인자로 사용한다."
      ],
      "metadata": {
        "id": "ZvkpLQMpqvsT"
      }
    },
    {
      "cell_type": "code",
      "source": [
        "np.zeros(10)"
      ],
      "metadata": {
        "colab": {
          "base_uri": "https://localhost:8080/"
        },
        "id": "svzI25-rqg6M",
        "outputId": "aa28c9c8-0f3b-4999-f65c-d0aa7aeaf046"
      },
      "execution_count": 17,
      "outputs": [
        {
          "output_type": "execute_result",
          "data": {
            "text/plain": [
              "array([0., 0., 0., 0., 0., 0., 0., 0., 0., 0.])"
            ]
          },
          "metadata": {},
          "execution_count": 17
        }
      ]
    },
    {
      "cell_type": "markdown",
      "source": [
        "2차원부터는 정수들의 튜플로 모양을 지정한다."
      ],
      "metadata": {
        "id": "O_34Uhgyqzy0"
      }
    },
    {
      "cell_type": "code",
      "source": [
        "np.zeros((3, 6))"
      ],
      "metadata": {
        "colab": {
          "base_uri": "https://localhost:8080/"
        },
        "id": "3AsVNn5xqwu_",
        "outputId": "e13a0703-0486-4483-9ce0-768195c73325"
      },
      "execution_count": 18,
      "outputs": [
        {
          "output_type": "execute_result",
          "data": {
            "text/plain": [
              "array([[0., 0., 0., 0., 0., 0.],\n",
              "       [0., 0., 0., 0., 0., 0.],\n",
              "       [0., 0., 0., 0., 0., 0.]])"
            ]
          },
          "metadata": {},
          "execution_count": 18
        }
      ]
    },
    {
      "cell_type": "code",
      "source": [
        "np.zeros((4, 3, 2))"
      ],
      "metadata": {
        "colab": {
          "base_uri": "https://localhost:8080/"
        },
        "id": "pFVUcjqhqxe-",
        "outputId": "5b4584b9-f0d0-40f4-d8b6-6099eeeb7f53"
      },
      "execution_count": 20,
      "outputs": [
        {
          "output_type": "execute_result",
          "data": {
            "text/plain": [
              "array([[[0., 0.],\n",
              "        [0., 0.],\n",
              "        [0., 0.]],\n",
              "\n",
              "       [[0., 0.],\n",
              "        [0., 0.],\n",
              "        [0., 0.]],\n",
              "\n",
              "       [[0., 0.],\n",
              "        [0., 0.],\n",
              "        [0., 0.]],\n",
              "\n",
              "       [[0., 0.],\n",
              "        [0., 0.],\n",
              "        [0., 0.]]])"
            ]
          },
          "metadata": {},
          "execution_count": 20
        }
      ]
    },
    {
      "cell_type": "markdown",
      "source": [
        "`empty()` 함수\n",
        "\n",
        "지정된 모양의 어레이를 생성한다. 항목은 초기화되지 않는다. 임의의 값이 보일 수 있지만 실제로는 어떤 항목도 임의로 지정된 게 아니다.다."
      ],
      "metadata": {
        "id": "RnWBW4n8q1fm"
      }
    },
    {
      "cell_type": "code",
      "source": [
        "np.empty((2, 3, 2))"
      ],
      "metadata": {
        "colab": {
          "base_uri": "https://localhost:8080/"
        },
        "id": "P7vGDuXNqyj0",
        "outputId": "9b94835d-48b2-4807-e8be-479511570482"
      },
      "execution_count": 22,
      "outputs": [
        {
          "output_type": "execute_result",
          "data": {
            "text/plain": [
              "array([[[1.5697e-316, 2.5888e-312],\n",
              "        [2.4191e-312, 2.4403e-312],\n",
              "        [8.4880e-313, 9.3368e-313]],\n",
              "\n",
              "       [[1.0822e-312, 6.7904e-313],\n",
              "        [8.7002e-313, 2.1430e+160],\n",
              "        [3.9991e+252, 1.4603e-319]]])"
            ]
          },
          "metadata": {},
          "execution_count": 22
        }
      ]
    },
    {
      "cell_type": "code",
      "source": [
        "np.empty((2, 3, 2)).dtype"
      ],
      "metadata": {
        "colab": {
          "base_uri": "https://localhost:8080/"
        },
        "id": "g1ukqfIeq36E",
        "outputId": "09a3235e-1025-440e-e90d-a2061465e4c5"
      },
      "execution_count": 23,
      "outputs": [
        {
          "output_type": "execute_result",
          "data": {
            "text/plain": [
              "dtype('float64')"
            ]
          },
          "metadata": {},
          "execution_count": 23
        }
      ]
    },
    {
      "cell_type": "markdown",
      "source": [
        "`arange()` 함수\n",
        "\n",
        "`range()` 함수와 유사하게 작동하며 부동소수점 스텝도 지원한다."
      ],
      "metadata": {
        "id": "mSS8LAwZrFP5"
      }
    },
    {
      "cell_type": "code",
      "source": [
        "np.arange(15)"
      ],
      "metadata": {
        "colab": {
          "base_uri": "https://localhost:8080/"
        },
        "id": "C_cwKAmzrDWb",
        "outputId": "3f7936a4-0691-4654-afa1-0e330ba39f47"
      },
      "execution_count": 24,
      "outputs": [
        {
          "output_type": "execute_result",
          "data": {
            "text/plain": [
              "array([ 0,  1,  2,  3,  4,  5,  6,  7,  8,  9, 10, 11, 12, 13, 14])"
            ]
          },
          "metadata": {},
          "execution_count": 24
        }
      ]
    },
    {
      "cell_type": "code",
      "source": [
        "np.arange(0, 1, 0.1)"
      ],
      "metadata": {
        "colab": {
          "base_uri": "https://localhost:8080/"
        },
        "id": "WSE351RprIzr",
        "outputId": "c7f6eb7d-2ce5-4df6-b97c-4e895eeeff5c"
      },
      "execution_count": 25,
      "outputs": [
        {
          "output_type": "execute_result",
          "data": {
            "text/plain": [
              "array([0. , 0.1, 0.2, 0.3, 0.4, 0.5, 0.6, 0.7, 0.8, 0.9])"
            ]
          },
          "metadata": {},
          "execution_count": 25
        }
      ]
    },
    {
      "cell_type": "markdown",
      "source": [
        "# 4.3. dtype: 어레이 항목의 자료형\n",
        "\n",
        "*dtype* 속성은 어레이 항목의 자료형을 담고 있으며, 파이썬 표준 라이브러리에서 제공하는 int, float, str, bool 등을 보다 세분화시킨 자료형을 제공한다."
      ],
      "metadata": {
        "id": "NykFqZRdrkCc"
      }
    },
    {
      "cell_type": "markdown",
      "source": [
        "### 4.3.1. 기본 dtype\n",
        "여기서는 세분화된 자료형을 일일이 설명하기 보다는 예제를 이용하여 세분화된 자료형의 형식을 살펴본다. 자료형 세분화는 주로 자료형의 객체가 사용하는 메모리 용량을 제한하는 형식으로 이루어진다. 이를 통해 보다 메모리 효율적이며 빠른 계산이 가능해졌다.\n",
        "\n",
        "|자료형 | 자료형 | 코드 설명|\n",
        "|--------|---------------|------------|\n",
        "|int8, uint8 | i1, u1 | signed/unsigned 8 비트|\n",
        "|int16, uint16|i2, u2|signed/unsigned 16 비트 정수|\n",
        "|int32, uint32|i4, u4|signed/unsigned 32 비트 정수|\n",
        "|int64, uint64|i8, u8|signed/unsigned 64 비트 정수|\n",
        "|float16|float16|16비트(반 정밀도) 부동소수점|\n",
        "|float32|f4 또는 f|32비트(단 정밀도) 부동소수점|\n",
        "|float64|f8 또는 d|64비트(배 정밀도) 부동소수점|\n",
        "|float128|f16 또는 g|64비트(배 정밀도) 부동소수점|\n",
        "|bool|?|부울 값|\n",
        "|object|O|임의의 파이썬 객체|\n",
        "|string_|S|고정 길이 아스키 문자열, 예) S8, S10|\n",
        "|unicode_|U|고정 길이 유니코드 문자열, 예) U8, U10|"
      ],
      "metadata": {
        "id": "DK4eWjVxroSd"
      }
    },
    {
      "cell_type": "markdown",
      "source": [
        "*float64* 자료형"
      ],
      "metadata": {
        "id": "MynfYjl9tg-Z"
      }
    },
    {
      "cell_type": "code",
      "source": [
        "arr1 = np.array([1, 2, 3], dtype=np.float64)\n",
        "\n",
        "arr1.dtype"
      ],
      "metadata": {
        "colab": {
          "base_uri": "https://localhost:8080/"
        },
        "id": "5nA90awwrJqd",
        "outputId": "d48f0d08-abbe-49a4-b496-f6b60bb29166"
      },
      "execution_count": 26,
      "outputs": [
        {
          "output_type": "execute_result",
          "data": {
            "text/plain": [
              "dtype('float64')"
            ]
          },
          "metadata": {},
          "execution_count": 26
        }
      ]
    },
    {
      "cell_type": "code",
      "source": [
        "arr1 = np.array([1, 2, 3], dtype='f8')\n",
        "\n",
        "arr1.dtype"
      ],
      "metadata": {
        "colab": {
          "base_uri": "https://localhost:8080/"
        },
        "id": "ZPqKaYlBtjuE",
        "outputId": "c00aaf87-f656-42ff-f507-c7b3df12ad04"
      },
      "execution_count": 27,
      "outputs": [
        {
          "output_type": "execute_result",
          "data": {
            "text/plain": [
              "dtype('float64')"
            ]
          },
          "metadata": {},
          "execution_count": 27
        }
      ]
    },
    {
      "cell_type": "markdown",
      "source": [
        "int32 자료형"
      ],
      "metadata": {
        "id": "gX-FXK32tkpx"
      }
    },
    {
      "cell_type": "code",
      "source": [
        "arr2 = np.array([1, 2, 3], dtype=np.int32)\n",
        "\n",
        "arr2.dtype"
      ],
      "metadata": {
        "colab": {
          "base_uri": "https://localhost:8080/"
        },
        "id": "i80d_FVAtk9z",
        "outputId": "520acb11-2aaf-425e-9fc0-f869a2cab94a"
      },
      "execution_count": 28,
      "outputs": [
        {
          "output_type": "execute_result",
          "data": {
            "text/plain": [
              "dtype('int32')"
            ]
          },
          "metadata": {},
          "execution_count": 28
        }
      ]
    },
    {
      "cell_type": "code",
      "source": [
        "arr2 = np.array([1, 2, 3], dtype='i4')\n",
        "\n",
        "arr2.dtype"
      ],
      "metadata": {
        "colab": {
          "base_uri": "https://localhost:8080/"
        },
        "id": "Iz-MAJuvtnhW",
        "outputId": "3fd34ba3-e9b2-4062-d2d9-0a1f7e233323"
      },
      "execution_count": 29,
      "outputs": [
        {
          "output_type": "execute_result",
          "data": {
            "text/plain": [
              "dtype('int32')"
            ]
          },
          "metadata": {},
          "execution_count": 29
        }
      ]
    },
    {
      "cell_type": "markdown",
      "source": [
        "`astype()` 메서드\n",
        "\n",
        "`astype()` 메서드를 이용하여 dtype을 변경할 수 있다. 즉, 항목의 자료형을 강제로 변환시킨다.\n",
        "\n",
        "+ int 자료형을 float 자료형으로 형변환하기"
      ],
      "metadata": {
        "id": "EXo8OmGwtuZs"
      }
    },
    {
      "cell_type": "code",
      "source": [
        "arr = np.array([1, 2, 3, 4, 5])\n",
        "arr.dtype"
      ],
      "metadata": {
        "colab": {
          "base_uri": "https://localhost:8080/"
        },
        "id": "mW2HqAURtors",
        "outputId": "ecc4d483-6e16-4cde-b349-64b7e77d3cc3"
      },
      "execution_count": 32,
      "outputs": [
        {
          "output_type": "execute_result",
          "data": {
            "text/plain": [
              "dtype('int64')"
            ]
          },
          "metadata": {},
          "execution_count": 32
        }
      ]
    },
    {
      "cell_type": "code",
      "source": [
        "float_arr = arr.astype(np.float64)\n",
        "float_arr.dtype"
      ],
      "metadata": {
        "colab": {
          "base_uri": "https://localhost:8080/"
        },
        "id": "Q3Bbqz91tqzz",
        "outputId": "7e264a5a-8af7-4405-e5f7-1eb6cd7a6747"
      },
      "execution_count": 33,
      "outputs": [
        {
          "output_type": "execute_result",
          "data": {
            "text/plain": [
              "dtype('float64')"
            ]
          },
          "metadata": {},
          "execution_count": 33
        }
      ]
    },
    {
      "cell_type": "markdown",
      "source": [
        "+ float 자료형을 int 자료형으로 형변환하기\n",
        "\n",
        " + 소수점 이하는 버림."
      ],
      "metadata": {
        "id": "sJ1b47RItz8Q"
      }
    },
    {
      "cell_type": "code",
      "source": [
        "arr = np.array([3.7, -1.2, -2.6, 0.5, 12.9, 10.1])\n",
        "arr"
      ],
      "metadata": {
        "colab": {
          "base_uri": "https://localhost:8080/"
        },
        "id": "OoN3VDgwtxUc",
        "outputId": "c5336100-1dec-4378-e349-a157d74cd981"
      },
      "execution_count": 34,
      "outputs": [
        {
          "output_type": "execute_result",
          "data": {
            "text/plain": [
              "array([ 3.7, -1.2, -2.6,  0.5, 12.9, 10.1])"
            ]
          },
          "metadata": {},
          "execution_count": 34
        }
      ]
    },
    {
      "cell_type": "code",
      "source": [
        "arr.astype(np.int32)"
      ],
      "metadata": {
        "colab": {
          "base_uri": "https://localhost:8080/"
        },
        "id": "54i7FqLwt6zM",
        "outputId": "c6fa99d3-9210-41f3-c51f-365951092cbe"
      },
      "execution_count": 35,
      "outputs": [
        {
          "output_type": "execute_result",
          "data": {
            "text/plain": [
              "array([ 3, -1, -2,  0, 12, 10], dtype=int32)"
            ]
          },
          "metadata": {},
          "execution_count": 35
        }
      ]
    },
    {
      "cell_type": "markdown",
      "source": [
        "+ 숫자 형식의 문자열을 숫자로 형변환하기"
      ],
      "metadata": {
        "id": "3G0cLcrjt83r"
      }
    },
    {
      "cell_type": "code",
      "source": [
        "numeric_strings = np.array(['1.25', '-9.6', '42'], dtype=np.string_)\n",
        "numeric_strings.dtype"
      ],
      "metadata": {
        "colab": {
          "base_uri": "https://localhost:8080/"
        },
        "id": "hexix0IRt7oL",
        "outputId": "d844f1b3-7573-4e60-af97-5c55eeaddd1f"
      },
      "execution_count": 36,
      "outputs": [
        {
          "output_type": "execute_result",
          "data": {
            "text/plain": [
              "dtype('S4')"
            ]
          },
          "metadata": {},
          "execution_count": 36
        }
      ]
    },
    {
      "cell_type": "code",
      "source": [
        "numeric_strings.astype(float)"
      ],
      "metadata": {
        "colab": {
          "base_uri": "https://localhost:8080/"
        },
        "id": "1dqVAydtt_Rs",
        "outputId": "185ff2ee-307f-4ae2-ba13-1dc785a08cc7"
      },
      "execution_count": 37,
      "outputs": [
        {
          "output_type": "execute_result",
          "data": {
            "text/plain": [
              "array([ 1.25, -9.6 , 42.  ])"
            ]
          },
          "metadata": {},
          "execution_count": 37
        }
      ]
    },
    {
      "cell_type": "markdown",
      "source": [
        "**주의사항**: 문자열 자료형의 크기는 넘파이가 알아서 임의로 정하며, 부동소수점으로 형변환하면 지정된 정밀도에 따라 소수점 이하를 자른다."
      ],
      "metadata": {
        "id": "Yw6FJgLkuAlc"
      }
    },
    {
      "cell_type": "code",
      "source": [
        "numeric_strings2 = np.array(['1.25345', '-9.673811345', '42'], dtype=np.string_)\n",
        "numeric_strings2.dtype"
      ],
      "metadata": {
        "colab": {
          "base_uri": "https://localhost:8080/"
        },
        "id": "ipakThFQt_i8",
        "outputId": "ae8568fe-0517-4601-c80c-df660cae024a"
      },
      "execution_count": 38,
      "outputs": [
        {
          "output_type": "execute_result",
          "data": {
            "text/plain": [
              "dtype('S12')"
            ]
          },
          "metadata": {},
          "execution_count": 38
        }
      ]
    },
    {
      "cell_type": "markdown",
      "source": [
        "앞서 부동소수점 정밀도를 4로 지정했기 때문에 어레이 항목은 모두 소수점 이하 네 자리까지만 보여준다.\n",
        "\n",
        "    np.set_printoptions(precision=4, suppress=True)"
      ],
      "metadata": {
        "id": "VLplAj2suGVm"
      }
    },
    {
      "cell_type": "code",
      "source": [
        "numeric_strings2.astype(float)"
      ],
      "metadata": {
        "colab": {
          "base_uri": "https://localhost:8080/"
        },
        "id": "ZZAe8Fv7uIlM",
        "outputId": "3373e320-d476-4d36-fcec-30a226530498"
      },
      "execution_count": 40,
      "outputs": [
        {
          "output_type": "execute_result",
          "data": {
            "text/plain": [
              "array([ 1.2534, -9.6738, 42.    ])"
            ]
          },
          "metadata": {},
          "execution_count": 40
        }
      ]
    },
    {
      "cell_type": "markdown",
      "source": [
        "부동소수점 정밀도를 변경하면 그에 따라 다르게 결정된다."
      ],
      "metadata": {
        "id": "gqKkMmRLuWxP"
      }
    },
    {
      "cell_type": "code",
      "source": [
        "np.set_printoptions(precision=6, suppress=True)\n",
        "numeric_strings2.astype(float)"
      ],
      "metadata": {
        "colab": {
          "base_uri": "https://localhost:8080/"
        },
        "id": "2qorRK5YuLns",
        "outputId": "2f900b08-0093-44cb-ae1b-56dd6331b51b"
      },
      "execution_count": 42,
      "outputs": [
        {
          "output_type": "execute_result",
          "data": {
            "text/plain": [
              "array([ 1.25345 , -9.673811, 42.      ])"
            ]
          },
          "metadata": {},
          "execution_count": 42
        }
      ]
    },
    {
      "cell_type": "markdown",
      "source": [
        "`astype()` 메서드의 인자로 다른 배열의 dtype 정보를 이용할 수도 있다."
      ],
      "metadata": {
        "id": "KPdR8EHhualX"
      }
    },
    {
      "cell_type": "code",
      "source": [
        "int_array = np.arange(10)\n",
        "int_array.dtype"
      ],
      "metadata": {
        "colab": {
          "base_uri": "https://localhost:8080/"
        },
        "id": "Of5Lm0XjuYP7",
        "outputId": "23127541-7b31-4148-c74d-00d9db4ea0db"
      },
      "execution_count": 43,
      "outputs": [
        {
          "output_type": "execute_result",
          "data": {
            "text/plain": [
              "dtype('int64')"
            ]
          },
          "metadata": {},
          "execution_count": 43
        }
      ]
    },
    {
      "cell_type": "code",
      "source": [
        "calibers = np.array([.22, .270, .357, .380, .44, .50], dtype=np.float64)\n",
        "int_array.astype(calibers.dtype)"
      ],
      "metadata": {
        "colab": {
          "base_uri": "https://localhost:8080/"
        },
        "id": "MD0ujrO0uc4V",
        "outputId": "fc459233-50ec-441c-873e-3a923721ed46"
      },
      "execution_count": 46,
      "outputs": [
        {
          "output_type": "execute_result",
          "data": {
            "text/plain": [
              "array([0., 1., 2., 3., 4., 5., 6., 7., 8., 9.])"
            ]
          },
          "metadata": {},
          "execution_count": 46
        }
      ]
    },
    {
      "cell_type": "markdown",
      "source": [
        "자료형 코드를 이용하여 dtype을 지정할 수 있다. (위 테이블 참조)"
      ],
      "metadata": {
        "id": "1MFtXBF1uibU"
      }
    },
    {
      "cell_type": "code",
      "source": [
        "empty_uint32 = np.empty(8, dtype='u4')\n",
        "empty_uint32.dtype"
      ],
      "metadata": {
        "colab": {
          "base_uri": "https://localhost:8080/"
        },
        "id": "PKvGH7hbue_7",
        "outputId": "140a91fe-d63b-4a6e-fb79-f8076e77badc"
      },
      "execution_count": 47,
      "outputs": [
        {
          "output_type": "execute_result",
          "data": {
            "text/plain": [
              "dtype('uint32')"
            ]
          },
          "metadata": {},
          "execution_count": 47
        }
      ]
    },
    {
      "cell_type": "markdown",
      "source": [
        "### 4.3.2. 사용자 정의 dtype\n",
        "\n",
        "보다 복잡한 구조의 자료형을 `np.dtype()` 함수를 이용하여 정의할 수 있다. 예를 들어 최대 16글자로 이루어진 이름과 세 개의 점수를 담은 튜플로 이루어진 튜클의 자료형은 다음과 같이 정의한다."
      ],
      "metadata": {
        "id": "lNpk7SBSumSG"
      }
    },
    {
      "cell_type": "code",
      "source": [
        "dt = np.dtype([('name', np.unicode_, 16), ('grades', np.float64, 3)])\n",
        "x = np.array([('사라', (60, 70.6, 88.5)), ('존', (80.3, 77.9, 91))], dtype=dt)\n",
        "x.dtype"
      ],
      "metadata": {
        "colab": {
          "base_uri": "https://localhost:8080/"
        },
        "id": "8GLWjHfkugFk",
        "outputId": "db4a0aac-8491-4201-b769-116e39dca5de"
      },
      "execution_count": 48,
      "outputs": [
        {
          "output_type": "execute_result",
          "data": {
            "text/plain": [
              "dtype([('name', '<U16'), ('grades', '<f8', (3,))])"
            ]
          },
          "metadata": {},
          "execution_count": 48
        }
      ]
    },
    {
      "cell_type": "code",
      "source": [
        "x[0]"
      ],
      "metadata": {
        "colab": {
          "base_uri": "https://localhost:8080/"
        },
        "id": "RNgPcU0nusPs",
        "outputId": "248826a0-c2af-43ca-89cd-375f68d62f15"
      },
      "execution_count": 49,
      "outputs": [
        {
          "output_type": "execute_result",
          "data": {
            "text/plain": [
              "('사라', [60. , 70.6, 88.5])"
            ]
          },
          "metadata": {},
          "execution_count": 49
        }
      ]
    },
    {
      "cell_type": "code",
      "source": [
        "x[1]"
      ],
      "metadata": {
        "colab": {
          "base_uri": "https://localhost:8080/"
        },
        "id": "kS1f22NQutqd",
        "outputId": "9ebaf0b5-950a-4e98-cdda-3624bac87ec4"
      },
      "execution_count": 50,
      "outputs": [
        {
          "output_type": "execute_result",
          "data": {
            "text/plain": [
              "('존', [80.3, 77.9, 91. ])"
            ]
          },
          "metadata": {},
          "execution_count": 50
        }
      ]
    },
    {
      "cell_type": "code",
      "source": [
        "x[0]['name']"
      ],
      "metadata": {
        "colab": {
          "base_uri": "https://localhost:8080/",
          "height": 36
        },
        "id": "Z9LR80VTuuQG",
        "outputId": "a0fdb785-3568-4052-de5b-8987a5831112"
      },
      "execution_count": 51,
      "outputs": [
        {
          "output_type": "execute_result",
          "data": {
            "text/plain": [
              "'사라'"
            ],
            "application/vnd.google.colaboratory.intrinsic+json": {
              "type": "string"
            }
          },
          "metadata": {},
          "execution_count": 51
        }
      ]
    },
    {
      "cell_type": "code",
      "source": [
        "x[0]['grades']"
      ],
      "metadata": {
        "colab": {
          "base_uri": "https://localhost:8080/"
        },
        "id": "Zb3aVsn_uu4F",
        "outputId": "7f63d220-91c6-40ba-edbd-af2d2fdb959f"
      },
      "execution_count": 52,
      "outputs": [
        {
          "output_type": "execute_result",
          "data": {
            "text/plain": [
              "array([60. , 70.6, 88.5])"
            ]
          },
          "metadata": {},
          "execution_count": 52
        }
      ]
    },
    {
      "cell_type": "code",
      "source": [
        "type(x[1])"
      ],
      "metadata": {
        "colab": {
          "base_uri": "https://localhost:8080/"
        },
        "id": "Urhp0AcsuviV",
        "outputId": "a0fda1ae-9e16-4f06-e044-619297da1ffa"
      },
      "execution_count": 53,
      "outputs": [
        {
          "output_type": "execute_result",
          "data": {
            "text/plain": [
              "numpy.void"
            ]
          },
          "metadata": {},
          "execution_count": 53
        }
      ]
    },
    {
      "cell_type": "code",
      "source": [
        "type(x[1]['name'])"
      ],
      "metadata": {
        "colab": {
          "base_uri": "https://localhost:8080/"
        },
        "id": "3x_tnEpxuwUU",
        "outputId": "b331230a-bb51-477e-82be-e6ecc4c8f01e"
      },
      "execution_count": 54,
      "outputs": [
        {
          "output_type": "execute_result",
          "data": {
            "text/plain": [
              "numpy.str_"
            ]
          },
          "metadata": {},
          "execution_count": 54
        }
      ]
    },
    {
      "cell_type": "code",
      "source": [
        "type(x[1]['grades'])"
      ],
      "metadata": {
        "colab": {
          "base_uri": "https://localhost:8080/"
        },
        "id": "4CA8q_M-uw87",
        "outputId": "537262db-2fce-4f84-d188-8092a2c1945c"
      },
      "execution_count": 55,
      "outputs": [
        {
          "output_type": "execute_result",
          "data": {
            "text/plain": [
              "numpy.ndarray"
            ]
          },
          "metadata": {},
          "execution_count": 55
        }
      ]
    },
    {
      "cell_type": "markdown",
      "source": [
        "머신러닝과 딥러닝의 점수로 이루어진 어레이의 자료형은 보다 간단하게 정의할 수 있다."
      ],
      "metadata": {
        "id": "nztXihV5u1Qt"
      }
    },
    {
      "cell_type": "code",
      "source": [
        "dt = np.dtype([('ML', np.int32), ('DL', np.int32)])\n",
        "x = np.array([(60, 88), (80, 77)], dtype=dt)\n",
        "x.dtype"
      ],
      "metadata": {
        "colab": {
          "base_uri": "https://localhost:8080/"
        },
        "id": "UDN74Xrkuxyb",
        "outputId": "d8dc0073-b61c-4bfa-a0d5-814f7eddae8f"
      },
      "execution_count": 56,
      "outputs": [
        {
          "output_type": "execute_result",
          "data": {
            "text/plain": [
              "dtype([('ML', '<i4'), ('DL', '<i4')])"
            ]
          },
          "metadata": {},
          "execution_count": 56
        }
      ]
    },
    {
      "cell_type": "code",
      "source": [
        "x[1]"
      ],
      "metadata": {
        "colab": {
          "base_uri": "https://localhost:8080/"
        },
        "id": "MHcP0yC4u2U2",
        "outputId": "09aca801-b996-4b3e-cbd6-884beaf4a511"
      },
      "execution_count": 57,
      "outputs": [
        {
          "output_type": "execute_result",
          "data": {
            "text/plain": [
              "(80, 77)"
            ]
          },
          "metadata": {},
          "execution_count": 57
        }
      ]
    },
    {
      "cell_type": "code",
      "source": [
        "x[1]['ML']"
      ],
      "metadata": {
        "colab": {
          "base_uri": "https://localhost:8080/"
        },
        "id": "VK9UykiNu3f1",
        "outputId": "ef39f467-25cb-42ff-fdb0-a3a837f427dc"
      },
      "execution_count": 58,
      "outputs": [
        {
          "output_type": "execute_result",
          "data": {
            "text/plain": [
              "80"
            ]
          },
          "metadata": {},
          "execution_count": 58
        }
      ]
    },
    {
      "cell_type": "code",
      "source": [
        "x[1]['DL']"
      ],
      "metadata": {
        "colab": {
          "base_uri": "https://localhost:8080/"
        },
        "id": "xmVgU8tCu4Et",
        "outputId": "3e4104da-4fec-43c1-835d-ab926ffc8c44"
      },
      "execution_count": 59,
      "outputs": [
        {
          "output_type": "execute_result",
          "data": {
            "text/plain": [
              "77"
            ]
          },
          "metadata": {},
          "execution_count": 59
        }
      ]
    },
    {
      "cell_type": "markdown",
      "source": [
        "# 4.4. 어레이 연산\n",
        "\n",
        "넘파이 어레이 연산은 기본적으로 항목별로 이루어진다. 즉, 지정된 연산을 동일한 위치의 항목끼리 실행하여 새로운, 동일한 모양의 어레이를 생성한다."
      ],
      "metadata": {
        "id": "BEBC9yMfu6J_"
      }
    },
    {
      "cell_type": "code",
      "source": [
        "arr = np.array([[1., 2., 3.], [4., 5., 6.]])\n",
        "arr"
      ],
      "metadata": {
        "colab": {
          "base_uri": "https://localhost:8080/"
        },
        "id": "Op0pdJRSu47k",
        "outputId": "071efacc-814b-469f-a309-f6696a582ad9"
      },
      "execution_count": 61,
      "outputs": [
        {
          "output_type": "execute_result",
          "data": {
            "text/plain": [
              "array([[1., 2., 3.],\n",
              "       [4., 5., 6.]])"
            ]
          },
          "metadata": {},
          "execution_count": 61
        }
      ]
    },
    {
      "cell_type": "code",
      "source": [
        "arr2 = np.array([[3., 4., 1.], [7., 2., 12.]])\n",
        "arr2"
      ],
      "metadata": {
        "colab": {
          "base_uri": "https://localhost:8080/"
        },
        "id": "BcpVr96uu9TP",
        "outputId": "e04d2da1-200f-47e0-e643-9834d56591eb"
      },
      "execution_count": 62,
      "outputs": [
        {
          "output_type": "execute_result",
          "data": {
            "text/plain": [
              "array([[ 3.,  4.,  1.],\n",
              "       [ 7.,  2., 12.]])"
            ]
          },
          "metadata": {},
          "execution_count": 62
        }
      ]
    },
    {
      "cell_type": "markdown",
      "source": [
        "**덧셈**"
      ],
      "metadata": {
        "id": "5K3M0-AgvArD"
      }
    },
    {
      "cell_type": "code",
      "source": [
        "arr * arr2"
      ],
      "metadata": {
        "colab": {
          "base_uri": "https://localhost:8080/"
        },
        "id": "YJjLpRaPu_jX",
        "outputId": "73fd68a8-ecd0-4c4e-f263-ffebd58a57c6"
      },
      "execution_count": 63,
      "outputs": [
        {
          "output_type": "execute_result",
          "data": {
            "text/plain": [
              "array([[ 3.,  8.,  3.],\n",
              "       [28., 10., 72.]])"
            ]
          },
          "metadata": {},
          "execution_count": 63
        }
      ]
    },
    {
      "cell_type": "code",
      "source": [
        "arr * 2.4"
      ],
      "metadata": {
        "colab": {
          "base_uri": "https://localhost:8080/"
        },
        "id": "dCOqZzCtvAO-",
        "outputId": "ff57f3d0-c5d1-4701-83f1-5a1b44d1b9dc"
      },
      "execution_count": 64,
      "outputs": [
        {
          "output_type": "execute_result",
          "data": {
            "text/plain": [
              "array([[ 2.4,  4.8,  7.2],\n",
              "       [ 9.6, 12. , 14.4]])"
            ]
          },
          "metadata": {},
          "execution_count": 64
        }
      ]
    },
    {
      "cell_type": "markdown",
      "source": [
        "**뺄셈**"
      ],
      "metadata": {
        "id": "bHLwLU86vI-c"
      }
    },
    {
      "cell_type": "code",
      "source": [
        "arr - arr2"
      ],
      "metadata": {
        "colab": {
          "base_uri": "https://localhost:8080/"
        },
        "id": "i0iX5qCVvDgd",
        "outputId": "be44bedc-a319-4c11-d810-4fcf5b2818d0"
      },
      "execution_count": 65,
      "outputs": [
        {
          "output_type": "execute_result",
          "data": {
            "text/plain": [
              "array([[-2., -2.,  2.],\n",
              "       [-3.,  3., -6.]])"
            ]
          },
          "metadata": {},
          "execution_count": 65
        }
      ]
    },
    {
      "cell_type": "code",
      "source": [
        "3.78 - arr"
      ],
      "metadata": {
        "colab": {
          "base_uri": "https://localhost:8080/"
        },
        "id": "X2uuWWSTvKvt",
        "outputId": "510d4e2a-d6b7-49ef-88f2-d14344cb5b3c"
      },
      "execution_count": 66,
      "outputs": [
        {
          "output_type": "execute_result",
          "data": {
            "text/plain": [
              "array([[ 2.78,  1.78,  0.78],\n",
              "       [-0.22, -1.22, -2.22]])"
            ]
          },
          "metadata": {},
          "execution_count": 66
        }
      ]
    },
    {
      "cell_type": "markdown",
      "source": [
        "**나눗셈**\n",
        "\n",
        "나눗셈 또한 항목별로 연산이 이루어진다. 따라서 0이 항목으로 포함되면 오류가 발생한다."
      ],
      "metadata": {
        "id": "nwokd0zDvMHp"
      }
    },
    {
      "cell_type": "code",
      "source": [
        "arr / arr2"
      ],
      "metadata": {
        "colab": {
          "base_uri": "https://localhost:8080/"
        },
        "id": "JepAEh52vLRV",
        "outputId": "91ee2a79-7387-4fab-d8ce-bec7fbd9a124"
      },
      "execution_count": 67,
      "outputs": [
        {
          "output_type": "execute_result",
          "data": {
            "text/plain": [
              "array([[0.333333, 0.5     , 3.      ],\n",
              "       [0.571429, 2.5     , 0.5     ]])"
            ]
          },
          "metadata": {},
          "execution_count": 67
        }
      ]
    },
    {
      "cell_type": "code",
      "source": [
        "arr / 3.2"
      ],
      "metadata": {
        "colab": {
          "base_uri": "https://localhost:8080/"
        },
        "id": "lslRCRFjvOu8",
        "outputId": "29a443a8-bc88-44a5-aaae-8e5fc7c24458"
      },
      "execution_count": 72,
      "outputs": [
        {
          "output_type": "execute_result",
          "data": {
            "text/plain": [
              "array([[0.3125, 0.625 , 0.9375],\n",
              "       [1.25  , 1.5625, 1.875 ]])"
            ]
          },
          "metadata": {},
          "execution_count": 72
        }
      ]
    },
    {
      "cell_type": "markdown",
      "source": [
        "**거듭제곱(지수승)**"
      ],
      "metadata": {
        "id": "fpp7bMpdvTAw"
      }
    },
    {
      "cell_type": "code",
      "source": [
        "arr ** arr2"
      ],
      "metadata": {
        "colab": {
          "base_uri": "https://localhost:8080/"
        },
        "id": "83HH_WEHvQXk",
        "outputId": "28951660-c927-4386-b428-9a37bc2c0e02"
      },
      "execution_count": 73,
      "outputs": [
        {
          "output_type": "execute_result",
          "data": {
            "text/plain": [
              "array([[1.000000e+00, 1.600000e+01, 3.000000e+00],\n",
              "       [1.638400e+04, 2.500000e+01, 2.176782e+09]])"
            ]
          },
          "metadata": {},
          "execution_count": 73
        }
      ]
    },
    {
      "cell_type": "code",
      "source": [
        "2 ** arr"
      ],
      "metadata": {
        "colab": {
          "base_uri": "https://localhost:8080/"
        },
        "id": "XyEDXnrTvU49",
        "outputId": "b8695881-0aa5-4e65-a743-23f5e5138ebe"
      },
      "execution_count": 74,
      "outputs": [
        {
          "output_type": "execute_result",
          "data": {
            "text/plain": [
              "array([[ 2.,  4.,  8.],\n",
              "       [16., 32., 64.]])"
            ]
          },
          "metadata": {},
          "execution_count": 74
        }
      ]
    },
    {
      "cell_type": "code",
      "source": [
        "arr ** 0.5"
      ],
      "metadata": {
        "colab": {
          "base_uri": "https://localhost:8080/"
        },
        "id": "oh2eYVCTvVob",
        "outputId": "aabd9eb0-1746-409e-98b4-5403ae646429"
      },
      "execution_count": 75,
      "outputs": [
        {
          "output_type": "execute_result",
          "data": {
            "text/plain": [
              "array([[1.      , 1.414214, 1.732051],\n",
              "       [2.      , 2.236068, 2.44949 ]])"
            ]
          },
          "metadata": {},
          "execution_count": 75
        }
      ]
    },
    {
      "cell_type": "markdown",
      "source": [
        "**비교**"
      ],
      "metadata": {
        "id": "hT4pxub0vYCj"
      }
    },
    {
      "cell_type": "code",
      "source": [
        "arr2 > arr"
      ],
      "metadata": {
        "colab": {
          "base_uri": "https://localhost:8080/"
        },
        "id": "WvK6z8WbvW5j",
        "outputId": "1cf80909-f6d8-4b30-9108-d2566e2ea02e"
      },
      "execution_count": 76,
      "outputs": [
        {
          "output_type": "execute_result",
          "data": {
            "text/plain": [
              "array([[ True,  True, False],\n",
              "       [ True, False,  True]])"
            ]
          },
          "metadata": {},
          "execution_count": 76
        }
      ]
    },
    {
      "cell_type": "code",
      "source": [
        "arr2 <= arr"
      ],
      "metadata": {
        "colab": {
          "base_uri": "https://localhost:8080/"
        },
        "id": "FJEqmxHLvZwc",
        "outputId": "e33a19da-9c59-460b-cd3f-3ea9a19ae6ea"
      },
      "execution_count": 77,
      "outputs": [
        {
          "output_type": "execute_result",
          "data": {
            "text/plain": [
              "array([[False, False,  True],\n",
              "       [False,  True, False]])"
            ]
          },
          "metadata": {},
          "execution_count": 77
        }
      ]
    },
    {
      "cell_type": "code",
      "source": [
        "1.2 < arr"
      ],
      "metadata": {
        "colab": {
          "base_uri": "https://localhost:8080/"
        },
        "id": "uKfj64uSvaSM",
        "outputId": "89016231-2c62-4249-db91-e702d9a463e2"
      },
      "execution_count": 78,
      "outputs": [
        {
          "output_type": "execute_result",
          "data": {
            "text/plain": [
              "array([[False,  True,  True],\n",
              "       [ True,  True,  True]])"
            ]
          },
          "metadata": {},
          "execution_count": 78
        }
      ]
    },
    {
      "cell_type": "code",
      "source": [
        "1.2 >= arr2"
      ],
      "metadata": {
        "colab": {
          "base_uri": "https://localhost:8080/"
        },
        "id": "-7m5LHOBva6z",
        "outputId": "a2b2185b-babd-4400-c4ad-0ea48d2b659f"
      },
      "execution_count": 79,
      "outputs": [
        {
          "output_type": "execute_result",
          "data": {
            "text/plain": [
              "array([[False, False,  True],\n",
              "       [False, False, False]])"
            ]
          },
          "metadata": {},
          "execution_count": 79
        }
      ]
    },
    {
      "cell_type": "code",
      "source": [
        "arr == arr"
      ],
      "metadata": {
        "colab": {
          "base_uri": "https://localhost:8080/"
        },
        "id": "lRpW-9shvbfL",
        "outputId": "28bc24df-872a-46a2-da3a-94d4b76f87fd"
      },
      "execution_count": 80,
      "outputs": [
        {
          "output_type": "execute_result",
          "data": {
            "text/plain": [
              "array([[ True,  True,  True],\n",
              "       [ True,  True,  True]])"
            ]
          },
          "metadata": {},
          "execution_count": 80
        }
      ]
    },
    {
      "cell_type": "code",
      "source": [
        "arr != arr2"
      ],
      "metadata": {
        "colab": {
          "base_uri": "https://localhost:8080/"
        },
        "id": "OBcbYUjzvcHL",
        "outputId": "f09ea7de-4f65-40a4-9031-249b66ec1f63"
      },
      "execution_count": 81,
      "outputs": [
        {
          "output_type": "execute_result",
          "data": {
            "text/plain": [
              "array([[ True,  True,  True],\n",
              "       [ True,  True,  True]])"
            ]
          },
          "metadata": {},
          "execution_count": 81
        }
      ]
    },
    {
      "cell_type": "markdown",
      "source": [
        "사용 가능한 부울 연산은 아래 세 가지이다.\n",
        "\n",
        "+ ~: 부정(not) 연산자\n",
        "\n",
        "+ &: 논리곱(and) 연산자\n",
        "\n",
        "+ |: 논리합(or) 연산자"
      ],
      "metadata": {
        "id": "qZI2Bu7DvdfS"
      }
    },
    {
      "cell_type": "code",
      "source": [
        "~(arr == arr)"
      ],
      "metadata": {
        "colab": {
          "base_uri": "https://localhost:8080/"
        },
        "id": "KgBRGb99vcxL",
        "outputId": "f66d6c09-9b38-4651-e312-d2dd21d7a3fb"
      },
      "execution_count": 82,
      "outputs": [
        {
          "output_type": "execute_result",
          "data": {
            "text/plain": [
              "array([[False, False, False],\n",
              "       [False, False, False]])"
            ]
          },
          "metadata": {},
          "execution_count": 82
        }
      ]
    },
    {
      "cell_type": "code",
      "source": [
        "(arr == arr) & (arr2 == arr2)"
      ],
      "metadata": {
        "colab": {
          "base_uri": "https://localhost:8080/"
        },
        "id": "u6ZlZytivghd",
        "outputId": "88e716d9-b568-40b4-f0a3-9d3683d0a8a4"
      },
      "execution_count": 83,
      "outputs": [
        {
          "output_type": "execute_result",
          "data": {
            "text/plain": [
              "array([[ True,  True,  True],\n",
              "       [ True,  True,  True]])"
            ]
          },
          "metadata": {},
          "execution_count": 83
        }
      ]
    },
    {
      "cell_type": "code",
      "source": [
        "~(arr == arr) | (arr2 != arr)"
      ],
      "metadata": {
        "colab": {
          "base_uri": "https://localhost:8080/"
        },
        "id": "V4HttwJXvhGU",
        "outputId": "da6d582a-bb26-4dae-fa4b-4ee9fdbcdb8e"
      },
      "execution_count": 84,
      "outputs": [
        {
          "output_type": "execute_result",
          "data": {
            "text/plain": [
              "array([[ True,  True,  True],\n",
              "       [ True,  True,  True]])"
            ]
          },
          "metadata": {},
          "execution_count": 84
        }
      ]
    },
    {
      "cell_type": "code",
      "source": [
        ""
      ],
      "metadata": {
        "id": "jH747iMKvhxd"
      },
      "execution_count": null,
      "outputs": []
    }
  ]
}